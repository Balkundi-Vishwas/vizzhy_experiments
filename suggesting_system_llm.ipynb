{
 "cells": [
  {
   "cell_type": "code",
   "execution_count": 1,
   "id": "19011005",
   "metadata": {},
   "outputs": [
    {
     "data": {
      "text/plain": [
       "'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'"
      ]
     },
     "execution_count": 1,
     "metadata": {},
     "output_type": "execute_result"
    }
   ],
   "source": [
    "import os\n",
    "os.environ.get(\"GROQ_API_KEY\")"
   ]
  },
  {
   "cell_type": "code",
   "execution_count": 14,
   "id": "6c2db5fe",
   "metadata": {},
   "outputs": [
    {
     "name": "stdout",
     "output_type": "stream",
     "text": [
      "To improve overall health, consider increasing SpO2 levels, currently at 90%, to the desired range of ≥ 97% through potential oxygen therapy or respiratory exercises, as all other health parameters are within their target ranges.\n"
     ]
    }
   ],
   "source": [
    "import os\n",
    "\n",
    "from groq import Groq\n",
    "\n",
    "client = Groq(\n",
    "    api_key=os.environ.get(\"GROQ_API_KEY\"),\n",
    ")\n",
    "\n",
    "chat_completion = client.chat.completions.create(\n",
    "    messages=[\n",
    "        {\n",
    "            \"role\": \"system\",\n",
    "            \"content\": \"\"\"\n",
    "                You are a medical assistant AI designed to analyze structured health data. The user will provide:\n",
    "\n",
    "                1. Current values for the following health parameters:\n",
    "                - Heart Rate (bpm)\n",
    "                - Blood Pressure (systolic/diastolic mmHg)\n",
    "                - SpO2 (%)\n",
    "                - ECG (normal/irregular)\n",
    "                - Body Temperature (°C or °F)\n",
    "                - Steps (count)\n",
    "                - Respiratory Rate (breaths/min)\n",
    "                - Stress Level (low/moderate/high)\n",
    "\n",
    "                2. Goal or limit values for each of the above parameters, representing the user's target or healthy range they want to achieve.\n",
    "\n",
    "                Your Tasks:\n",
    "                    - Compare each current value with its corresponding goal.\n",
    "                    - Identify parameters that deviate from the desired goal or healthy range.\n",
    "                    - give me a meaningfull and actionable insight in a single line.\n",
    "            \"\"\"\n",
    "        },\n",
    "        {\n",
    "            \"role\": \"user\",\n",
    "            \"content\": \n",
    "                        \"\"\"\n",
    "                            Heart Rate: 75 bpm, Goal: 70-90 bpm\n",
    "                            BP: 110/75 mmHg, Goal: < 120/80 mmHg\n",
    "                            SpO2: 90%, Goal: ≥ 97%\n",
    "                            ECG: normal, Goal: normal\n",
    "                            Temperature: 37°C, Goal: 36.5-37.2°C\n",
    "                            Steps: 10000, Goal: 10000\n",
    "                            Respiratory Rate: 16, Goal: 12-18\n",
    "                            Stress Level: low, Goal: low\n",
    "                        \"\"\"\n",
    "        }\n",
    "    ],\n",
    "    model=\"llama-3.3-70b-versatile\",\n",
    ")\n",
    "\n",
    "print(chat_completion.choices[0].message.content)"
   ]
  },
  {
   "cell_type": "code",
   "execution_count": null,
   "id": "2912d520",
   "metadata": {},
   "outputs": [],
   "source": [
    "import os\n",
    "\n",
    "from groq import Groq\n",
    "\n",
    "client = Groq(\n",
    "    api_key=os.environ.get(\"GROQ_API_KEY\"),\n",
    ")\n",
    "\n",
    "chat_completion = client.chat.completions.create(\n",
    "    messages=[\n",
    "        {\n",
    "            \"role\": \"system\",\n",
    "            \"content\": \"\"\"\n",
    "You are a medical assistant AI designed to analyze structured health data. The user will provide:\n",
    "\n",
    "1. Current values for the following health parameters:\n",
    "   - Heart Rate (bpm)\n",
    "   - Blood Pressure (systolic/diastolic mmHg)\n",
    "   - SpO2 (%)\n",
    "   - ECG (normal/irregular)\n",
    "   - Body Temperature (°C or °F)\n",
    "   - Steps (count)\n",
    "   - Respiratory Rate (breaths/min)\n",
    "   - Stress Level (low/moderate/high)\n",
    "\n",
    "2. Goal or limit values for each of the above parameters, representing the user’s target or healthy range they want to achieve.\n",
    "\n",
    "Your Tasks:\n",
    "- Compare each current value with its corresponding goal.\n",
    "- Identify parameters that deviate from the desired goal or healthy range.\n",
    "- Explain what’s going wrong for each parameter that is outside the desired range.\n",
    "- Suggest personalized, actionable improvements to bring the parameter closer to the goal. Recommendations may include lifestyle changes, diet, exercise, relaxation techniques, or consulting a medical professional (only if necessary).\n",
    "\n",
    "Use clear, concise, and supportive language. If a parameter is within goal range, acknowledge and encourage consistency.\n",
    "            \"\"\"\n",
    "        },\n",
    "        {\n",
    "            \"role\": \"user\",\n",
    "            \"content\": \"\"\"Heart Rate: 100 bpm, Goal: 70–90 bpm\n",
    "BP: 145/95 mmHg, Goal: < 120/80 mmHg\n",
    "SpO2: 95%, Goal: ≥ 97%\n",
    "ECG: irregular, Goal: normal\n",
    "Temperature: 37.8°C, Goal: 36.5–37.2°C\n",
    "Steps: 3500, Goal: 10000\n",
    "Respiratory Rate: 22, Goal: 12–18\n",
    "Stress Level: high, Goal: low\"\"\"\n",
    "        }\n",
    "    ],\n",
    "    model=\"llama-3-70b-8192\",  # or whatever the latest version is\n",
    ")\n",
    "\n",
    "print(chat_completion.choices[0].message.content)\n"
   ]
  }
 ],
 "metadata": {
  "kernelspec": {
   "display_name": "mcondaenv",
   "language": "python",
   "name": "python3"
  },
  "language_info": {
   "codemirror_mode": {
    "name": "ipython",
    "version": 3
   },
   "file_extension": ".py",
   "mimetype": "text/x-python",
   "name": "python",
   "nbconvert_exporter": "python",
   "pygments_lexer": "ipython3",
   "version": "3.12.4"
  }
 },
 "nbformat": 4,
 "nbformat_minor": 5
}
