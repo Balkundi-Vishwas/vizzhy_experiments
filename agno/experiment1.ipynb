{
 "cells": [
  {
   "cell_type": "code",
   "execution_count": 1,
   "id": "05262a60",
   "metadata": {},
   "outputs": [
    {
     "name": "stdout",
     "output_type": "stream",
     "text": [
      "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\n"
     ]
    }
   ],
   "source": [
    "import os\n",
    "print(os.getenv(\"GROQ_API_KEY\"))"
   ]
  },
  {
   "cell_type": "code",
   "execution_count": null,
   "id": "15fdae53",
   "metadata": {},
   "outputs": [],
   "source": [
    "from agno.agent import Agent, AgentTeam"
   ]
  },
  {
   "cell_type": "code",
   "execution_count": null,
   "id": "6fdf1696",
   "metadata": {},
   "outputs": [],
   "source": [
    "from agno.agent import Agent\n",
    "from agno.models.openai import OpenAIChat\n",
    "from agno.models.groq import Groq\n",
    "from agno.tools.duckduckgo import DuckDuckGoTools\n",
    "from agno.tools.yfinance import YFinanceTools"
   ]
  },
  {
   "cell_type": "code",
   "execution_count": 3,
   "id": "be37565d",
   "metadata": {},
   "outputs": [],
   "source": [
    "import os\n",
    "from dotenv import load_dotenv"
   ]
  },
  {
   "cell_type": "code",
   "execution_count": 8,
   "id": "dc0a177b",
   "metadata": {},
   "outputs": [],
   "source": [
    "# web_agent = Agent(\n",
    "#     name=\"Web Agent\",\n",
    "#     role=\"Search the web for information\",\n",
    "#     model=Groq(id=\"llama-3.3-70b-versatile\"),\n",
    "#     tools=[DuckDuckGoTools()],\n",
    "#     instructions=\"Always include sources\",\n",
    "#     markdown=True,\n",
    "# )\n",
    "web_agent = Agent(\n",
    "    name=\"Web Agent\",\n",
    "    role=\"Search the web for information\",\n",
    "    model=Groq(id=\"llama-3-70b\"),  # no need to pass API key if using env var\n",
    "    tools=[DuckDuckGoTools()],\n",
    "    instructions=(\n",
    "        \"Search for up-to-date information on the web and return a markdown summary. \"\n",
    "        \"DO NOT include code or function calls in the output. \"\n",
    "        \"If stock prices or financial data are needed, just mention the symbol and source.\"\n",
    "    ),\n",
    "    markdown=True,\n",
    ")"
   ]
  },
  {
   "cell_type": "code",
   "execution_count": 5,
   "id": "a4397462",
   "metadata": {},
   "outputs": [],
   "source": [
    "finance_agent = Agent(\n",
    "    name=\"Finance Agent\",\n",
    "    role=\"Get financial data\",\n",
    "    model=Groq(id=\"llama-3.3-70b-versatile\"),\n",
    "    tools=[YFinanceTools(stock_price=True, analyst_recommendations=True, company_info=True)],\n",
    "    instructions=\"Use tables to display data\",\n",
    "    markdown=True,\n",
    ")"
   ]
  },
  {
   "cell_type": "code",
   "execution_count": 6,
   "id": "e6efbd64",
   "metadata": {},
   "outputs": [],
   "source": [
    "agent_team = Agent(\n",
    "    team=[web_agent, finance_agent],\n",
    "    model=Groq(id=\"llama-3.3-70b-versatile\"),\n",
    "    instructions=[\"Always include sources\", \"Use tables to display data\"],\n",
    "    markdown=True,\n",
    ")"
   ]
  },
  {
   "cell_type": "code",
   "execution_count": 7,
   "id": "5f1bc322",
   "metadata": {},
   "outputs": [
    {
     "data": {
      "application/vnd.jupyter.widget-view+json": {
       "model_id": "dfc3d74fb8be4bd082b8fada3ba9c600",
       "version_major": 2,
       "version_minor": 0
      },
      "text/plain": [
       "Output()"
      ]
     },
     "metadata": {},
     "output_type": "display_data"
    },
    {
     "data": {
      "text/html": [
       "<pre style=\"white-space:pre;overflow-x:auto;line-height:normal;font-family:Menlo,'DejaVu Sans Mono',consolas,'Courier New',monospace\"><span style=\"color: #800000; text-decoration-color: #800000; font-weight: bold\">ERROR   </span> Error calling Groq API: Error code: <span style=\"color: #008080; text-decoration-color: #008080; font-weight: bold\">400</span> - <span style=\"font-weight: bold\">{</span><span style=\"color: #008000; text-decoration-color: #008000\">'error'</span>: <span style=\"font-weight: bold\">{</span><span style=\"color: #008000; text-decoration-color: #008000\">'message'</span>: <span style=\"color: #008000; text-decoration-color: #008000\">\"Failed to call a function. Please adjust </span>\n",
       "         <span style=\"color: #008000; text-decoration-color: #008000\">your prompt. See 'failed_generation' for more details.\"</span>, <span style=\"color: #008000; text-decoration-color: #008000\">'type'</span>: <span style=\"color: #008000; text-decoration-color: #008000\">'invalid_request_error'</span>, <span style=\"color: #008000; text-decoration-color: #008000\">'code'</span>:         \n",
       "         <span style=\"color: #008000; text-decoration-color: #008000\">'tool_use_failed'</span>, <span style=\"color: #008000; text-decoration-color: #008000\">'failed_generation'</span>: <span style=\"color: #008000; text-decoration-color: #008000\">'### Financial Data of AI Semiconductor Companies\\nThe following </span> \n",
       "         <span style=\"color: #008000; text-decoration-color: #008000\">table provides financial data for key AI semiconductor companies:\\n\\n| Company | Symbol | Revenue (2022) |</span>\n",
       "         <span style=\"color: #008000; text-decoration-color: #008000\">Net Income (2022) | Current Stock Price |\\n| --- | --- | --- | --- | --- |\\n| NVIDIA | NVDA | $26.91B | </span>  \n",
       "         <span style=\"color: #008000; text-decoration-color: #008000\">$9.75B | &lt;function=get_current_stock_price{\"symbol\": \"NVDA\"}&lt;/function&gt; |\\n| Advanced Micro Devices | AMD </span>\n",
       "         <span style=\"color: #008000; text-decoration-color: #008000\">| $23.60B | $3.96B | &lt;function=get_current_stock_price{\"symbol\": \"AMD\"}&lt;/function&gt; |\\n| Intel | INTC | </span>   \n",
       "         <span style=\"color: #008000; text-decoration-color: #008000\">$79.02B | $19.45B | &lt;function=get_current_stock_price{\"symbol\": \"INTC\"}&lt;/function&gt; |\\n| Qualcomm | QCOM | </span>\n",
       "         <span style=\"color: #008000; text-decoration-color: #008000\">$44.20B | $9.04B | &lt;function=get_current_stock_price{\"symbol\": \"QCOM\"}&lt;/function&gt; |\\n| Micron Technology |</span>\n",
       "         <span style=\"color: #008000; text-decoration-color: #008000\">MU | $30.76B | $7.75B | &lt;function=get_current_stock_price{\"symbol\": \"MU\"}&lt;/function&gt; |\\n\\nPlease note that</span>\n",
       "         <span style=\"color: #008000; text-decoration-color: #008000\">the current stock prices are subject to change and may not reflect the current market value at the time of</span>\n",
       "         <span style=\"color: #008000; text-decoration-color: #008000\">reading. For more up-to-date and detailed information, you can use the following </span>                         \n",
       "         <span style=\"color: #008000; text-decoration-color: #008000\">functions:\\n\\n&lt;function=get_company_info{\"symbol\": </span>                                                       \n",
       "         <span style=\"color: #008000; text-decoration-color: #008000\">\"NVDA\"}&lt;/function&gt;\\n&lt;function=get_company_info{\"symbol\": </span>                                                 \n",
       "         <span style=\"color: #008000; text-decoration-color: #008000\">\"AMD\"}&lt;/function&gt;\\n&lt;function=get_company_info{\"symbol\": </span>                                                  \n",
       "         <span style=\"color: #008000; text-decoration-color: #008000\">\"INTC\"}&lt;/function&gt;\\n&lt;function=get_company_info{\"symbol\": </span>                                                 \n",
       "         <span style=\"color: #008000; text-decoration-color: #008000\">\"QCOM\"}&lt;/function&gt;\\n&lt;function=get_company_info{\"symbol\": \"MU\"}&lt;/function&gt;\\n\\nAdditionally, you can get </span>   \n",
       "         <span style=\"color: #008000; text-decoration-color: #008000\">analyst recommendations for these companies using the following </span>                                          \n",
       "         <span style=\"color: #008000; text-decoration-color: #008000\">functions:\\n\\n&lt;function=get_analyst_recommendations{\"symbol\": </span>                                            \n",
       "         <span style=\"color: #008000; text-decoration-color: #008000\">\"NVDA\"}&lt;/function&gt;\\n&lt;function=get_analyst_recommendations{\"symbol\": </span>                                      \n",
       "         <span style=\"color: #008000; text-decoration-color: #008000\">\"AMD\"}&lt;/function&gt;\\n&lt;function=get_analyst_recommendations{\"symbol\": </span>                                       \n",
       "         <span style=\"color: #008000; text-decoration-color: #008000\">\"INTC\"}&lt;/function&gt;\\n&lt;function=get_analyst_recommendations{\"symbol\": </span>                                      \n",
       "         <span style=\"color: #008000; text-decoration-color: #008000\">\"QCOM\"}&lt;/function&gt;\\n&lt;function=get_analyst_recommendations{\"symbol\": \"MU\"}&lt;/function&gt;'</span><span style=\"font-weight: bold\">}}</span>                   \n",
       "</pre>\n"
      ],
      "text/plain": [
       "\u001b[1;31mERROR   \u001b[0m Error calling Groq API: Error code: \u001b[1;36m400\u001b[0m - \u001b[1m{\u001b[0m\u001b[32m'error'\u001b[0m: \u001b[1m{\u001b[0m\u001b[32m'message'\u001b[0m: \u001b[32m\"Failed to call a function. Please adjust \u001b[0m\n",
       "         \u001b[32myour prompt. See 'failed_generation' for more details.\"\u001b[0m, \u001b[32m'type'\u001b[0m: \u001b[32m'invalid_request_error'\u001b[0m, \u001b[32m'code'\u001b[0m:         \n",
       "         \u001b[32m'tool_use_failed'\u001b[0m, \u001b[32m'failed_generation'\u001b[0m: \u001b[32m'### Financial Data of AI Semiconductor Companies\\nThe following \u001b[0m \n",
       "         \u001b[32mtable provides financial data for key AI semiconductor companies:\\n\\n| Company | Symbol | Revenue \u001b[0m\u001b[32m(\u001b[0m\u001b[32m2022\u001b[0m\u001b[32m)\u001b[0m\u001b[32m |\u001b[0m\n",
       "         \u001b[32mNet Income \u001b[0m\u001b[32m(\u001b[0m\u001b[32m2022\u001b[0m\u001b[32m)\u001b[0m\u001b[32m | Current Stock Price |\\n| --- | --- | --- | --- | --- |\\n| NVIDIA | NVDA | $26.91B | \u001b[0m  \n",
       "         \u001b[32m$9.75B | \u001b[0m\u001b[32m<\u001b[0m\u001b[32mfunction\u001b[0m\u001b[32m=\u001b[0m\u001b[32mget_current_stock_price\u001b[0m\u001b[32m{\u001b[0m\u001b[32m\"symbol\": \"NVDA\"\u001b[0m\u001b[32m}\u001b[0m\u001b[32m</function> |\\n| Advanced Micro Devices | AMD \u001b[0m\n",
       "         \u001b[32m| $23.60B | $3.96B | <\u001b[0m\u001b[32mfunction\u001b[0m\u001b[32m=\u001b[0m\u001b[32mget_current_stock_price\u001b[0m\u001b[32m{\u001b[0m\u001b[32m\"symbol\": \"AMD\"\u001b[0m\u001b[32m}\u001b[0m\u001b[32m</function> |\\n| Intel | INTC | \u001b[0m   \n",
       "         \u001b[32m$79.02B | $19.45B | <\u001b[0m\u001b[32mfunction\u001b[0m\u001b[32m=\u001b[0m\u001b[32mget_current_stock_price\u001b[0m\u001b[32m{\u001b[0m\u001b[32m\"symbol\": \"INTC\"\u001b[0m\u001b[32m}\u001b[0m\u001b[32m</function> |\\n| Qualcomm | QCOM | \u001b[0m\n",
       "         \u001b[32m$44.20B | $9.04B | <\u001b[0m\u001b[32mfunction\u001b[0m\u001b[32m=\u001b[0m\u001b[32mget_current_stock_price\u001b[0m\u001b[32m{\u001b[0m\u001b[32m\"symbol\": \"QCOM\"\u001b[0m\u001b[32m}\u001b[0m\u001b[32m</function> |\\n| Micron Technology |\u001b[0m\n",
       "         \u001b[32mMU | $30.76B | $7.75B | <\u001b[0m\u001b[32mfunction\u001b[0m\u001b[32m=\u001b[0m\u001b[32mget_current_stock_price\u001b[0m\u001b[32m{\u001b[0m\u001b[32m\"symbol\": \"MU\"\u001b[0m\u001b[32m}\u001b[0m\u001b[32m</function> |\\n\\nPlease note that\u001b[0m\n",
       "         \u001b[32mthe current stock prices are subject to change and may not reflect the current market value at the time of\u001b[0m\n",
       "         \u001b[32mreading. For more up-to-date and detailed information, you can use the following \u001b[0m                         \n",
       "         \u001b[32mfunctions:\\n\\n<\u001b[0m\u001b[32mfunction\u001b[0m\u001b[32m=\u001b[0m\u001b[32mget_company_info\u001b[0m\u001b[32m{\u001b[0m\u001b[32m\"symbol\": \u001b[0m                                                       \n",
       "         \u001b[32m\"NVDA\"\u001b[0m\u001b[32m}\u001b[0m\u001b[32m</function>\\n<\u001b[0m\u001b[32mfunction\u001b[0m\u001b[32m=\u001b[0m\u001b[32mget_company_info\u001b[0m\u001b[32m{\u001b[0m\u001b[32m\"symbol\": \u001b[0m                                                 \n",
       "         \u001b[32m\"AMD\"\u001b[0m\u001b[32m}\u001b[0m\u001b[32m</function>\\n<\u001b[0m\u001b[32mfunction\u001b[0m\u001b[32m=\u001b[0m\u001b[32mget_company_info\u001b[0m\u001b[32m{\u001b[0m\u001b[32m\"symbol\": \u001b[0m                                                  \n",
       "         \u001b[32m\"INTC\"\u001b[0m\u001b[32m}\u001b[0m\u001b[32m</function>\\n<\u001b[0m\u001b[32mfunction\u001b[0m\u001b[32m=\u001b[0m\u001b[32mget_company_info\u001b[0m\u001b[32m{\u001b[0m\u001b[32m\"symbol\": \u001b[0m                                                 \n",
       "         \u001b[32m\"QCOM\"\u001b[0m\u001b[32m}\u001b[0m\u001b[32m</function>\\n<\u001b[0m\u001b[32mfunction\u001b[0m\u001b[32m=\u001b[0m\u001b[32mget_company_info\u001b[0m\u001b[32m{\u001b[0m\u001b[32m\"symbol\": \"MU\"\u001b[0m\u001b[32m}\u001b[0m\u001b[32m</function>\\n\\nAdditionally, you can get \u001b[0m   \n",
       "         \u001b[32manalyst recommendations for these companies using the following \u001b[0m                                          \n",
       "         \u001b[32mfunctions:\\n\\n<\u001b[0m\u001b[32mfunction\u001b[0m\u001b[32m=\u001b[0m\u001b[32mget_analyst_recommendations\u001b[0m\u001b[32m{\u001b[0m\u001b[32m\"symbol\": \u001b[0m                                            \n",
       "         \u001b[32m\"NVDA\"\u001b[0m\u001b[32m}\u001b[0m\u001b[32m</function>\\n<\u001b[0m\u001b[32mfunction\u001b[0m\u001b[32m=\u001b[0m\u001b[32mget_analyst_recommendations\u001b[0m\u001b[32m{\u001b[0m\u001b[32m\"symbol\": \u001b[0m                                      \n",
       "         \u001b[32m\"AMD\"\u001b[0m\u001b[32m}\u001b[0m\u001b[32m</function>\\n<\u001b[0m\u001b[32mfunction\u001b[0m\u001b[32m=\u001b[0m\u001b[32mget_analyst_recommendations\u001b[0m\u001b[32m{\u001b[0m\u001b[32m\"symbol\": \u001b[0m                                       \n",
       "         \u001b[32m\"INTC\"\u001b[0m\u001b[32m}\u001b[0m\u001b[32m</function>\\n<\u001b[0m\u001b[32mfunction\u001b[0m\u001b[32m=\u001b[0m\u001b[32mget_analyst_recommendations\u001b[0m\u001b[32m{\u001b[0m\u001b[32m\"symbol\": \u001b[0m                                      \n",
       "         \u001b[32m\"QCOM\"\u001b[0m\u001b[32m}\u001b[0m\u001b[32m</function>\\n<\u001b[0m\u001b[32mfunction\u001b[0m\u001b[32m=\u001b[0m\u001b[32mget_analyst_recommendations\u001b[0m\u001b[32m{\u001b[0m\u001b[32m\"symbol\": \"MU\"\u001b[0m\u001b[32m}\u001b[0m\u001b[32m</function\u001b[0m\u001b[32m>\u001b[0m\u001b[32m'\u001b[0m\u001b[1m}\u001b[0m\u001b[1m}\u001b[0m                   \n"
      ]
     },
     "metadata": {},
     "output_type": "display_data"
    },
    {
     "data": {
      "text/html": [
       "<pre style=\"white-space:pre;overflow-x:auto;line-height:normal;font-family:Menlo,'DejaVu Sans Mono',consolas,'Courier New',monospace\"><span style=\"color: #808000; text-decoration-color: #808000\">WARNING </span> Attempt <span style=\"color: #008080; text-decoration-color: #008080; font-weight: bold\">1</span>/<span style=\"color: #008080; text-decoration-color: #008080; font-weight: bold\">1</span> failed: <span style=\"font-weight: bold\">{</span><span style=\"color: #008000; text-decoration-color: #008000\">\"error\"</span>:<span style=\"font-weight: bold\">{</span><span style=\"color: #008000; text-decoration-color: #008000\">\"message\"</span>:<span style=\"color: #008000; text-decoration-color: #008000\">\"Failed to call a function. Please adjust your prompt. See </span>       \n",
       "         <span style=\"color: #008000; text-decoration-color: #008000\">'failed_generation' for more </span>                                                                             \n",
       "         <span style=\"color: #008000; text-decoration-color: #008000\">details.\"</span>,<span style=\"color: #008000; text-decoration-color: #008000\">\"type\"</span>:<span style=\"color: #008000; text-decoration-color: #008000\">\"invalid_request_error\"</span>,<span style=\"color: #008000; text-decoration-color: #008000\">\"code\"</span>:<span style=\"color: #008000; text-decoration-color: #008000\">\"tool_use_failed\"</span>,<span style=\"color: #008000; text-decoration-color: #008000\">\"failed_generation\"</span>:<span style=\"color: #008000; text-decoration-color: #008000\">\"### Financial Data </span>\n",
       "         <span style=\"color: #008000; text-decoration-color: #008000\">of AI Semiconductor Companies\\nThe following table provides financial data for key AI semiconductor </span>      \n",
       "         <span style=\"color: #008000; text-decoration-color: #008000\">companies:\\n\\n| Company | Symbol | Revenue (2022) | Net Income (2022) | Current Stock Price |\\n| --- | ---</span>\n",
       "         <span style=\"color: #008000; text-decoration-color: #008000\">| --- | --- | --- |\\n| NVIDIA | NVDA | $26.91B | $9.75B | </span>                                                \n",
       "         <span style=\"color: #008000; text-decoration-color: #008000\">\\u003cfunction=get_current_stock_price{\\\"symbol\\\": \\\"NVDA\\\"}\\u003c/function\\u003e |\\n| Advanced Micro </span>    \n",
       "         <span style=\"color: #008000; text-decoration-color: #008000\">Devices | AMD | $23.60B | $3.96B | \\u003cfunction=get_current_stock_price{\\\"symbol\\\": </span>                    \n",
       "         <span style=\"color: #008000; text-decoration-color: #008000\">\\\"AMD\\\"}\\u003c/function\\u003e |\\n| Intel | INTC | $79.02B | $19.45B | </span>                                    \n",
       "         <span style=\"color: #008000; text-decoration-color: #008000\">\\u003cfunction=get_current_stock_price{\\\"symbol\\\": \\\"INTC\\\"}\\u003c/function\\u003e |\\n| Qualcomm | QCOM | </span> \n",
       "         <span style=\"color: #008000; text-decoration-color: #008000\">$44.20B | $9.04B | \\u003cfunction=get_current_stock_price{\\\"symbol\\\": \\\"QCOM\\\"}\\u003c/function\\u003e |\\n| </span>\n",
       "         <span style=\"color: #008000; text-decoration-color: #008000\">Micron Technology | MU | $30.76B | $7.75B | \\u003cfunction=get_current_stock_price{\\\"symbol\\\": </span>           \n",
       "         <span style=\"color: #008000; text-decoration-color: #008000\">\\\"MU\\\"}\\u003c/function\\u003e |\\n\\nPlease note that the current stock prices are subject to change and may </span>\n",
       "         <span style=\"color: #008000; text-decoration-color: #008000\">not reflect the current market value at the time of reading. For more up-to-date and detailed information,</span>\n",
       "         <span style=\"color: #008000; text-decoration-color: #008000\">you can use the following functions:\\n\\n\\u003cfunction=get_company_info{\\\"symbol\\\": </span>                      \n",
       "         <span style=\"color: #008000; text-decoration-color: #008000\">\\\"NVDA\\\"}\\u003c/function\\u003e\\n\\u003cfunction=get_company_info{\\\"symbol\\\": </span>                              \n",
       "         <span style=\"color: #008000; text-decoration-color: #008000\">\\\"AMD\\\"}\\u003c/function\\u003e\\n\\u003cfunction=get_company_info{\\\"symbol\\\": </span>                               \n",
       "         <span style=\"color: #008000; text-decoration-color: #008000\">\\\"INTC\\\"}\\u003c/function\\u003e\\n\\u003cfunction=get_company_info{\\\"symbol\\\": </span>                              \n",
       "         <span style=\"color: #008000; text-decoration-color: #008000\">\\\"QCOM\\\"}\\u003c/function\\u003e\\n\\u003cfunction=get_company_info{\\\"symbol\\\": </span>                              \n",
       "         <span style=\"color: #008000; text-decoration-color: #008000\">\\\"MU\\\"}\\u003c/function\\u003e\\n\\nAdditionally, you can get analyst recommendations for these companies </span>    \n",
       "         <span style=\"color: #008000; text-decoration-color: #008000\">using the following functions:\\n\\n\\u003cfunction=get_analyst_recommendations{\\\"symbol\\\": </span>                 \n",
       "         <span style=\"color: #008000; text-decoration-color: #008000\">\\\"NVDA\\\"}\\u003c/function\\u003e\\n\\u003cfunction=get_analyst_recommendations{\\\"symbol\\\": </span>                   \n",
       "         <span style=\"color: #008000; text-decoration-color: #008000\">\\\"AMD\\\"}\\u003c/function\\u003e\\n\\u003cfunction=get_analyst_recommendations{\\\"symbol\\\": </span>                    \n",
       "         <span style=\"color: #008000; text-decoration-color: #008000\">\\\"INTC\\\"}\\u003c/function\\u003e\\n\\u003cfunction=get_analyst_recommendations{\\\"symbol\\\": </span>                   \n",
       "         <span style=\"color: #008000; text-decoration-color: #008000\">\\\"QCOM\\\"}\\u003c/function\\u003e\\n\\u003cfunction=get_analyst_recommendations{\\\"symbol\\\": </span>                   \n",
       "         <span style=\"color: #008000; text-decoration-color: #008000\">\\\"MU\\\"}\\u003c/function\\u003e\"</span><span style=\"font-weight: bold\">}}</span>                                                                           \n",
       "                                                                                                                   \n",
       "</pre>\n"
      ],
      "text/plain": [
       "\u001b[33mWARNING \u001b[0m Attempt \u001b[1;36m1\u001b[0m/\u001b[1;36m1\u001b[0m failed: \u001b[1m{\u001b[0m\u001b[32m\"error\"\u001b[0m:\u001b[1m{\u001b[0m\u001b[32m\"message\"\u001b[0m:\u001b[32m\"Failed to call a function. Please adjust your prompt. See \u001b[0m       \n",
       "         \u001b[32m'failed_generation' for more \u001b[0m                                                                             \n",
       "         \u001b[32mdetails.\"\u001b[0m,\u001b[32m\"type\"\u001b[0m:\u001b[32m\"invalid_request_error\"\u001b[0m,\u001b[32m\"code\"\u001b[0m:\u001b[32m\"tool_use_failed\"\u001b[0m,\u001b[32m\"failed_generation\"\u001b[0m:\u001b[32m\"### Financial Data \u001b[0m\n",
       "         \u001b[32mof AI Semiconductor Companies\\nThe following table provides financial data for key AI semiconductor \u001b[0m      \n",
       "         \u001b[32mcompanies:\\n\\n| Company | Symbol | Revenue \u001b[0m\u001b[32m(\u001b[0m\u001b[32m2022\u001b[0m\u001b[32m)\u001b[0m\u001b[32m | Net Income \u001b[0m\u001b[32m(\u001b[0m\u001b[32m2022\u001b[0m\u001b[32m)\u001b[0m\u001b[32m | Current Stock Price |\\n| --- | ---\u001b[0m\n",
       "         \u001b[32m| --- | --- | --- |\\n| NVIDIA | NVDA | $26.91B | $9.75B | \u001b[0m                                                \n",
       "         \u001b[32m\\\u001b[0m\u001b[32mu003cfunction\u001b[0m\u001b[32m=\u001b[0m\u001b[32mget_current_stock_price\u001b[0m\u001b[32m{\u001b[0m\u001b[32m\\\"symbol\\\": \\\"NVDA\\\"\u001b[0m\u001b[32m}\u001b[0m\u001b[32m\\u003c/function\\u003e |\\n| Advanced Micro \u001b[0m    \n",
       "         \u001b[32mDevices | AMD | $23.60B | $3.96B | \\\u001b[0m\u001b[32mu003cfunction\u001b[0m\u001b[32m=\u001b[0m\u001b[32mget_current_stock_price\u001b[0m\u001b[32m{\u001b[0m\u001b[32m\\\"symbol\\\": \u001b[0m                    \n",
       "         \u001b[32m\\\"AMD\\\"\u001b[0m\u001b[32m}\u001b[0m\u001b[32m\\u003c/function\\u003e |\\n| Intel | INTC | $79.02B | $19.45B | \u001b[0m                                    \n",
       "         \u001b[32m\\\u001b[0m\u001b[32mu003cfunction\u001b[0m\u001b[32m=\u001b[0m\u001b[32mget_current_stock_price\u001b[0m\u001b[32m{\u001b[0m\u001b[32m\\\"symbol\\\": \\\"INTC\\\"\u001b[0m\u001b[32m}\u001b[0m\u001b[32m\\u003c/function\\u003e |\\n| Qualcomm | QCOM | \u001b[0m \n",
       "         \u001b[32m$44.20B | $9.04B | \\\u001b[0m\u001b[32mu003cfunction\u001b[0m\u001b[32m=\u001b[0m\u001b[32mget_current_stock_price\u001b[0m\u001b[32m{\u001b[0m\u001b[32m\\\"symbol\\\": \\\"QCOM\\\"\u001b[0m\u001b[32m}\u001b[0m\u001b[32m\\u003c/function\\u003e |\\n| \u001b[0m\n",
       "         \u001b[32mMicron Technology | MU | $30.76B | $7.75B | \\\u001b[0m\u001b[32mu003cfunction\u001b[0m\u001b[32m=\u001b[0m\u001b[32mget_current_stock_price\u001b[0m\u001b[32m{\u001b[0m\u001b[32m\\\"symbol\\\": \u001b[0m           \n",
       "         \u001b[32m\\\"MU\\\"\u001b[0m\u001b[32m}\u001b[0m\u001b[32m\\u003c/function\\u003e |\\n\\nPlease note that the current stock prices are subject to change and may \u001b[0m\n",
       "         \u001b[32mnot reflect the current market value at the time of reading. For more up-to-date and detailed information,\u001b[0m\n",
       "         \u001b[32myou can use the following functions:\\n\\n\\\u001b[0m\u001b[32mu003cfunction\u001b[0m\u001b[32m=\u001b[0m\u001b[32mget_company_info\u001b[0m\u001b[32m{\u001b[0m\u001b[32m\\\"symbol\\\": \u001b[0m                      \n",
       "         \u001b[32m\\\"NVDA\\\"\u001b[0m\u001b[32m}\u001b[0m\u001b[32m\\u003c/function\\u003e\\n\\\u001b[0m\u001b[32mu003cfunction\u001b[0m\u001b[32m=\u001b[0m\u001b[32mget_company_info\u001b[0m\u001b[32m{\u001b[0m\u001b[32m\\\"symbol\\\": \u001b[0m                              \n",
       "         \u001b[32m\\\"AMD\\\"\u001b[0m\u001b[32m}\u001b[0m\u001b[32m\\u003c/function\\u003e\\n\\\u001b[0m\u001b[32mu003cfunction\u001b[0m\u001b[32m=\u001b[0m\u001b[32mget_company_info\u001b[0m\u001b[32m{\u001b[0m\u001b[32m\\\"symbol\\\": \u001b[0m                               \n",
       "         \u001b[32m\\\"INTC\\\"\u001b[0m\u001b[32m}\u001b[0m\u001b[32m\\u003c/function\\u003e\\n\\\u001b[0m\u001b[32mu003cfunction\u001b[0m\u001b[32m=\u001b[0m\u001b[32mget_company_info\u001b[0m\u001b[32m{\u001b[0m\u001b[32m\\\"symbol\\\": \u001b[0m                              \n",
       "         \u001b[32m\\\"QCOM\\\"\u001b[0m\u001b[32m}\u001b[0m\u001b[32m\\u003c/function\\u003e\\n\\\u001b[0m\u001b[32mu003cfunction\u001b[0m\u001b[32m=\u001b[0m\u001b[32mget_company_info\u001b[0m\u001b[32m{\u001b[0m\u001b[32m\\\"symbol\\\": \u001b[0m                              \n",
       "         \u001b[32m\\\"MU\\\"\u001b[0m\u001b[32m}\u001b[0m\u001b[32m\\u003c/function\\u003e\\n\\nAdditionally, you can get analyst recommendations for these companies \u001b[0m    \n",
       "         \u001b[32musing the following functions:\\n\\n\\\u001b[0m\u001b[32mu003cfunction\u001b[0m\u001b[32m=\u001b[0m\u001b[32mget_analyst_recommendations\u001b[0m\u001b[32m{\u001b[0m\u001b[32m\\\"symbol\\\": \u001b[0m                 \n",
       "         \u001b[32m\\\"NVDA\\\"\u001b[0m\u001b[32m}\u001b[0m\u001b[32m\\u003c/function\\u003e\\n\\\u001b[0m\u001b[32mu003cfunction\u001b[0m\u001b[32m=\u001b[0m\u001b[32mget_analyst_recommendations\u001b[0m\u001b[32m{\u001b[0m\u001b[32m\\\"symbol\\\": \u001b[0m                   \n",
       "         \u001b[32m\\\"AMD\\\"\u001b[0m\u001b[32m}\u001b[0m\u001b[32m\\u003c/function\\u003e\\n\\\u001b[0m\u001b[32mu003cfunction\u001b[0m\u001b[32m=\u001b[0m\u001b[32mget_analyst_recommendations\u001b[0m\u001b[32m{\u001b[0m\u001b[32m\\\"symbol\\\": \u001b[0m                    \n",
       "         \u001b[32m\\\"INTC\\\"\u001b[0m\u001b[32m}\u001b[0m\u001b[32m\\u003c/function\\u003e\\n\\\u001b[0m\u001b[32mu003cfunction\u001b[0m\u001b[32m=\u001b[0m\u001b[32mget_analyst_recommendations\u001b[0m\u001b[32m{\u001b[0m\u001b[32m\\\"symbol\\\": \u001b[0m                   \n",
       "         \u001b[32m\\\"QCOM\\\"\u001b[0m\u001b[32m}\u001b[0m\u001b[32m\\u003c/function\\u003e\\n\\\u001b[0m\u001b[32mu003cfunction\u001b[0m\u001b[32m=\u001b[0m\u001b[32mget_analyst_recommendations\u001b[0m\u001b[32m{\u001b[0m\u001b[32m\\\"symbol\\\": \u001b[0m                   \n",
       "         \u001b[32m\\\"MU\\\"\u001b[0m\u001b[32m}\u001b[0m\u001b[32m\\u003c/function\\u003e\"\u001b[0m\u001b[1m}\u001b[0m\u001b[1m}\u001b[0m                                                                           \n",
       "                                                                                                                   \n"
      ]
     },
     "metadata": {},
     "output_type": "display_data"
    },
    {
     "data": {
      "text/html": [
       "<pre style=\"white-space:pre;overflow-x:auto;line-height:normal;font-family:Menlo,'DejaVu Sans Mono',consolas,'Courier New',monospace\"><span style=\"color: #800000; text-decoration-color: #800000; font-weight: bold\">ERROR   </span> Failed after <span style=\"color: #008080; text-decoration-color: #008080; font-weight: bold\">1</span> attempts. Last error using <span style=\"color: #800080; text-decoration-color: #800080; font-weight: bold\">Groq</span><span style=\"font-weight: bold\">(</span>llama-<span style=\"color: #008080; text-decoration-color: #008080; font-weight: bold\">3.3</span>-70b-versatile<span style=\"font-weight: bold\">)</span>                                   \n",
       "</pre>\n"
      ],
      "text/plain": [
       "\u001b[1;31mERROR   \u001b[0m Failed after \u001b[1;36m1\u001b[0m attempts. Last error using \u001b[1;35mGroq\u001b[0m\u001b[1m(\u001b[0mllama-\u001b[1;36m3.3\u001b[0m-70b-versatile\u001b[1m)\u001b[0m                                   \n"
      ]
     },
     "metadata": {},
     "output_type": "display_data"
    },
    {
     "data": {
      "text/html": [
       "<pre style=\"white-space:pre;overflow-x:auto;line-height:normal;font-family:Menlo,'DejaVu Sans Mono',consolas,'Courier New',monospace\"><span style=\"color: #808000; text-decoration-color: #808000\">WARNING </span> Attempt <span style=\"color: #008080; text-decoration-color: #008080; font-weight: bold\">1</span>/<span style=\"color: #008080; text-decoration-color: #008080; font-weight: bold\">1</span> failed: <span style=\"font-weight: bold\">{</span><span style=\"color: #008000; text-decoration-color: #008000\">\"error\"</span>:<span style=\"font-weight: bold\">{</span><span style=\"color: #008000; text-decoration-color: #008000\">\"message\"</span>:<span style=\"color: #008000; text-decoration-color: #008000\">\"Failed to call a function. Please adjust your prompt. See </span>       \n",
       "         <span style=\"color: #008000; text-decoration-color: #008000\">'failed_generation' for more </span>                                                                             \n",
       "         <span style=\"color: #008000; text-decoration-color: #008000\">details.\"</span>,<span style=\"color: #008000; text-decoration-color: #008000\">\"type\"</span>:<span style=\"color: #008000; text-decoration-color: #008000\">\"invalid_request_error\"</span>,<span style=\"color: #008000; text-decoration-color: #008000\">\"code\"</span>:<span style=\"color: #008000; text-decoration-color: #008000\">\"tool_use_failed\"</span>,<span style=\"color: #008000; text-decoration-color: #008000\">\"failed_generation\"</span>:<span style=\"color: #008000; text-decoration-color: #008000\">\"### Financial Data </span>\n",
       "         <span style=\"color: #008000; text-decoration-color: #008000\">of AI Semiconductor Companies\\nThe following table provides financial data for key AI semiconductor </span>      \n",
       "         <span style=\"color: #008000; text-decoration-color: #008000\">companies:\\n\\n| Company | Symbol | Revenue (2022) | Net Income (2022) | Current Stock Price |\\n| --- | ---</span>\n",
       "         <span style=\"color: #008000; text-decoration-color: #008000\">| --- | --- | --- |\\n| NVIDIA | NVDA | $26.91B | $9.75B | </span>                                                \n",
       "         <span style=\"color: #008000; text-decoration-color: #008000\">\\u003cfunction=get_current_stock_price{\\\"symbol\\\": \\\"NVDA\\\"}\\u003c/function\\u003e |\\n| Advanced Micro </span>    \n",
       "         <span style=\"color: #008000; text-decoration-color: #008000\">Devices | AMD | $23.60B | $3.96B | \\u003cfunction=get_current_stock_price{\\\"symbol\\\": </span>                    \n",
       "         <span style=\"color: #008000; text-decoration-color: #008000\">\\\"AMD\\\"}\\u003c/function\\u003e |\\n| Intel | INTC | $79.02B | $19.45B | </span>                                    \n",
       "         <span style=\"color: #008000; text-decoration-color: #008000\">\\u003cfunction=get_current_stock_price{\\\"symbol\\\": \\\"INTC\\\"}\\u003c/function\\u003e |\\n| Qualcomm | QCOM | </span> \n",
       "         <span style=\"color: #008000; text-decoration-color: #008000\">$44.20B | $9.04B | \\u003cfunction=get_current_stock_price{\\\"symbol\\\": \\\"QCOM\\\"}\\u003c/function\\u003e |\\n| </span>\n",
       "         <span style=\"color: #008000; text-decoration-color: #008000\">Micron Technology | MU | $30.76B | $7.75B | \\u003cfunction=get_current_stock_price{\\\"symbol\\\": </span>           \n",
       "         <span style=\"color: #008000; text-decoration-color: #008000\">\\\"MU\\\"}\\u003c/function\\u003e |\\n\\nPlease note that the current stock prices are subject to change and may </span>\n",
       "         <span style=\"color: #008000; text-decoration-color: #008000\">not reflect the current market value at the time of reading. For more up-to-date and detailed information,</span>\n",
       "         <span style=\"color: #008000; text-decoration-color: #008000\">you can use the following functions:\\n\\n\\u003cfunction=get_company_info{\\\"symbol\\\": </span>                      \n",
       "         <span style=\"color: #008000; text-decoration-color: #008000\">\\\"NVDA\\\"}\\u003c/function\\u003e\\n\\u003cfunction=get_company_info{\\\"symbol\\\": </span>                              \n",
       "         <span style=\"color: #008000; text-decoration-color: #008000\">\\\"AMD\\\"}\\u003c/function\\u003e\\n\\u003cfunction=get_company_info{\\\"symbol\\\": </span>                               \n",
       "         <span style=\"color: #008000; text-decoration-color: #008000\">\\\"INTC\\\"}\\u003c/function\\u003e\\n\\u003cfunction=get_company_info{\\\"symbol\\\": </span>                              \n",
       "         <span style=\"color: #008000; text-decoration-color: #008000\">\\\"QCOM\\\"}\\u003c/function\\u003e\\n\\u003cfunction=get_company_info{\\\"symbol\\\": </span>                              \n",
       "         <span style=\"color: #008000; text-decoration-color: #008000\">\\\"MU\\\"}\\u003c/function\\u003e\\n\\nAdditionally, you can get analyst recommendations for these companies </span>    \n",
       "         <span style=\"color: #008000; text-decoration-color: #008000\">using the following functions:\\n\\n\\u003cfunction=get_analyst_recommendations{\\\"symbol\\\": </span>                 \n",
       "         <span style=\"color: #008000; text-decoration-color: #008000\">\\\"NVDA\\\"}\\u003c/function\\u003e\\n\\u003cfunction=get_analyst_recommendations{\\\"symbol\\\": </span>                   \n",
       "         <span style=\"color: #008000; text-decoration-color: #008000\">\\\"AMD\\\"}\\u003c/function\\u003e\\n\\u003cfunction=get_analyst_recommendations{\\\"symbol\\\": </span>                    \n",
       "         <span style=\"color: #008000; text-decoration-color: #008000\">\\\"INTC\\\"}\\u003c/function\\u003e\\n\\u003cfunction=get_analyst_recommendations{\\\"symbol\\\": </span>                   \n",
       "         <span style=\"color: #008000; text-decoration-color: #008000\">\\\"QCOM\\\"}\\u003c/function\\u003e\\n\\u003cfunction=get_analyst_recommendations{\\\"symbol\\\": </span>                   \n",
       "         <span style=\"color: #008000; text-decoration-color: #008000\">\\\"MU\\\"}\\u003c/function\\u003e\"</span><span style=\"font-weight: bold\">}}</span>                                                                           \n",
       "                                                                                                                   \n",
       "</pre>\n"
      ],
      "text/plain": [
       "\u001b[33mWARNING \u001b[0m Attempt \u001b[1;36m1\u001b[0m/\u001b[1;36m1\u001b[0m failed: \u001b[1m{\u001b[0m\u001b[32m\"error\"\u001b[0m:\u001b[1m{\u001b[0m\u001b[32m\"message\"\u001b[0m:\u001b[32m\"Failed to call a function. Please adjust your prompt. See \u001b[0m       \n",
       "         \u001b[32m'failed_generation' for more \u001b[0m                                                                             \n",
       "         \u001b[32mdetails.\"\u001b[0m,\u001b[32m\"type\"\u001b[0m:\u001b[32m\"invalid_request_error\"\u001b[0m,\u001b[32m\"code\"\u001b[0m:\u001b[32m\"tool_use_failed\"\u001b[0m,\u001b[32m\"failed_generation\"\u001b[0m:\u001b[32m\"### Financial Data \u001b[0m\n",
       "         \u001b[32mof AI Semiconductor Companies\\nThe following table provides financial data for key AI semiconductor \u001b[0m      \n",
       "         \u001b[32mcompanies:\\n\\n| Company | Symbol | Revenue \u001b[0m\u001b[32m(\u001b[0m\u001b[32m2022\u001b[0m\u001b[32m)\u001b[0m\u001b[32m | Net Income \u001b[0m\u001b[32m(\u001b[0m\u001b[32m2022\u001b[0m\u001b[32m)\u001b[0m\u001b[32m | Current Stock Price |\\n| --- | ---\u001b[0m\n",
       "         \u001b[32m| --- | --- | --- |\\n| NVIDIA | NVDA | $26.91B | $9.75B | \u001b[0m                                                \n",
       "         \u001b[32m\\\u001b[0m\u001b[32mu003cfunction\u001b[0m\u001b[32m=\u001b[0m\u001b[32mget_current_stock_price\u001b[0m\u001b[32m{\u001b[0m\u001b[32m\\\"symbol\\\": \\\"NVDA\\\"\u001b[0m\u001b[32m}\u001b[0m\u001b[32m\\u003c/function\\u003e |\\n| Advanced Micro \u001b[0m    \n",
       "         \u001b[32mDevices | AMD | $23.60B | $3.96B | \\\u001b[0m\u001b[32mu003cfunction\u001b[0m\u001b[32m=\u001b[0m\u001b[32mget_current_stock_price\u001b[0m\u001b[32m{\u001b[0m\u001b[32m\\\"symbol\\\": \u001b[0m                    \n",
       "         \u001b[32m\\\"AMD\\\"\u001b[0m\u001b[32m}\u001b[0m\u001b[32m\\u003c/function\\u003e |\\n| Intel | INTC | $79.02B | $19.45B | \u001b[0m                                    \n",
       "         \u001b[32m\\\u001b[0m\u001b[32mu003cfunction\u001b[0m\u001b[32m=\u001b[0m\u001b[32mget_current_stock_price\u001b[0m\u001b[32m{\u001b[0m\u001b[32m\\\"symbol\\\": \\\"INTC\\\"\u001b[0m\u001b[32m}\u001b[0m\u001b[32m\\u003c/function\\u003e |\\n| Qualcomm | QCOM | \u001b[0m \n",
       "         \u001b[32m$44.20B | $9.04B | \\\u001b[0m\u001b[32mu003cfunction\u001b[0m\u001b[32m=\u001b[0m\u001b[32mget_current_stock_price\u001b[0m\u001b[32m{\u001b[0m\u001b[32m\\\"symbol\\\": \\\"QCOM\\\"\u001b[0m\u001b[32m}\u001b[0m\u001b[32m\\u003c/function\\u003e |\\n| \u001b[0m\n",
       "         \u001b[32mMicron Technology | MU | $30.76B | $7.75B | \\\u001b[0m\u001b[32mu003cfunction\u001b[0m\u001b[32m=\u001b[0m\u001b[32mget_current_stock_price\u001b[0m\u001b[32m{\u001b[0m\u001b[32m\\\"symbol\\\": \u001b[0m           \n",
       "         \u001b[32m\\\"MU\\\"\u001b[0m\u001b[32m}\u001b[0m\u001b[32m\\u003c/function\\u003e |\\n\\nPlease note that the current stock prices are subject to change and may \u001b[0m\n",
       "         \u001b[32mnot reflect the current market value at the time of reading. For more up-to-date and detailed information,\u001b[0m\n",
       "         \u001b[32myou can use the following functions:\\n\\n\\\u001b[0m\u001b[32mu003cfunction\u001b[0m\u001b[32m=\u001b[0m\u001b[32mget_company_info\u001b[0m\u001b[32m{\u001b[0m\u001b[32m\\\"symbol\\\": \u001b[0m                      \n",
       "         \u001b[32m\\\"NVDA\\\"\u001b[0m\u001b[32m}\u001b[0m\u001b[32m\\u003c/function\\u003e\\n\\\u001b[0m\u001b[32mu003cfunction\u001b[0m\u001b[32m=\u001b[0m\u001b[32mget_company_info\u001b[0m\u001b[32m{\u001b[0m\u001b[32m\\\"symbol\\\": \u001b[0m                              \n",
       "         \u001b[32m\\\"AMD\\\"\u001b[0m\u001b[32m}\u001b[0m\u001b[32m\\u003c/function\\u003e\\n\\\u001b[0m\u001b[32mu003cfunction\u001b[0m\u001b[32m=\u001b[0m\u001b[32mget_company_info\u001b[0m\u001b[32m{\u001b[0m\u001b[32m\\\"symbol\\\": \u001b[0m                               \n",
       "         \u001b[32m\\\"INTC\\\"\u001b[0m\u001b[32m}\u001b[0m\u001b[32m\\u003c/function\\u003e\\n\\\u001b[0m\u001b[32mu003cfunction\u001b[0m\u001b[32m=\u001b[0m\u001b[32mget_company_info\u001b[0m\u001b[32m{\u001b[0m\u001b[32m\\\"symbol\\\": \u001b[0m                              \n",
       "         \u001b[32m\\\"QCOM\\\"\u001b[0m\u001b[32m}\u001b[0m\u001b[32m\\u003c/function\\u003e\\n\\\u001b[0m\u001b[32mu003cfunction\u001b[0m\u001b[32m=\u001b[0m\u001b[32mget_company_info\u001b[0m\u001b[32m{\u001b[0m\u001b[32m\\\"symbol\\\": \u001b[0m                              \n",
       "         \u001b[32m\\\"MU\\\"\u001b[0m\u001b[32m}\u001b[0m\u001b[32m\\u003c/function\\u003e\\n\\nAdditionally, you can get analyst recommendations for these companies \u001b[0m    \n",
       "         \u001b[32musing the following functions:\\n\\n\\\u001b[0m\u001b[32mu003cfunction\u001b[0m\u001b[32m=\u001b[0m\u001b[32mget_analyst_recommendations\u001b[0m\u001b[32m{\u001b[0m\u001b[32m\\\"symbol\\\": \u001b[0m                 \n",
       "         \u001b[32m\\\"NVDA\\\"\u001b[0m\u001b[32m}\u001b[0m\u001b[32m\\u003c/function\\u003e\\n\\\u001b[0m\u001b[32mu003cfunction\u001b[0m\u001b[32m=\u001b[0m\u001b[32mget_analyst_recommendations\u001b[0m\u001b[32m{\u001b[0m\u001b[32m\\\"symbol\\\": \u001b[0m                   \n",
       "         \u001b[32m\\\"AMD\\\"\u001b[0m\u001b[32m}\u001b[0m\u001b[32m\\u003c/function\\u003e\\n\\\u001b[0m\u001b[32mu003cfunction\u001b[0m\u001b[32m=\u001b[0m\u001b[32mget_analyst_recommendations\u001b[0m\u001b[32m{\u001b[0m\u001b[32m\\\"symbol\\\": \u001b[0m                    \n",
       "         \u001b[32m\\\"INTC\\\"\u001b[0m\u001b[32m}\u001b[0m\u001b[32m\\u003c/function\\u003e\\n\\\u001b[0m\u001b[32mu003cfunction\u001b[0m\u001b[32m=\u001b[0m\u001b[32mget_analyst_recommendations\u001b[0m\u001b[32m{\u001b[0m\u001b[32m\\\"symbol\\\": \u001b[0m                   \n",
       "         \u001b[32m\\\"QCOM\\\"\u001b[0m\u001b[32m}\u001b[0m\u001b[32m\\u003c/function\\u003e\\n\\\u001b[0m\u001b[32mu003cfunction\u001b[0m\u001b[32m=\u001b[0m\u001b[32mget_analyst_recommendations\u001b[0m\u001b[32m{\u001b[0m\u001b[32m\\\"symbol\\\": \u001b[0m                   \n",
       "         \u001b[32m\\\"MU\\\"\u001b[0m\u001b[32m}\u001b[0m\u001b[32m\\u003c/function\\u003e\"\u001b[0m\u001b[1m}\u001b[0m\u001b[1m}\u001b[0m                                                                           \n",
       "                                                                                                                   \n"
      ]
     },
     "metadata": {},
     "output_type": "display_data"
    },
    {
     "data": {
      "text/html": [
       "<pre style=\"white-space:pre;overflow-x:auto;line-height:normal;font-family:Menlo,'DejaVu Sans Mono',consolas,'Courier New',monospace\"><span style=\"color: #800000; text-decoration-color: #800000; font-weight: bold\">ERROR   </span> Failed after <span style=\"color: #008080; text-decoration-color: #008080; font-weight: bold\">1</span> attempts. Last error using <span style=\"color: #800080; text-decoration-color: #800080; font-weight: bold\">Groq</span><span style=\"font-weight: bold\">(</span>llama-<span style=\"color: #008080; text-decoration-color: #008080; font-weight: bold\">3.3</span>-70b-versatile<span style=\"font-weight: bold\">)</span>                                   \n",
       "</pre>\n"
      ],
      "text/plain": [
       "\u001b[1;31mERROR   \u001b[0m Failed after \u001b[1;36m1\u001b[0m attempts. Last error using \u001b[1;35mGroq\u001b[0m\u001b[1m(\u001b[0mllama-\u001b[1;36m3.3\u001b[0m-70b-versatile\u001b[1m)\u001b[0m                                   \n"
      ]
     },
     "metadata": {},
     "output_type": "display_data"
    },
    {
     "data": {
      "text/html": [
       "<pre style=\"white-space:pre;overflow-x:auto;line-height:normal;font-family:Menlo,'DejaVu Sans Mono',consolas,'Courier New',monospace\"></pre>\n"
      ],
      "text/plain": []
     },
     "metadata": {},
     "output_type": "display_data"
    },
    {
     "ename": "ModelProviderError",
     "evalue": "{\"error\":{\"message\":\"Failed to call a function. Please adjust your prompt. See 'failed_generation' for more details.\",\"type\":\"invalid_request_error\",\"code\":\"tool_use_failed\",\"failed_generation\":\"### Financial Data of AI Semiconductor Companies\\nThe following table provides financial data for key AI semiconductor companies:\\n\\n| Company | Symbol | Revenue (2022) | Net Income (2022) | Current Stock Price |\\n| --- | --- | --- | --- | --- |\\n| NVIDIA | NVDA | $26.91B | $9.75B | \\u003cfunction=get_current_stock_price{\\\"symbol\\\": \\\"NVDA\\\"}\\u003c/function\\u003e |\\n| Advanced Micro Devices | AMD | $23.60B | $3.96B | \\u003cfunction=get_current_stock_price{\\\"symbol\\\": \\\"AMD\\\"}\\u003c/function\\u003e |\\n| Intel | INTC | $79.02B | $19.45B | \\u003cfunction=get_current_stock_price{\\\"symbol\\\": \\\"INTC\\\"}\\u003c/function\\u003e |\\n| Qualcomm | QCOM | $44.20B | $9.04B | \\u003cfunction=get_current_stock_price{\\\"symbol\\\": \\\"QCOM\\\"}\\u003c/function\\u003e |\\n| Micron Technology | MU | $30.76B | $7.75B | \\u003cfunction=get_current_stock_price{\\\"symbol\\\": \\\"MU\\\"}\\u003c/function\\u003e |\\n\\nPlease note that the current stock prices are subject to change and may not reflect the current market value at the time of reading. For more up-to-date and detailed information, you can use the following functions:\\n\\n\\u003cfunction=get_company_info{\\\"symbol\\\": \\\"NVDA\\\"}\\u003c/function\\u003e\\n\\u003cfunction=get_company_info{\\\"symbol\\\": \\\"AMD\\\"}\\u003c/function\\u003e\\n\\u003cfunction=get_company_info{\\\"symbol\\\": \\\"INTC\\\"}\\u003c/function\\u003e\\n\\u003cfunction=get_company_info{\\\"symbol\\\": \\\"QCOM\\\"}\\u003c/function\\u003e\\n\\u003cfunction=get_company_info{\\\"symbol\\\": \\\"MU\\\"}\\u003c/function\\u003e\\n\\nAdditionally, you can get analyst recommendations for these companies using the following functions:\\n\\n\\u003cfunction=get_analyst_recommendations{\\\"symbol\\\": \\\"NVDA\\\"}\\u003c/function\\u003e\\n\\u003cfunction=get_analyst_recommendations{\\\"symbol\\\": \\\"AMD\\\"}\\u003c/function\\u003e\\n\\u003cfunction=get_analyst_recommendations{\\\"symbol\\\": \\\"INTC\\\"}\\u003c/function\\u003e\\n\\u003cfunction=get_analyst_recommendations{\\\"symbol\\\": \\\"QCOM\\\"}\\u003c/function\\u003e\\n\\u003cfunction=get_analyst_recommendations{\\\"symbol\\\": \\\"MU\\\"}\\u003c/function\\u003e\"}}\n",
     "output_type": "error",
     "traceback": [
      "\u001b[31m---------------------------------------------------------------------------\u001b[39m",
      "\u001b[31mBadRequestError\u001b[39m                           Traceback (most recent call last)",
      "\u001b[36mFile \u001b[39m\u001b[32mc:\\Users\\Vishwas\\miniconda3\\envs\\mcondaenv\\Lib\\site-packages\\agno\\models\\groq\\groq.py:253\u001b[39m, in \u001b[36mGroq.invoke\u001b[39m\u001b[34m(self, messages)\u001b[39m\n\u001b[32m    252\u001b[39m \u001b[38;5;28;01mtry\u001b[39;00m:\n\u001b[32m--> \u001b[39m\u001b[32m253\u001b[39m     \u001b[38;5;28;01mreturn\u001b[39;00m \u001b[38;5;28;43mself\u001b[39;49m\u001b[43m.\u001b[49m\u001b[43mget_client\u001b[49m\u001b[43m(\u001b[49m\u001b[43m)\u001b[49m\u001b[43m.\u001b[49m\u001b[43mchat\u001b[49m\u001b[43m.\u001b[49m\u001b[43mcompletions\u001b[49m\u001b[43m.\u001b[49m\u001b[43mcreate\u001b[49m\u001b[43m(\u001b[49m\n\u001b[32m    254\u001b[39m \u001b[43m        \u001b[49m\u001b[43mmodel\u001b[49m\u001b[43m=\u001b[49m\u001b[38;5;28;43mself\u001b[39;49m\u001b[43m.\u001b[49m\u001b[43mid\u001b[49m\u001b[43m,\u001b[49m\n\u001b[32m    255\u001b[39m \u001b[43m        \u001b[49m\u001b[43mmessages\u001b[49m\u001b[43m=\u001b[49m\u001b[43m[\u001b[49m\u001b[38;5;28;43mself\u001b[39;49m\u001b[43m.\u001b[49m\u001b[43mformat_message\u001b[49m\u001b[43m(\u001b[49m\u001b[43mm\u001b[49m\u001b[43m)\u001b[49m\u001b[43m \u001b[49m\u001b[38;5;28;43;01mfor\u001b[39;49;00m\u001b[43m \u001b[49m\u001b[43mm\u001b[49m\u001b[43m \u001b[49m\u001b[38;5;129;43;01min\u001b[39;49;00m\u001b[43m \u001b[49m\u001b[43mmessages\u001b[49m\u001b[43m]\u001b[49m\u001b[43m,\u001b[49m\u001b[43m  \u001b[49m\u001b[38;5;66;43;03m# type: ignore\u001b[39;49;00m\n\u001b[32m    256\u001b[39m \u001b[43m        \u001b[49m\u001b[43m*\u001b[49m\u001b[43m*\u001b[49m\u001b[38;5;28;43mself\u001b[39;49m\u001b[43m.\u001b[49m\u001b[43mrequest_kwargs\u001b[49m\u001b[43m,\u001b[49m\n\u001b[32m    257\u001b[39m \u001b[43m    \u001b[49m\u001b[43m)\u001b[49m\n\u001b[32m    258\u001b[39m \u001b[38;5;28;01mexcept\u001b[39;00m (APIResponseValidationError, APIStatusError) \u001b[38;5;28;01mas\u001b[39;00m e:\n",
      "\u001b[36mFile \u001b[39m\u001b[32mc:\\Users\\Vishwas\\miniconda3\\envs\\mcondaenv\\Lib\\site-packages\\groq\\resources\\chat\\completions.py:322\u001b[39m, in \u001b[36mCompletions.create\u001b[39m\u001b[34m(self, messages, model, frequency_penalty, function_call, functions, logit_bias, logprobs, max_completion_tokens, max_tokens, n, parallel_tool_calls, presence_penalty, reasoning_format, response_format, seed, service_tier, stop, stream, temperature, tool_choice, tools, top_logprobs, top_p, user, extra_headers, extra_query, extra_body, timeout)\u001b[39m\n\u001b[32m    200\u001b[39m \u001b[38;5;250m\u001b[39m\u001b[33;03m\"\"\"\u001b[39;00m\n\u001b[32m    201\u001b[39m \u001b[33;03mCreates a model response for the given chat conversation.\u001b[39;00m\n\u001b[32m    202\u001b[39m \n\u001b[32m   (...)\u001b[39m\u001b[32m    320\u001b[39m \u001b[33;03m  timeout: Override the client-level default timeout for this request, in seconds\u001b[39;00m\n\u001b[32m    321\u001b[39m \u001b[33;03m\"\"\"\u001b[39;00m\n\u001b[32m--> \u001b[39m\u001b[32m322\u001b[39m \u001b[38;5;28;01mreturn\u001b[39;00m \u001b[38;5;28;43mself\u001b[39;49m\u001b[43m.\u001b[49m\u001b[43m_post\u001b[49m\u001b[43m(\u001b[49m\n\u001b[32m    323\u001b[39m \u001b[43m    \u001b[49m\u001b[33;43m\"\u001b[39;49m\u001b[33;43m/openai/v1/chat/completions\u001b[39;49m\u001b[33;43m\"\u001b[39;49m\u001b[43m,\u001b[49m\n\u001b[32m    324\u001b[39m \u001b[43m    \u001b[49m\u001b[43mbody\u001b[49m\u001b[43m=\u001b[49m\u001b[43mmaybe_transform\u001b[49m\u001b[43m(\u001b[49m\n\u001b[32m    325\u001b[39m \u001b[43m        \u001b[49m\u001b[43m{\u001b[49m\n\u001b[32m    326\u001b[39m \u001b[43m            \u001b[49m\u001b[33;43m\"\u001b[39;49m\u001b[33;43mmessages\u001b[39;49m\u001b[33;43m\"\u001b[39;49m\u001b[43m:\u001b[49m\u001b[43m \u001b[49m\u001b[43mmessages\u001b[49m\u001b[43m,\u001b[49m\n\u001b[32m    327\u001b[39m \u001b[43m            \u001b[49m\u001b[33;43m\"\u001b[39;49m\u001b[33;43mmodel\u001b[39;49m\u001b[33;43m\"\u001b[39;49m\u001b[43m:\u001b[49m\u001b[43m \u001b[49m\u001b[43mmodel\u001b[49m\u001b[43m,\u001b[49m\n\u001b[32m    328\u001b[39m \u001b[43m            \u001b[49m\u001b[33;43m\"\u001b[39;49m\u001b[33;43mfrequency_penalty\u001b[39;49m\u001b[33;43m\"\u001b[39;49m\u001b[43m:\u001b[49m\u001b[43m \u001b[49m\u001b[43mfrequency_penalty\u001b[49m\u001b[43m,\u001b[49m\n\u001b[32m    329\u001b[39m \u001b[43m            \u001b[49m\u001b[33;43m\"\u001b[39;49m\u001b[33;43mfunction_call\u001b[39;49m\u001b[33;43m\"\u001b[39;49m\u001b[43m:\u001b[49m\u001b[43m \u001b[49m\u001b[43mfunction_call\u001b[49m\u001b[43m,\u001b[49m\n\u001b[32m    330\u001b[39m \u001b[43m            \u001b[49m\u001b[33;43m\"\u001b[39;49m\u001b[33;43mfunctions\u001b[39;49m\u001b[33;43m\"\u001b[39;49m\u001b[43m:\u001b[49m\u001b[43m \u001b[49m\u001b[43mfunctions\u001b[49m\u001b[43m,\u001b[49m\n\u001b[32m    331\u001b[39m \u001b[43m            \u001b[49m\u001b[33;43m\"\u001b[39;49m\u001b[33;43mlogit_bias\u001b[39;49m\u001b[33;43m\"\u001b[39;49m\u001b[43m:\u001b[49m\u001b[43m \u001b[49m\u001b[43mlogit_bias\u001b[49m\u001b[43m,\u001b[49m\n\u001b[32m    332\u001b[39m \u001b[43m            \u001b[49m\u001b[33;43m\"\u001b[39;49m\u001b[33;43mlogprobs\u001b[39;49m\u001b[33;43m\"\u001b[39;49m\u001b[43m:\u001b[49m\u001b[43m \u001b[49m\u001b[43mlogprobs\u001b[49m\u001b[43m,\u001b[49m\n\u001b[32m    333\u001b[39m \u001b[43m            \u001b[49m\u001b[33;43m\"\u001b[39;49m\u001b[33;43mmax_completion_tokens\u001b[39;49m\u001b[33;43m\"\u001b[39;49m\u001b[43m:\u001b[49m\u001b[43m \u001b[49m\u001b[43mmax_completion_tokens\u001b[49m\u001b[43m,\u001b[49m\n\u001b[32m    334\u001b[39m \u001b[43m            \u001b[49m\u001b[33;43m\"\u001b[39;49m\u001b[33;43mmax_tokens\u001b[39;49m\u001b[33;43m\"\u001b[39;49m\u001b[43m:\u001b[49m\u001b[43m \u001b[49m\u001b[43mmax_tokens\u001b[49m\u001b[43m,\u001b[49m\n\u001b[32m    335\u001b[39m \u001b[43m            \u001b[49m\u001b[33;43m\"\u001b[39;49m\u001b[33;43mn\u001b[39;49m\u001b[33;43m\"\u001b[39;49m\u001b[43m:\u001b[49m\u001b[43m \u001b[49m\u001b[43mn\u001b[49m\u001b[43m,\u001b[49m\n\u001b[32m    336\u001b[39m \u001b[43m            \u001b[49m\u001b[33;43m\"\u001b[39;49m\u001b[33;43mparallel_tool_calls\u001b[39;49m\u001b[33;43m\"\u001b[39;49m\u001b[43m:\u001b[49m\u001b[43m \u001b[49m\u001b[43mparallel_tool_calls\u001b[49m\u001b[43m,\u001b[49m\n\u001b[32m    337\u001b[39m \u001b[43m            \u001b[49m\u001b[33;43m\"\u001b[39;49m\u001b[33;43mpresence_penalty\u001b[39;49m\u001b[33;43m\"\u001b[39;49m\u001b[43m:\u001b[49m\u001b[43m \u001b[49m\u001b[43mpresence_penalty\u001b[49m\u001b[43m,\u001b[49m\n\u001b[32m    338\u001b[39m \u001b[43m            \u001b[49m\u001b[33;43m\"\u001b[39;49m\u001b[33;43mreasoning_format\u001b[39;49m\u001b[33;43m\"\u001b[39;49m\u001b[43m:\u001b[49m\u001b[43m \u001b[49m\u001b[43mreasoning_format\u001b[49m\u001b[43m,\u001b[49m\n\u001b[32m    339\u001b[39m \u001b[43m            \u001b[49m\u001b[33;43m\"\u001b[39;49m\u001b[33;43mresponse_format\u001b[39;49m\u001b[33;43m\"\u001b[39;49m\u001b[43m:\u001b[49m\u001b[43m \u001b[49m\u001b[43mresponse_format\u001b[49m\u001b[43m,\u001b[49m\n\u001b[32m    340\u001b[39m \u001b[43m            \u001b[49m\u001b[33;43m\"\u001b[39;49m\u001b[33;43mseed\u001b[39;49m\u001b[33;43m\"\u001b[39;49m\u001b[43m:\u001b[49m\u001b[43m \u001b[49m\u001b[43mseed\u001b[49m\u001b[43m,\u001b[49m\n\u001b[32m    341\u001b[39m \u001b[43m            \u001b[49m\u001b[33;43m\"\u001b[39;49m\u001b[33;43mservice_tier\u001b[39;49m\u001b[33;43m\"\u001b[39;49m\u001b[43m:\u001b[49m\u001b[43m \u001b[49m\u001b[43mservice_tier\u001b[49m\u001b[43m,\u001b[49m\n\u001b[32m    342\u001b[39m \u001b[43m            \u001b[49m\u001b[33;43m\"\u001b[39;49m\u001b[33;43mstop\u001b[39;49m\u001b[33;43m\"\u001b[39;49m\u001b[43m:\u001b[49m\u001b[43m \u001b[49m\u001b[43mstop\u001b[49m\u001b[43m,\u001b[49m\n\u001b[32m    343\u001b[39m \u001b[43m            \u001b[49m\u001b[33;43m\"\u001b[39;49m\u001b[33;43mstream\u001b[39;49m\u001b[33;43m\"\u001b[39;49m\u001b[43m:\u001b[49m\u001b[43m \u001b[49m\u001b[43mstream\u001b[49m\u001b[43m,\u001b[49m\n\u001b[32m    344\u001b[39m \u001b[43m            \u001b[49m\u001b[33;43m\"\u001b[39;49m\u001b[33;43mtemperature\u001b[39;49m\u001b[33;43m\"\u001b[39;49m\u001b[43m:\u001b[49m\u001b[43m \u001b[49m\u001b[43mtemperature\u001b[49m\u001b[43m,\u001b[49m\n\u001b[32m    345\u001b[39m \u001b[43m            \u001b[49m\u001b[33;43m\"\u001b[39;49m\u001b[33;43mtool_choice\u001b[39;49m\u001b[33;43m\"\u001b[39;49m\u001b[43m:\u001b[49m\u001b[43m \u001b[49m\u001b[43mtool_choice\u001b[49m\u001b[43m,\u001b[49m\n\u001b[32m    346\u001b[39m \u001b[43m            \u001b[49m\u001b[33;43m\"\u001b[39;49m\u001b[33;43mtools\u001b[39;49m\u001b[33;43m\"\u001b[39;49m\u001b[43m:\u001b[49m\u001b[43m \u001b[49m\u001b[43mtools\u001b[49m\u001b[43m,\u001b[49m\n\u001b[32m    347\u001b[39m \u001b[43m            \u001b[49m\u001b[33;43m\"\u001b[39;49m\u001b[33;43mtop_logprobs\u001b[39;49m\u001b[33;43m\"\u001b[39;49m\u001b[43m:\u001b[49m\u001b[43m \u001b[49m\u001b[43mtop_logprobs\u001b[49m\u001b[43m,\u001b[49m\n\u001b[32m    348\u001b[39m \u001b[43m            \u001b[49m\u001b[33;43m\"\u001b[39;49m\u001b[33;43mtop_p\u001b[39;49m\u001b[33;43m\"\u001b[39;49m\u001b[43m:\u001b[49m\u001b[43m \u001b[49m\u001b[43mtop_p\u001b[49m\u001b[43m,\u001b[49m\n\u001b[32m    349\u001b[39m \u001b[43m            \u001b[49m\u001b[33;43m\"\u001b[39;49m\u001b[33;43muser\u001b[39;49m\u001b[33;43m\"\u001b[39;49m\u001b[43m:\u001b[49m\u001b[43m \u001b[49m\u001b[43muser\u001b[49m\u001b[43m,\u001b[49m\n\u001b[32m    350\u001b[39m \u001b[43m        \u001b[49m\u001b[43m}\u001b[49m\u001b[43m,\u001b[49m\n\u001b[32m    351\u001b[39m \u001b[43m        \u001b[49m\u001b[43mcompletion_create_params\u001b[49m\u001b[43m.\u001b[49m\u001b[43mCompletionCreateParams\u001b[49m\u001b[43m,\u001b[49m\n\u001b[32m    352\u001b[39m \u001b[43m    \u001b[49m\u001b[43m)\u001b[49m\u001b[43m,\u001b[49m\n\u001b[32m    353\u001b[39m \u001b[43m    \u001b[49m\u001b[43moptions\u001b[49m\u001b[43m=\u001b[49m\u001b[43mmake_request_options\u001b[49m\u001b[43m(\u001b[49m\n\u001b[32m    354\u001b[39m \u001b[43m        \u001b[49m\u001b[43mextra_headers\u001b[49m\u001b[43m=\u001b[49m\u001b[43mextra_headers\u001b[49m\u001b[43m,\u001b[49m\u001b[43m \u001b[49m\u001b[43mextra_query\u001b[49m\u001b[43m=\u001b[49m\u001b[43mextra_query\u001b[49m\u001b[43m,\u001b[49m\u001b[43m \u001b[49m\u001b[43mextra_body\u001b[49m\u001b[43m=\u001b[49m\u001b[43mextra_body\u001b[49m\u001b[43m,\u001b[49m\u001b[43m \u001b[49m\u001b[43mtimeout\u001b[49m\u001b[43m=\u001b[49m\u001b[43mtimeout\u001b[49m\n\u001b[32m    355\u001b[39m \u001b[43m    \u001b[49m\u001b[43m)\u001b[49m\u001b[43m,\u001b[49m\n\u001b[32m    356\u001b[39m \u001b[43m    \u001b[49m\u001b[43mcast_to\u001b[49m\u001b[43m=\u001b[49m\u001b[43mChatCompletion\u001b[49m\u001b[43m,\u001b[49m\n\u001b[32m    357\u001b[39m \u001b[43m    \u001b[49m\u001b[43mstream\u001b[49m\u001b[43m=\u001b[49m\u001b[43mstream\u001b[49m\u001b[43m \u001b[49m\u001b[38;5;129;43;01mor\u001b[39;49;00m\u001b[43m \u001b[49m\u001b[38;5;28;43;01mFalse\u001b[39;49;00m\u001b[43m,\u001b[49m\n\u001b[32m    358\u001b[39m \u001b[43m    \u001b[49m\u001b[43mstream_cls\u001b[49m\u001b[43m=\u001b[49m\u001b[43mStream\u001b[49m\u001b[43m[\u001b[49m\u001b[43mChatCompletionChunk\u001b[49m\u001b[43m]\u001b[49m\u001b[43m,\u001b[49m\n\u001b[32m    359\u001b[39m \u001b[43m\u001b[49m\u001b[43m)\u001b[49m\n",
      "\u001b[36mFile \u001b[39m\u001b[32mc:\\Users\\Vishwas\\miniconda3\\envs\\mcondaenv\\Lib\\site-packages\\groq\\_base_client.py:1225\u001b[39m, in \u001b[36mSyncAPIClient.post\u001b[39m\u001b[34m(self, path, cast_to, body, options, files, stream, stream_cls)\u001b[39m\n\u001b[32m   1222\u001b[39m opts = FinalRequestOptions.construct(\n\u001b[32m   1223\u001b[39m     method=\u001b[33m\"\u001b[39m\u001b[33mpost\u001b[39m\u001b[33m\"\u001b[39m, url=path, json_data=body, files=to_httpx_files(files), **options\n\u001b[32m   1224\u001b[39m )\n\u001b[32m-> \u001b[39m\u001b[32m1225\u001b[39m \u001b[38;5;28;01mreturn\u001b[39;00m cast(ResponseT, \u001b[38;5;28;43mself\u001b[39;49m\u001b[43m.\u001b[49m\u001b[43mrequest\u001b[49m\u001b[43m(\u001b[49m\u001b[43mcast_to\u001b[49m\u001b[43m,\u001b[49m\u001b[43m \u001b[49m\u001b[43mopts\u001b[49m\u001b[43m,\u001b[49m\u001b[43m \u001b[49m\u001b[43mstream\u001b[49m\u001b[43m=\u001b[49m\u001b[43mstream\u001b[49m\u001b[43m,\u001b[49m\u001b[43m \u001b[49m\u001b[43mstream_cls\u001b[49m\u001b[43m=\u001b[49m\u001b[43mstream_cls\u001b[49m\u001b[43m)\u001b[49m)\n",
      "\u001b[36mFile \u001b[39m\u001b[32mc:\\Users\\Vishwas\\miniconda3\\envs\\mcondaenv\\Lib\\site-packages\\groq\\_base_client.py:917\u001b[39m, in \u001b[36mSyncAPIClient.request\u001b[39m\u001b[34m(self, cast_to, options, remaining_retries, stream, stream_cls)\u001b[39m\n\u001b[32m    915\u001b[39m     retries_taken = \u001b[32m0\u001b[39m\n\u001b[32m--> \u001b[39m\u001b[32m917\u001b[39m \u001b[38;5;28;01mreturn\u001b[39;00m \u001b[38;5;28;43mself\u001b[39;49m\u001b[43m.\u001b[49m\u001b[43m_request\u001b[49m\u001b[43m(\u001b[49m\n\u001b[32m    918\u001b[39m \u001b[43m    \u001b[49m\u001b[43mcast_to\u001b[49m\u001b[43m=\u001b[49m\u001b[43mcast_to\u001b[49m\u001b[43m,\u001b[49m\n\u001b[32m    919\u001b[39m \u001b[43m    \u001b[49m\u001b[43moptions\u001b[49m\u001b[43m=\u001b[49m\u001b[43moptions\u001b[49m\u001b[43m,\u001b[49m\n\u001b[32m    920\u001b[39m \u001b[43m    \u001b[49m\u001b[43mstream\u001b[49m\u001b[43m=\u001b[49m\u001b[43mstream\u001b[49m\u001b[43m,\u001b[49m\n\u001b[32m    921\u001b[39m \u001b[43m    \u001b[49m\u001b[43mstream_cls\u001b[49m\u001b[43m=\u001b[49m\u001b[43mstream_cls\u001b[49m\u001b[43m,\u001b[49m\n\u001b[32m    922\u001b[39m \u001b[43m    \u001b[49m\u001b[43mretries_taken\u001b[49m\u001b[43m=\u001b[49m\u001b[43mretries_taken\u001b[49m\u001b[43m,\u001b[49m\n\u001b[32m    923\u001b[39m \u001b[43m\u001b[49m\u001b[43m)\u001b[49m\n",
      "\u001b[36mFile \u001b[39m\u001b[32mc:\\Users\\Vishwas\\miniconda3\\envs\\mcondaenv\\Lib\\site-packages\\groq\\_base_client.py:1020\u001b[39m, in \u001b[36mSyncAPIClient._request\u001b[39m\u001b[34m(self, cast_to, options, retries_taken, stream, stream_cls)\u001b[39m\n\u001b[32m   1019\u001b[39m     log.debug(\u001b[33m\"\u001b[39m\u001b[33mRe-raising status error\u001b[39m\u001b[33m\"\u001b[39m)\n\u001b[32m-> \u001b[39m\u001b[32m1020\u001b[39m     \u001b[38;5;28;01mraise\u001b[39;00m \u001b[38;5;28mself\u001b[39m._make_status_error_from_response(err.response) \u001b[38;5;28;01mfrom\u001b[39;00m\u001b[38;5;250m \u001b[39m\u001b[38;5;28;01mNone\u001b[39;00m\n\u001b[32m   1022\u001b[39m \u001b[38;5;28;01mreturn\u001b[39;00m \u001b[38;5;28mself\u001b[39m._process_response(\n\u001b[32m   1023\u001b[39m     cast_to=cast_to,\n\u001b[32m   1024\u001b[39m     options=options,\n\u001b[32m   (...)\u001b[39m\u001b[32m   1028\u001b[39m     retries_taken=retries_taken,\n\u001b[32m   1029\u001b[39m )\n",
      "\u001b[31mBadRequestError\u001b[39m: Error code: 400 - {'error': {'message': \"Failed to call a function. Please adjust your prompt. See 'failed_generation' for more details.\", 'type': 'invalid_request_error', 'code': 'tool_use_failed', 'failed_generation': '### Financial Data of AI Semiconductor Companies\\nThe following table provides financial data for key AI semiconductor companies:\\n\\n| Company | Symbol | Revenue (2022) | Net Income (2022) | Current Stock Price |\\n| --- | --- | --- | --- | --- |\\n| NVIDIA | NVDA | $26.91B | $9.75B | <function=get_current_stock_price{\"symbol\": \"NVDA\"}</function> |\\n| Advanced Micro Devices | AMD | $23.60B | $3.96B | <function=get_current_stock_price{\"symbol\": \"AMD\"}</function> |\\n| Intel | INTC | $79.02B | $19.45B | <function=get_current_stock_price{\"symbol\": \"INTC\"}</function> |\\n| Qualcomm | QCOM | $44.20B | $9.04B | <function=get_current_stock_price{\"symbol\": \"QCOM\"}</function> |\\n| Micron Technology | MU | $30.76B | $7.75B | <function=get_current_stock_price{\"symbol\": \"MU\"}</function> |\\n\\nPlease note that the current stock prices are subject to change and may not reflect the current market value at the time of reading. For more up-to-date and detailed information, you can use the following functions:\\n\\n<function=get_company_info{\"symbol\": \"NVDA\"}</function>\\n<function=get_company_info{\"symbol\": \"AMD\"}</function>\\n<function=get_company_info{\"symbol\": \"INTC\"}</function>\\n<function=get_company_info{\"symbol\": \"QCOM\"}</function>\\n<function=get_company_info{\"symbol\": \"MU\"}</function>\\n\\nAdditionally, you can get analyst recommendations for these companies using the following functions:\\n\\n<function=get_analyst_recommendations{\"symbol\": \"NVDA\"}</function>\\n<function=get_analyst_recommendations{\"symbol\": \"AMD\"}</function>\\n<function=get_analyst_recommendations{\"symbol\": \"INTC\"}</function>\\n<function=get_analyst_recommendations{\"symbol\": \"QCOM\"}</function>\\n<function=get_analyst_recommendations{\"symbol\": \"MU\"}</function>'}}",
      "\nThe above exception was the direct cause of the following exception:\n",
      "\u001b[31mModelProviderError\u001b[39m                        Traceback (most recent call last)",
      "\u001b[36mCell\u001b[39m\u001b[36m \u001b[39m\u001b[32mIn[7]\u001b[39m\u001b[32m, line 1\u001b[39m\n\u001b[32m----> \u001b[39m\u001b[32m1\u001b[39m \u001b[43magent_team\u001b[49m\u001b[43m.\u001b[49m\u001b[43mprint_response\u001b[49m\u001b[43m(\u001b[49m\u001b[33;43m\"\u001b[39;49m\u001b[33;43mWhat\u001b[39;49m\u001b[33;43m'\u001b[39;49m\u001b[33;43ms the market outlook and financial performance of AI semiconductor companies?\u001b[39;49m\u001b[33;43m\"\u001b[39;49m\u001b[43m,\u001b[49m\u001b[43m \u001b[49m\u001b[43mverbose\u001b[49m\u001b[43m=\u001b[49m\u001b[38;5;28;43;01mTrue\u001b[39;49;00m\u001b[43m,\u001b[49m\u001b[43m \u001b[49m\u001b[43mshow_tool_calls\u001b[49m\u001b[43m=\u001b[49m\u001b[38;5;28;43;01mTrue\u001b[39;49;00m\u001b[43m)\u001b[49m\n",
      "\u001b[36mFile \u001b[39m\u001b[32mc:\\Users\\Vishwas\\miniconda3\\envs\\mcondaenv\\Lib\\site-packages\\agno\\agent\\agent.py:4443\u001b[39m, in \u001b[36mAgent.print_response\u001b[39m\u001b[34m(self, message, session_id, user_id, messages, audio, images, videos, files, stream, stream_intermediate_steps, markdown, show_message, show_reasoning, show_full_reasoning, console, tags_to_include_in_markdown, **kwargs)\u001b[39m\n\u001b[32m   4440\u001b[39m     live_log.update(Group(*panels))\n\u001b[32m   4442\u001b[39m \u001b[38;5;66;03m# Run the agent\u001b[39;00m\n\u001b[32m-> \u001b[39m\u001b[32m4443\u001b[39m run_response = \u001b[38;5;28;43mself\u001b[39;49m\u001b[43m.\u001b[49m\u001b[43mrun\u001b[49m\u001b[43m(\u001b[49m\n\u001b[32m   4444\u001b[39m \u001b[43m    \u001b[49m\u001b[43mmessage\u001b[49m\u001b[43m=\u001b[49m\u001b[43mmessage\u001b[49m\u001b[43m,\u001b[49m\n\u001b[32m   4445\u001b[39m \u001b[43m    \u001b[49m\u001b[43mmessages\u001b[49m\u001b[43m=\u001b[49m\u001b[43mmessages\u001b[49m\u001b[43m,\u001b[49m\n\u001b[32m   4446\u001b[39m \u001b[43m    \u001b[49m\u001b[43msession_id\u001b[49m\u001b[43m=\u001b[49m\u001b[43msession_id\u001b[49m\u001b[43m,\u001b[49m\n\u001b[32m   4447\u001b[39m \u001b[43m    \u001b[49m\u001b[43muser_id\u001b[49m\u001b[43m=\u001b[49m\u001b[43muser_id\u001b[49m\u001b[43m,\u001b[49m\n\u001b[32m   4448\u001b[39m \u001b[43m    \u001b[49m\u001b[43maudio\u001b[49m\u001b[43m=\u001b[49m\u001b[43maudio\u001b[49m\u001b[43m,\u001b[49m\n\u001b[32m   4449\u001b[39m \u001b[43m    \u001b[49m\u001b[43mimages\u001b[49m\u001b[43m=\u001b[49m\u001b[43mimages\u001b[49m\u001b[43m,\u001b[49m\n\u001b[32m   4450\u001b[39m \u001b[43m    \u001b[49m\u001b[43mvideos\u001b[49m\u001b[43m=\u001b[49m\u001b[43mvideos\u001b[49m\u001b[43m,\u001b[49m\n\u001b[32m   4451\u001b[39m \u001b[43m    \u001b[49m\u001b[43mfiles\u001b[49m\u001b[43m=\u001b[49m\u001b[43mfiles\u001b[49m\u001b[43m,\u001b[49m\n\u001b[32m   4452\u001b[39m \u001b[43m    \u001b[49m\u001b[43mstream\u001b[49m\u001b[43m=\u001b[49m\u001b[38;5;28;43;01mFalse\u001b[39;49;00m\u001b[43m,\u001b[49m\n\u001b[32m   4453\u001b[39m \u001b[43m    \u001b[49m\u001b[43mstream_intermediate_steps\u001b[49m\u001b[43m=\u001b[49m\u001b[43mstream_intermediate_steps\u001b[49m\u001b[43m,\u001b[49m\n\u001b[32m   4454\u001b[39m \u001b[43m    \u001b[49m\u001b[43m*\u001b[49m\u001b[43m*\u001b[49m\u001b[43mkwargs\u001b[49m\u001b[43m,\u001b[49m\n\u001b[32m   4455\u001b[39m \u001b[43m\u001b[49m\u001b[43m)\u001b[49m\n\u001b[32m   4456\u001b[39m response_timer.stop()\n\u001b[32m   4458\u001b[39m reasoning_steps = []\n",
      "\u001b[36mFile \u001b[39m\u001b[32mc:\\Users\\Vishwas\\miniconda3\\envs\\mcondaenv\\Lib\\site-packages\\agno\\agent\\agent.py:1113\u001b[39m, in \u001b[36mAgent.run\u001b[39m\u001b[34m(self, message, stream, user_id, session_id, audio, images, videos, files, messages, stream_intermediate_steps, retries, **kwargs)\u001b[39m\n\u001b[32m   1109\u001b[39m \u001b[38;5;28;01mif\u001b[39;00m last_exception \u001b[38;5;129;01mis\u001b[39;00m \u001b[38;5;129;01mnot\u001b[39;00m \u001b[38;5;28;01mNone\u001b[39;00m:\n\u001b[32m   1110\u001b[39m     log_error(\n\u001b[32m   1111\u001b[39m         \u001b[33mf\u001b[39m\u001b[33m\"\u001b[39m\u001b[33mFailed after \u001b[39m\u001b[38;5;132;01m{\u001b[39;00mnum_attempts\u001b[38;5;132;01m}\u001b[39;00m\u001b[33m attempts. Last error using \u001b[39m\u001b[38;5;132;01m{\u001b[39;00mlast_exception.model_name\u001b[38;5;132;01m}\u001b[39;00m\u001b[33m(\u001b[39m\u001b[38;5;132;01m{\u001b[39;00mlast_exception.model_id\u001b[38;5;132;01m}\u001b[39;00m\u001b[33m)\u001b[39m\u001b[33m\"\u001b[39m\n\u001b[32m   1112\u001b[39m     )\n\u001b[32m-> \u001b[39m\u001b[32m1113\u001b[39m     \u001b[38;5;28;01mraise\u001b[39;00m last_exception\n\u001b[32m   1114\u001b[39m \u001b[38;5;28;01melse\u001b[39;00m:\n\u001b[32m   1115\u001b[39m     \u001b[38;5;28;01mraise\u001b[39;00m \u001b[38;5;167;01mException\u001b[39;00m(\u001b[33mf\u001b[39m\u001b[33m\"\u001b[39m\u001b[33mFailed after \u001b[39m\u001b[38;5;132;01m{\u001b[39;00mnum_attempts\u001b[38;5;132;01m}\u001b[39;00m\u001b[33m attempts.\u001b[39m\u001b[33m\"\u001b[39m)\n",
      "\u001b[36mFile \u001b[39m\u001b[32mc:\\Users\\Vishwas\\miniconda3\\envs\\mcondaenv\\Lib\\site-packages\\agno\\agent\\agent.py:1083\u001b[39m, in \u001b[36mAgent.run\u001b[39m\u001b[34m(self, message, stream, user_id, session_id, audio, images, videos, files, messages, stream_intermediate_steps, retries, **kwargs)\u001b[39m\n\u001b[32m   1069\u001b[39m         \u001b[38;5;28;01melse\u001b[39;00m:\n\u001b[32m   1070\u001b[39m             resp = \u001b[38;5;28mself\u001b[39m._run(\n\u001b[32m   1071\u001b[39m                 message=message,\n\u001b[32m   1072\u001b[39m                 stream=\u001b[38;5;28;01mFalse\u001b[39;00m,\n\u001b[32m   (...)\u001b[39m\u001b[32m   1081\u001b[39m                 **kwargs,\n\u001b[32m   1082\u001b[39m             )\n\u001b[32m-> \u001b[39m\u001b[32m1083\u001b[39m             \u001b[38;5;28;01mreturn\u001b[39;00m \u001b[38;5;28;43mnext\u001b[39;49m\u001b[43m(\u001b[49m\u001b[43mresp\u001b[49m\u001b[43m)\u001b[49m\n\u001b[32m   1084\u001b[39m \u001b[38;5;28;01mexcept\u001b[39;00m ModelProviderError \u001b[38;5;28;01mas\u001b[39;00m e:\n\u001b[32m   1085\u001b[39m     log_warning(\u001b[33mf\u001b[39m\u001b[33m\"\u001b[39m\u001b[33mAttempt \u001b[39m\u001b[38;5;132;01m{\u001b[39;00mattempt\u001b[38;5;250m \u001b[39m+\u001b[38;5;250m \u001b[39m\u001b[32m1\u001b[39m\u001b[38;5;132;01m}\u001b[39;00m\u001b[33m/\u001b[39m\u001b[38;5;132;01m{\u001b[39;00mnum_attempts\u001b[38;5;132;01m}\u001b[39;00m\u001b[33m failed: \u001b[39m\u001b[38;5;132;01m{\u001b[39;00m\u001b[38;5;28mstr\u001b[39m(e)\u001b[38;5;132;01m}\u001b[39;00m\u001b[33m\"\u001b[39m)\n",
      "\u001b[36mFile \u001b[39m\u001b[32mc:\\Users\\Vishwas\\miniconda3\\envs\\mcondaenv\\Lib\\site-packages\\agno\\agent\\agent.py:753\u001b[39m, in \u001b[36mAgent._run\u001b[39m\u001b[34m(self, message, stream, session_id, user_id, audio, images, videos, files, messages, stream_intermediate_steps, **kwargs)\u001b[39m\n\u001b[32m    746\u001b[39m                 \u001b[38;5;28;01myield\u001b[39;00m \u001b[38;5;28mself\u001b[39m.create_run_response(\n\u001b[32m    747\u001b[39m                     content=model_response_chunk.content,\n\u001b[32m    748\u001b[39m                     event=RunEvent.tool_call_completed,\n\u001b[32m    749\u001b[39m                     session_id=session_id,\n\u001b[32m    750\u001b[39m                 )\n\u001b[32m    751\u001b[39m \u001b[38;5;28;01melse\u001b[39;00m:\n\u001b[32m    752\u001b[39m     \u001b[38;5;66;03m# Get the model response\u001b[39;00m\n\u001b[32m--> \u001b[39m\u001b[32m753\u001b[39m     model_response = \u001b[38;5;28;43mself\u001b[39;49m\u001b[43m.\u001b[49m\u001b[43mmodel\u001b[49m\u001b[43m.\u001b[49m\u001b[43mresponse\u001b[49m\u001b[43m(\u001b[49m\u001b[43mmessages\u001b[49m\u001b[43m=\u001b[49m\u001b[43mrun_messages\u001b[49m\u001b[43m.\u001b[49m\u001b[43mmessages\u001b[49m\u001b[43m)\u001b[49m\n\u001b[32m    754\u001b[39m     \u001b[38;5;66;03m# Format tool calls if they exist\u001b[39;00m\n\u001b[32m    755\u001b[39m     \u001b[38;5;28;01mif\u001b[39;00m model_response.tool_calls:\n",
      "\u001b[36mFile \u001b[39m\u001b[32mc:\\Users\\Vishwas\\miniconda3\\envs\\mcondaenv\\Lib\\site-packages\\agno\\models\\base.py:197\u001b[39m, in \u001b[36mModel.response\u001b[39m\u001b[34m(self, messages)\u001b[39m\n\u001b[32m    194\u001b[39m function_call_results: List[Message] = []\n\u001b[32m    196\u001b[39m \u001b[38;5;66;03m# Execute function calls\u001b[39;00m\n\u001b[32m--> \u001b[39m\u001b[32m197\u001b[39m \u001b[43m\u001b[49m\u001b[38;5;28;43;01mfor\u001b[39;49;00m\u001b[43m \u001b[49m\u001b[43mfunction_call_response\u001b[49m\u001b[43m \u001b[49m\u001b[38;5;129;43;01min\u001b[39;49;00m\u001b[43m \u001b[49m\u001b[38;5;28;43mself\u001b[39;49m\u001b[43m.\u001b[49m\u001b[43mrun_function_calls\u001b[49m\u001b[43m(\u001b[49m\n\u001b[32m    198\u001b[39m \u001b[43m    \u001b[49m\u001b[43mfunction_calls\u001b[49m\u001b[43m=\u001b[49m\u001b[43mfunction_calls_to_run\u001b[49m\u001b[43m,\u001b[49m\u001b[43m \u001b[49m\u001b[43mfunction_call_results\u001b[49m\u001b[43m=\u001b[49m\u001b[43mfunction_call_results\u001b[49m\n\u001b[32m    199\u001b[39m \u001b[43m\u001b[49m\u001b[43m)\u001b[49m\u001b[43m:\u001b[49m\n\u001b[32m    200\u001b[39m \u001b[43m    \u001b[49m\u001b[38;5;28;43;01mif\u001b[39;49;00m\u001b[43m \u001b[49m\u001b[43m(\u001b[49m\n\u001b[32m    201\u001b[39m \u001b[43m        \u001b[49m\u001b[43mfunction_call_response\u001b[49m\u001b[43m.\u001b[49m\u001b[43mevent\u001b[49m\u001b[43m \u001b[49m\u001b[43m==\u001b[49m\u001b[43m \u001b[49m\u001b[43mModelResponseEvent\u001b[49m\u001b[43m.\u001b[49m\u001b[43mtool_call_completed\u001b[49m\u001b[43m.\u001b[49m\u001b[43mvalue\u001b[49m\n\u001b[32m    202\u001b[39m \u001b[43m        \u001b[49m\u001b[38;5;129;43;01mand\u001b[39;49;00m\u001b[43m \u001b[49m\u001b[43mfunction_call_response\u001b[49m\u001b[43m.\u001b[49m\u001b[43mtool_calls\u001b[49m\u001b[43m \u001b[49m\u001b[38;5;129;43;01mis\u001b[39;49;00m\u001b[43m \u001b[49m\u001b[38;5;129;43;01mnot\u001b[39;49;00m\u001b[43m \u001b[49m\u001b[38;5;28;43;01mNone\u001b[39;49;00m\n\u001b[32m    203\u001b[39m \u001b[43m    \u001b[49m\u001b[43m)\u001b[49m\u001b[43m:\u001b[49m\n\u001b[32m    204\u001b[39m \u001b[43m        \u001b[49m\u001b[43mmodel_response\u001b[49m\u001b[43m.\u001b[49m\u001b[43mtool_calls\u001b[49m\u001b[43m.\u001b[49m\u001b[43mextend\u001b[49m\u001b[43m(\u001b[49m\u001b[43mfunction_call_response\u001b[49m\u001b[43m.\u001b[49m\u001b[43mtool_calls\u001b[49m\u001b[43m)\u001b[49m\n",
      "\u001b[36mFile \u001b[39m\u001b[32mc:\\Users\\Vishwas\\miniconda3\\envs\\mcondaenv\\Lib\\site-packages\\agno\\models\\base.py:878\u001b[39m, in \u001b[36mModel.run_function_calls\u001b[39m\u001b[34m(self, function_calls, function_call_results)\u001b[39m\n\u001b[32m    876\u001b[39m function_call_output: Optional[Union[List[Any], \u001b[38;5;28mstr\u001b[39m]] = \u001b[33m\"\u001b[39m\u001b[33m\"\u001b[39m\n\u001b[32m    877\u001b[39m \u001b[38;5;28;01mif\u001b[39;00m \u001b[38;5;28misinstance\u001b[39m(fc.result, (GeneratorType, collections.abc.Iterator)):\n\u001b[32m--> \u001b[39m\u001b[32m878\u001b[39m \u001b[43m    \u001b[49m\u001b[38;5;28;43;01mfor\u001b[39;49;00m\u001b[43m \u001b[49m\u001b[43mitem\u001b[49m\u001b[43m \u001b[49m\u001b[38;5;129;43;01min\u001b[39;49;00m\u001b[43m \u001b[49m\u001b[43mfc\u001b[49m\u001b[43m.\u001b[49m\u001b[43mresult\u001b[49m\u001b[43m:\u001b[49m\n\u001b[32m    879\u001b[39m \u001b[43m        \u001b[49m\u001b[43mfunction_call_output\u001b[49m\u001b[43m \u001b[49m\u001b[43m+\u001b[49m\u001b[43m=\u001b[49m\u001b[43m \u001b[49m\u001b[43mitem\u001b[49m\n\u001b[32m    880\u001b[39m \u001b[43m        \u001b[49m\u001b[38;5;28;43;01mif\u001b[39;49;00m\u001b[43m \u001b[49m\u001b[43mfc\u001b[49m\u001b[43m.\u001b[49m\u001b[43mfunction\u001b[49m\u001b[43m.\u001b[49m\u001b[43mshow_result\u001b[49m\u001b[43m:\u001b[49m\n",
      "\u001b[36mFile \u001b[39m\u001b[32mc:\\Users\\Vishwas\\miniconda3\\envs\\mcondaenv\\Lib\\site-packages\\agno\\agent\\agent.py:2995\u001b[39m, in \u001b[36mAgent.get_transfer_function.<locals>._transfer_task_to_agent\u001b[39m\u001b[34m(task_description, expected_output, additional_information)\u001b[39m\n\u001b[32m   2993\u001b[39m         \u001b[38;5;28;01myield\u001b[39;00m member_agent_run_response_chunk.content  \u001b[38;5;66;03m# type: ignore\u001b[39;00m\n\u001b[32m   2994\u001b[39m \u001b[38;5;28;01melse\u001b[39;00m:\n\u001b[32m-> \u001b[39m\u001b[32m2995\u001b[39m     member_agent_run_response: RunResponse = \u001b[43mmember_agent\u001b[49m\u001b[43m.\u001b[49m\u001b[43mrun\u001b[49m\u001b[43m(\u001b[49m\u001b[43mmember_agent_task\u001b[49m\u001b[43m,\u001b[49m\u001b[43m \u001b[49m\u001b[43mstream\u001b[49m\u001b[43m=\u001b[49m\u001b[38;5;28;43;01mFalse\u001b[39;49;00m\u001b[43m)\u001b[49m\n\u001b[32m   2996\u001b[39m     \u001b[38;5;28;01mif\u001b[39;00m member_agent_run_response.content \u001b[38;5;129;01mis\u001b[39;00m \u001b[38;5;28;01mNone\u001b[39;00m:\n\u001b[32m   2997\u001b[39m         \u001b[38;5;28;01myield\u001b[39;00m \u001b[33m\"\u001b[39m\u001b[33mNo response from the member agent.\u001b[39m\u001b[33m\"\u001b[39m\n",
      "\u001b[36mFile \u001b[39m\u001b[32mc:\\Users\\Vishwas\\miniconda3\\envs\\mcondaenv\\Lib\\site-packages\\agno\\agent\\agent.py:1113\u001b[39m, in \u001b[36mAgent.run\u001b[39m\u001b[34m(self, message, stream, user_id, session_id, audio, images, videos, files, messages, stream_intermediate_steps, retries, **kwargs)\u001b[39m\n\u001b[32m   1109\u001b[39m \u001b[38;5;28;01mif\u001b[39;00m last_exception \u001b[38;5;129;01mis\u001b[39;00m \u001b[38;5;129;01mnot\u001b[39;00m \u001b[38;5;28;01mNone\u001b[39;00m:\n\u001b[32m   1110\u001b[39m     log_error(\n\u001b[32m   1111\u001b[39m         \u001b[33mf\u001b[39m\u001b[33m\"\u001b[39m\u001b[33mFailed after \u001b[39m\u001b[38;5;132;01m{\u001b[39;00mnum_attempts\u001b[38;5;132;01m}\u001b[39;00m\u001b[33m attempts. Last error using \u001b[39m\u001b[38;5;132;01m{\u001b[39;00mlast_exception.model_name\u001b[38;5;132;01m}\u001b[39;00m\u001b[33m(\u001b[39m\u001b[38;5;132;01m{\u001b[39;00mlast_exception.model_id\u001b[38;5;132;01m}\u001b[39;00m\u001b[33m)\u001b[39m\u001b[33m\"\u001b[39m\n\u001b[32m   1112\u001b[39m     )\n\u001b[32m-> \u001b[39m\u001b[32m1113\u001b[39m     \u001b[38;5;28;01mraise\u001b[39;00m last_exception\n\u001b[32m   1114\u001b[39m \u001b[38;5;28;01melse\u001b[39;00m:\n\u001b[32m   1115\u001b[39m     \u001b[38;5;28;01mraise\u001b[39;00m \u001b[38;5;167;01mException\u001b[39;00m(\u001b[33mf\u001b[39m\u001b[33m\"\u001b[39m\u001b[33mFailed after \u001b[39m\u001b[38;5;132;01m{\u001b[39;00mnum_attempts\u001b[38;5;132;01m}\u001b[39;00m\u001b[33m attempts.\u001b[39m\u001b[33m\"\u001b[39m)\n",
      "\u001b[36mFile \u001b[39m\u001b[32mc:\\Users\\Vishwas\\miniconda3\\envs\\mcondaenv\\Lib\\site-packages\\agno\\agent\\agent.py:1083\u001b[39m, in \u001b[36mAgent.run\u001b[39m\u001b[34m(self, message, stream, user_id, session_id, audio, images, videos, files, messages, stream_intermediate_steps, retries, **kwargs)\u001b[39m\n\u001b[32m   1069\u001b[39m         \u001b[38;5;28;01melse\u001b[39;00m:\n\u001b[32m   1070\u001b[39m             resp = \u001b[38;5;28mself\u001b[39m._run(\n\u001b[32m   1071\u001b[39m                 message=message,\n\u001b[32m   1072\u001b[39m                 stream=\u001b[38;5;28;01mFalse\u001b[39;00m,\n\u001b[32m   (...)\u001b[39m\u001b[32m   1081\u001b[39m                 **kwargs,\n\u001b[32m   1082\u001b[39m             )\n\u001b[32m-> \u001b[39m\u001b[32m1083\u001b[39m             \u001b[38;5;28;01mreturn\u001b[39;00m \u001b[38;5;28;43mnext\u001b[39;49m\u001b[43m(\u001b[49m\u001b[43mresp\u001b[49m\u001b[43m)\u001b[49m\n\u001b[32m   1084\u001b[39m \u001b[38;5;28;01mexcept\u001b[39;00m ModelProviderError \u001b[38;5;28;01mas\u001b[39;00m e:\n\u001b[32m   1085\u001b[39m     log_warning(\u001b[33mf\u001b[39m\u001b[33m\"\u001b[39m\u001b[33mAttempt \u001b[39m\u001b[38;5;132;01m{\u001b[39;00mattempt\u001b[38;5;250m \u001b[39m+\u001b[38;5;250m \u001b[39m\u001b[32m1\u001b[39m\u001b[38;5;132;01m}\u001b[39;00m\u001b[33m/\u001b[39m\u001b[38;5;132;01m{\u001b[39;00mnum_attempts\u001b[38;5;132;01m}\u001b[39;00m\u001b[33m failed: \u001b[39m\u001b[38;5;132;01m{\u001b[39;00m\u001b[38;5;28mstr\u001b[39m(e)\u001b[38;5;132;01m}\u001b[39;00m\u001b[33m\"\u001b[39m)\n",
      "\u001b[36mFile \u001b[39m\u001b[32mc:\\Users\\Vishwas\\miniconda3\\envs\\mcondaenv\\Lib\\site-packages\\agno\\agent\\agent.py:753\u001b[39m, in \u001b[36mAgent._run\u001b[39m\u001b[34m(self, message, stream, session_id, user_id, audio, images, videos, files, messages, stream_intermediate_steps, **kwargs)\u001b[39m\n\u001b[32m    746\u001b[39m                 \u001b[38;5;28;01myield\u001b[39;00m \u001b[38;5;28mself\u001b[39m.create_run_response(\n\u001b[32m    747\u001b[39m                     content=model_response_chunk.content,\n\u001b[32m    748\u001b[39m                     event=RunEvent.tool_call_completed,\n\u001b[32m    749\u001b[39m                     session_id=session_id,\n\u001b[32m    750\u001b[39m                 )\n\u001b[32m    751\u001b[39m \u001b[38;5;28;01melse\u001b[39;00m:\n\u001b[32m    752\u001b[39m     \u001b[38;5;66;03m# Get the model response\u001b[39;00m\n\u001b[32m--> \u001b[39m\u001b[32m753\u001b[39m     model_response = \u001b[38;5;28;43mself\u001b[39;49m\u001b[43m.\u001b[49m\u001b[43mmodel\u001b[49m\u001b[43m.\u001b[49m\u001b[43mresponse\u001b[49m\u001b[43m(\u001b[49m\u001b[43mmessages\u001b[49m\u001b[43m=\u001b[49m\u001b[43mrun_messages\u001b[49m\u001b[43m.\u001b[49m\u001b[43mmessages\u001b[49m\u001b[43m)\u001b[49m\n\u001b[32m    754\u001b[39m     \u001b[38;5;66;03m# Format tool calls if they exist\u001b[39;00m\n\u001b[32m    755\u001b[39m     \u001b[38;5;28;01mif\u001b[39;00m model_response.tool_calls:\n",
      "\u001b[36mFile \u001b[39m\u001b[32mc:\\Users\\Vishwas\\miniconda3\\envs\\mcondaenv\\Lib\\site-packages\\agno\\models\\base.py:181\u001b[39m, in \u001b[36mModel.response\u001b[39m\u001b[34m(self, messages)\u001b[39m\n\u001b[32m    177\u001b[39m model_response = ModelResponse()\n\u001b[32m    179\u001b[39m \u001b[38;5;28;01mwhile\u001b[39;00m \u001b[38;5;28;01mTrue\u001b[39;00m:\n\u001b[32m    180\u001b[39m     \u001b[38;5;66;03m# Get response from model\u001b[39;00m\n\u001b[32m--> \u001b[39m\u001b[32m181\u001b[39m     assistant_message, has_tool_calls = \u001b[38;5;28;43mself\u001b[39;49m\u001b[43m.\u001b[49m\u001b[43m_process_model_response\u001b[49m\u001b[43m(\u001b[49m\n\u001b[32m    182\u001b[39m \u001b[43m        \u001b[49m\u001b[43mmessages\u001b[49m\u001b[43m=\u001b[49m\u001b[43mmessages\u001b[49m\u001b[43m,\u001b[49m\n\u001b[32m    183\u001b[39m \u001b[43m        \u001b[49m\u001b[43mmodel_response\u001b[49m\u001b[43m=\u001b[49m\u001b[43mmodel_response\u001b[49m\u001b[43m,\u001b[49m\n\u001b[32m    184\u001b[39m \u001b[43m    \u001b[49m\u001b[43m)\u001b[49m\n\u001b[32m    186\u001b[39m     \u001b[38;5;66;03m# Handle tool calls if present\u001b[39;00m\n\u001b[32m    187\u001b[39m     \u001b[38;5;28;01mif\u001b[39;00m has_tool_calls:\n\u001b[32m    188\u001b[39m         \u001b[38;5;66;03m# Prepare function calls\u001b[39;00m\n",
      "\u001b[36mFile \u001b[39m\u001b[32mc:\\Users\\Vishwas\\miniconda3\\envs\\mcondaenv\\Lib\\site-packages\\agno\\models\\base.py:317\u001b[39m, in \u001b[36mModel._process_model_response\u001b[39m\u001b[34m(self, messages, model_response)\u001b[39m\n\u001b[32m    315\u001b[39m \u001b[38;5;66;03m# Generate response\u001b[39;00m\n\u001b[32m    316\u001b[39m assistant_message.metrics.start_timer()\n\u001b[32m--> \u001b[39m\u001b[32m317\u001b[39m response = \u001b[38;5;28;43mself\u001b[39;49m\u001b[43m.\u001b[49m\u001b[43minvoke\u001b[49m\u001b[43m(\u001b[49m\u001b[43mmessages\u001b[49m\u001b[43m=\u001b[49m\u001b[43mmessages\u001b[49m\u001b[43m)\u001b[49m\n\u001b[32m    318\u001b[39m assistant_message.metrics.stop_timer()\n\u001b[32m    320\u001b[39m \u001b[38;5;66;03m# Parse provider response\u001b[39;00m\n",
      "\u001b[36mFile \u001b[39m\u001b[32mc:\\Users\\Vishwas\\miniconda3\\envs\\mcondaenv\\Lib\\site-packages\\agno\\models\\groq\\groq.py:260\u001b[39m, in \u001b[36mGroq.invoke\u001b[39m\u001b[34m(self, messages)\u001b[39m\n\u001b[32m    258\u001b[39m \u001b[38;5;28;01mexcept\u001b[39;00m (APIResponseValidationError, APIStatusError) \u001b[38;5;28;01mas\u001b[39;00m e:\n\u001b[32m    259\u001b[39m     log_error(\u001b[33mf\u001b[39m\u001b[33m\"\u001b[39m\u001b[33mError calling Groq API: \u001b[39m\u001b[38;5;132;01m{\u001b[39;00m\u001b[38;5;28mstr\u001b[39m(e)\u001b[38;5;132;01m}\u001b[39;00m\u001b[33m\"\u001b[39m)\n\u001b[32m--> \u001b[39m\u001b[32m260\u001b[39m     \u001b[38;5;28;01mraise\u001b[39;00m ModelProviderError(\n\u001b[32m    261\u001b[39m         message=e.response.text, status_code=e.response.status_code, model_name=\u001b[38;5;28mself\u001b[39m.name, model_id=\u001b[38;5;28mself\u001b[39m.id\n\u001b[32m    262\u001b[39m     ) \u001b[38;5;28;01mfrom\u001b[39;00m\u001b[38;5;250m \u001b[39m\u001b[34;01me\u001b[39;00m\n\u001b[32m    263\u001b[39m \u001b[38;5;28;01mexcept\u001b[39;00m APIError \u001b[38;5;28;01mas\u001b[39;00m e:\n\u001b[32m    264\u001b[39m     log_error(\u001b[33mf\u001b[39m\u001b[33m\"\u001b[39m\u001b[33mError calling Groq API: \u001b[39m\u001b[38;5;132;01m{\u001b[39;00m\u001b[38;5;28mstr\u001b[39m(e)\u001b[38;5;132;01m}\u001b[39;00m\u001b[33m\"\u001b[39m)\n",
      "\u001b[31mModelProviderError\u001b[39m: {\"error\":{\"message\":\"Failed to call a function. Please adjust your prompt. See 'failed_generation' for more details.\",\"type\":\"invalid_request_error\",\"code\":\"tool_use_failed\",\"failed_generation\":\"### Financial Data of AI Semiconductor Companies\\nThe following table provides financial data for key AI semiconductor companies:\\n\\n| Company | Symbol | Revenue (2022) | Net Income (2022) | Current Stock Price |\\n| --- | --- | --- | --- | --- |\\n| NVIDIA | NVDA | $26.91B | $9.75B | \\u003cfunction=get_current_stock_price{\\\"symbol\\\": \\\"NVDA\\\"}\\u003c/function\\u003e |\\n| Advanced Micro Devices | AMD | $23.60B | $3.96B | \\u003cfunction=get_current_stock_price{\\\"symbol\\\": \\\"AMD\\\"}\\u003c/function\\u003e |\\n| Intel | INTC | $79.02B | $19.45B | \\u003cfunction=get_current_stock_price{\\\"symbol\\\": \\\"INTC\\\"}\\u003c/function\\u003e |\\n| Qualcomm | QCOM | $44.20B | $9.04B | \\u003cfunction=get_current_stock_price{\\\"symbol\\\": \\\"QCOM\\\"}\\u003c/function\\u003e |\\n| Micron Technology | MU | $30.76B | $7.75B | \\u003cfunction=get_current_stock_price{\\\"symbol\\\": \\\"MU\\\"}\\u003c/function\\u003e |\\n\\nPlease note that the current stock prices are subject to change and may not reflect the current market value at the time of reading. For more up-to-date and detailed information, you can use the following functions:\\n\\n\\u003cfunction=get_company_info{\\\"symbol\\\": \\\"NVDA\\\"}\\u003c/function\\u003e\\n\\u003cfunction=get_company_info{\\\"symbol\\\": \\\"AMD\\\"}\\u003c/function\\u003e\\n\\u003cfunction=get_company_info{\\\"symbol\\\": \\\"INTC\\\"}\\u003c/function\\u003e\\n\\u003cfunction=get_company_info{\\\"symbol\\\": \\\"QCOM\\\"}\\u003c/function\\u003e\\n\\u003cfunction=get_company_info{\\\"symbol\\\": \\\"MU\\\"}\\u003c/function\\u003e\\n\\nAdditionally, you can get analyst recommendations for these companies using the following functions:\\n\\n\\u003cfunction=get_analyst_recommendations{\\\"symbol\\\": \\\"NVDA\\\"}\\u003c/function\\u003e\\n\\u003cfunction=get_analyst_recommendations{\\\"symbol\\\": \\\"AMD\\\"}\\u003c/function\\u003e\\n\\u003cfunction=get_analyst_recommendations{\\\"symbol\\\": \\\"INTC\\\"}\\u003c/function\\u003e\\n\\u003cfunction=get_analyst_recommendations{\\\"symbol\\\": \\\"QCOM\\\"}\\u003c/function\\u003e\\n\\u003cfunction=get_analyst_recommendations{\\\"symbol\\\": \\\"MU\\\"}\\u003c/function\\u003e\"}}\n"
     ]
    }
   ],
   "source": [
    "agent_team.print_response(\"What's the market outlook and financial performance of AI semiconductor companies?\", verbose=True, show_tool_calls=True)"
   ]
  },
  {
   "cell_type": "code",
   "execution_count": null,
   "id": "327dd46f",
   "metadata": {},
   "outputs": [
    {
     "data": {
      "application/vnd.jupyter.widget-view+json": {
       "model_id": "dfc3d74fb8be4bd082b8fada3ba9c600",
       "version_major": 2,
       "version_minor": 0
      },
      "text/plain": [
       "Output()"
      ]
     },
     "metadata": {},
     "output_type": "display_data"
    },
    {
     "data": {
      "text/html": [
       "<pre style=\"white-space:pre;overflow-x:auto;line-height:normal;font-family:Menlo,'DejaVu Sans Mono',consolas,'Courier New',monospace\"><span style=\"color: #800000; text-decoration-color: #800000; font-weight: bold\">ERROR   </span> Error calling Groq API: Error code: <span style=\"color: #008080; text-decoration-color: #008080; font-weight: bold\">400</span> - <span style=\"font-weight: bold\">{</span><span style=\"color: #008000; text-decoration-color: #008000\">'error'</span>: <span style=\"font-weight: bold\">{</span><span style=\"color: #008000; text-decoration-color: #008000\">'message'</span>: <span style=\"color: #008000; text-decoration-color: #008000\">\"Failed to call a function. Please adjust </span>\n",
       "         <span style=\"color: #008000; text-decoration-color: #008000\">your prompt. See 'failed_generation' for more details.\"</span>, <span style=\"color: #008000; text-decoration-color: #008000\">'type'</span>: <span style=\"color: #008000; text-decoration-color: #008000\">'invalid_request_error'</span>, <span style=\"color: #008000; text-decoration-color: #008000\">'code'</span>:         \n",
       "         <span style=\"color: #008000; text-decoration-color: #008000\">'tool_use_failed'</span>, <span style=\"color: #008000; text-decoration-color: #008000\">'failed_generation'</span>: <span style=\"color: #008000; text-decoration-color: #008000\">'### Financial Data of AI Semiconductor Companies\\nThe following </span> \n",
       "         <span style=\"color: #008000; text-decoration-color: #008000\">table provides financial data for key AI semiconductor companies:\\n\\n| Company | Symbol | Revenue (2022) |</span>\n",
       "         <span style=\"color: #008000; text-decoration-color: #008000\">Net Income (2022) | Current Stock Price |\\n| --- | --- | --- | --- | --- |\\n| NVIDIA | NVDA | $26.91B | </span>  \n",
       "         <span style=\"color: #008000; text-decoration-color: #008000\">$9.75B | &lt;function=get_current_stock_price{\"symbol\": \"NVDA\"}&lt;/function&gt; |\\n| Advanced Micro Devices | AMD </span>\n",
       "         <span style=\"color: #008000; text-decoration-color: #008000\">| $23.60B | $3.96B | &lt;function=get_current_stock_price{\"symbol\": \"AMD\"}&lt;/function&gt; |\\n| Intel | INTC | </span>   \n",
       "         <span style=\"color: #008000; text-decoration-color: #008000\">$79.02B | $19.45B | &lt;function=get_current_stock_price{\"symbol\": \"INTC\"}&lt;/function&gt; |\\n| Qualcomm | QCOM | </span>\n",
       "         <span style=\"color: #008000; text-decoration-color: #008000\">$44.20B | $9.04B | &lt;function=get_current_stock_price{\"symbol\": \"QCOM\"}&lt;/function&gt; |\\n| Micron Technology |</span>\n",
       "         <span style=\"color: #008000; text-decoration-color: #008000\">MU | $30.76B | $7.75B | &lt;function=get_current_stock_price{\"symbol\": \"MU\"}&lt;/function&gt; |\\n\\nPlease note that</span>\n",
       "         <span style=\"color: #008000; text-decoration-color: #008000\">the current stock prices are subject to change and may not reflect the current market value at the time of</span>\n",
       "         <span style=\"color: #008000; text-decoration-color: #008000\">reading. For more up-to-date and detailed information, you can use the following </span>                         \n",
       "         <span style=\"color: #008000; text-decoration-color: #008000\">functions:\\n\\n&lt;function=get_company_info{\"symbol\": </span>                                                       \n",
       "         <span style=\"color: #008000; text-decoration-color: #008000\">\"NVDA\"}&lt;/function&gt;\\n&lt;function=get_company_info{\"symbol\": </span>                                                 \n",
       "         <span style=\"color: #008000; text-decoration-color: #008000\">\"AMD\"}&lt;/function&gt;\\n&lt;function=get_company_info{\"symbol\": </span>                                                  \n",
       "         <span style=\"color: #008000; text-decoration-color: #008000\">\"INTC\"}&lt;/function&gt;\\n&lt;function=get_company_info{\"symbol\": </span>                                                 \n",
       "         <span style=\"color: #008000; text-decoration-color: #008000\">\"QCOM\"}&lt;/function&gt;\\n&lt;function=get_company_info{\"symbol\": \"MU\"}&lt;/function&gt;\\n\\nAdditionally, you can get </span>   \n",
       "         <span style=\"color: #008000; text-decoration-color: #008000\">analyst recommendations for these companies using the following </span>                                          \n",
       "         <span style=\"color: #008000; text-decoration-color: #008000\">functions:\\n\\n&lt;function=get_analyst_recommendations{\"symbol\": </span>                                            \n",
       "         <span style=\"color: #008000; text-decoration-color: #008000\">\"NVDA\"}&lt;/function&gt;\\n&lt;function=get_analyst_recommendations{\"symbol\": </span>                                      \n",
       "         <span style=\"color: #008000; text-decoration-color: #008000\">\"AMD\"}&lt;/function&gt;\\n&lt;function=get_analyst_recommendations{\"symbol\": </span>                                       \n",
       "         <span style=\"color: #008000; text-decoration-color: #008000\">\"INTC\"}&lt;/function&gt;\\n&lt;function=get_analyst_recommendations{\"symbol\": </span>                                      \n",
       "         <span style=\"color: #008000; text-decoration-color: #008000\">\"QCOM\"}&lt;/function&gt;\\n&lt;function=get_analyst_recommendations{\"symbol\": \"MU\"}&lt;/function&gt;'</span><span style=\"font-weight: bold\">}}</span>                   \n",
       "</pre>\n"
      ],
      "text/plain": [
       "\u001b[1;31mERROR   \u001b[0m Error calling Groq API: Error code: \u001b[1;36m400\u001b[0m - \u001b[1m{\u001b[0m\u001b[32m'error'\u001b[0m: \u001b[1m{\u001b[0m\u001b[32m'message'\u001b[0m: \u001b[32m\"Failed to call a function. Please adjust \u001b[0m\n",
       "         \u001b[32myour prompt. See 'failed_generation' for more details.\"\u001b[0m, \u001b[32m'type'\u001b[0m: \u001b[32m'invalid_request_error'\u001b[0m, \u001b[32m'code'\u001b[0m:         \n",
       "         \u001b[32m'tool_use_failed'\u001b[0m, \u001b[32m'failed_generation'\u001b[0m: \u001b[32m'### Financial Data of AI Semiconductor Companies\\nThe following \u001b[0m \n",
       "         \u001b[32mtable provides financial data for key AI semiconductor companies:\\n\\n| Company | Symbol | Revenue \u001b[0m\u001b[32m(\u001b[0m\u001b[32m2022\u001b[0m\u001b[32m)\u001b[0m\u001b[32m |\u001b[0m\n",
       "         \u001b[32mNet Income \u001b[0m\u001b[32m(\u001b[0m\u001b[32m2022\u001b[0m\u001b[32m)\u001b[0m\u001b[32m | Current Stock Price |\\n| --- | --- | --- | --- | --- |\\n| NVIDIA | NVDA | $26.91B | \u001b[0m  \n",
       "         \u001b[32m$9.75B | \u001b[0m\u001b[32m<\u001b[0m\u001b[32mfunction\u001b[0m\u001b[32m=\u001b[0m\u001b[32mget_current_stock_price\u001b[0m\u001b[32m{\u001b[0m\u001b[32m\"symbol\": \"NVDA\"\u001b[0m\u001b[32m}\u001b[0m\u001b[32m</function> |\\n| Advanced Micro Devices | AMD \u001b[0m\n",
       "         \u001b[32m| $23.60B | $3.96B | <\u001b[0m\u001b[32mfunction\u001b[0m\u001b[32m=\u001b[0m\u001b[32mget_current_stock_price\u001b[0m\u001b[32m{\u001b[0m\u001b[32m\"symbol\": \"AMD\"\u001b[0m\u001b[32m}\u001b[0m\u001b[32m</function> |\\n| Intel | INTC | \u001b[0m   \n",
       "         \u001b[32m$79.02B | $19.45B | <\u001b[0m\u001b[32mfunction\u001b[0m\u001b[32m=\u001b[0m\u001b[32mget_current_stock_price\u001b[0m\u001b[32m{\u001b[0m\u001b[32m\"symbol\": \"INTC\"\u001b[0m\u001b[32m}\u001b[0m\u001b[32m</function> |\\n| Qualcomm | QCOM | \u001b[0m\n",
       "         \u001b[32m$44.20B | $9.04B | <\u001b[0m\u001b[32mfunction\u001b[0m\u001b[32m=\u001b[0m\u001b[32mget_current_stock_price\u001b[0m\u001b[32m{\u001b[0m\u001b[32m\"symbol\": \"QCOM\"\u001b[0m\u001b[32m}\u001b[0m\u001b[32m</function> |\\n| Micron Technology |\u001b[0m\n",
       "         \u001b[32mMU | $30.76B | $7.75B | <\u001b[0m\u001b[32mfunction\u001b[0m\u001b[32m=\u001b[0m\u001b[32mget_current_stock_price\u001b[0m\u001b[32m{\u001b[0m\u001b[32m\"symbol\": \"MU\"\u001b[0m\u001b[32m}\u001b[0m\u001b[32m</function> |\\n\\nPlease note that\u001b[0m\n",
       "         \u001b[32mthe current stock prices are subject to change and may not reflect the current market value at the time of\u001b[0m\n",
       "         \u001b[32mreading. For more up-to-date and detailed information, you can use the following \u001b[0m                         \n",
       "         \u001b[32mfunctions:\\n\\n<\u001b[0m\u001b[32mfunction\u001b[0m\u001b[32m=\u001b[0m\u001b[32mget_company_info\u001b[0m\u001b[32m{\u001b[0m\u001b[32m\"symbol\": \u001b[0m                                                       \n",
       "         \u001b[32m\"NVDA\"\u001b[0m\u001b[32m}\u001b[0m\u001b[32m</function>\\n<\u001b[0m\u001b[32mfunction\u001b[0m\u001b[32m=\u001b[0m\u001b[32mget_company_info\u001b[0m\u001b[32m{\u001b[0m\u001b[32m\"symbol\": \u001b[0m                                                 \n",
       "         \u001b[32m\"AMD\"\u001b[0m\u001b[32m}\u001b[0m\u001b[32m</function>\\n<\u001b[0m\u001b[32mfunction\u001b[0m\u001b[32m=\u001b[0m\u001b[32mget_company_info\u001b[0m\u001b[32m{\u001b[0m\u001b[32m\"symbol\": \u001b[0m                                                  \n",
       "         \u001b[32m\"INTC\"\u001b[0m\u001b[32m}\u001b[0m\u001b[32m</function>\\n<\u001b[0m\u001b[32mfunction\u001b[0m\u001b[32m=\u001b[0m\u001b[32mget_company_info\u001b[0m\u001b[32m{\u001b[0m\u001b[32m\"symbol\": \u001b[0m                                                 \n",
       "         \u001b[32m\"QCOM\"\u001b[0m\u001b[32m}\u001b[0m\u001b[32m</function>\\n<\u001b[0m\u001b[32mfunction\u001b[0m\u001b[32m=\u001b[0m\u001b[32mget_company_info\u001b[0m\u001b[32m{\u001b[0m\u001b[32m\"symbol\": \"MU\"\u001b[0m\u001b[32m}\u001b[0m\u001b[32m</function>\\n\\nAdditionally, you can get \u001b[0m   \n",
       "         \u001b[32manalyst recommendations for these companies using the following \u001b[0m                                          \n",
       "         \u001b[32mfunctions:\\n\\n<\u001b[0m\u001b[32mfunction\u001b[0m\u001b[32m=\u001b[0m\u001b[32mget_analyst_recommendations\u001b[0m\u001b[32m{\u001b[0m\u001b[32m\"symbol\": \u001b[0m                                            \n",
       "         \u001b[32m\"NVDA\"\u001b[0m\u001b[32m}\u001b[0m\u001b[32m</function>\\n<\u001b[0m\u001b[32mfunction\u001b[0m\u001b[32m=\u001b[0m\u001b[32mget_analyst_recommendations\u001b[0m\u001b[32m{\u001b[0m\u001b[32m\"symbol\": \u001b[0m                                      \n",
       "         \u001b[32m\"AMD\"\u001b[0m\u001b[32m}\u001b[0m\u001b[32m</function>\\n<\u001b[0m\u001b[32mfunction\u001b[0m\u001b[32m=\u001b[0m\u001b[32mget_analyst_recommendations\u001b[0m\u001b[32m{\u001b[0m\u001b[32m\"symbol\": \u001b[0m                                       \n",
       "         \u001b[32m\"INTC\"\u001b[0m\u001b[32m}\u001b[0m\u001b[32m</function>\\n<\u001b[0m\u001b[32mfunction\u001b[0m\u001b[32m=\u001b[0m\u001b[32mget_analyst_recommendations\u001b[0m\u001b[32m{\u001b[0m\u001b[32m\"symbol\": \u001b[0m                                      \n",
       "         \u001b[32m\"QCOM\"\u001b[0m\u001b[32m}\u001b[0m\u001b[32m</function>\\n<\u001b[0m\u001b[32mfunction\u001b[0m\u001b[32m=\u001b[0m\u001b[32mget_analyst_recommendations\u001b[0m\u001b[32m{\u001b[0m\u001b[32m\"symbol\": \"MU\"\u001b[0m\u001b[32m}\u001b[0m\u001b[32m</function\u001b[0m\u001b[32m>\u001b[0m\u001b[32m'\u001b[0m\u001b[1m}\u001b[0m\u001b[1m}\u001b[0m                   \n"
      ]
     },
     "metadata": {},
     "output_type": "display_data"
    },
    {
     "data": {
      "text/html": [
       "<pre style=\"white-space:pre;overflow-x:auto;line-height:normal;font-family:Menlo,'DejaVu Sans Mono',consolas,'Courier New',monospace\"><span style=\"color: #808000; text-decoration-color: #808000\">WARNING </span> Attempt <span style=\"color: #008080; text-decoration-color: #008080; font-weight: bold\">1</span>/<span style=\"color: #008080; text-decoration-color: #008080; font-weight: bold\">1</span> failed: <span style=\"font-weight: bold\">{</span><span style=\"color: #008000; text-decoration-color: #008000\">\"error\"</span>:<span style=\"font-weight: bold\">{</span><span style=\"color: #008000; text-decoration-color: #008000\">\"message\"</span>:<span style=\"color: #008000; text-decoration-color: #008000\">\"Failed to call a function. Please adjust your prompt. See </span>       \n",
       "         <span style=\"color: #008000; text-decoration-color: #008000\">'failed_generation' for more </span>                                                                             \n",
       "         <span style=\"color: #008000; text-decoration-color: #008000\">details.\"</span>,<span style=\"color: #008000; text-decoration-color: #008000\">\"type\"</span>:<span style=\"color: #008000; text-decoration-color: #008000\">\"invalid_request_error\"</span>,<span style=\"color: #008000; text-decoration-color: #008000\">\"code\"</span>:<span style=\"color: #008000; text-decoration-color: #008000\">\"tool_use_failed\"</span>,<span style=\"color: #008000; text-decoration-color: #008000\">\"failed_generation\"</span>:<span style=\"color: #008000; text-decoration-color: #008000\">\"### Financial Data </span>\n",
       "         <span style=\"color: #008000; text-decoration-color: #008000\">of AI Semiconductor Companies\\nThe following table provides financial data for key AI semiconductor </span>      \n",
       "         <span style=\"color: #008000; text-decoration-color: #008000\">companies:\\n\\n| Company | Symbol | Revenue (2022) | Net Income (2022) | Current Stock Price |\\n| --- | ---</span>\n",
       "         <span style=\"color: #008000; text-decoration-color: #008000\">| --- | --- | --- |\\n| NVIDIA | NVDA | $26.91B | $9.75B | </span>                                                \n",
       "         <span style=\"color: #008000; text-decoration-color: #008000\">\\u003cfunction=get_current_stock_price{\\\"symbol\\\": \\\"NVDA\\\"}\\u003c/function\\u003e |\\n| Advanced Micro </span>    \n",
       "         <span style=\"color: #008000; text-decoration-color: #008000\">Devices | AMD | $23.60B | $3.96B | \\u003cfunction=get_current_stock_price{\\\"symbol\\\": </span>                    \n",
       "         <span style=\"color: #008000; text-decoration-color: #008000\">\\\"AMD\\\"}\\u003c/function\\u003e |\\n| Intel | INTC | $79.02B | $19.45B | </span>                                    \n",
       "         <span style=\"color: #008000; text-decoration-color: #008000\">\\u003cfunction=get_current_stock_price{\\\"symbol\\\": \\\"INTC\\\"}\\u003c/function\\u003e |\\n| Qualcomm | QCOM | </span> \n",
       "         <span style=\"color: #008000; text-decoration-color: #008000\">$44.20B | $9.04B | \\u003cfunction=get_current_stock_price{\\\"symbol\\\": \\\"QCOM\\\"}\\u003c/function\\u003e |\\n| </span>\n",
       "         <span style=\"color: #008000; text-decoration-color: #008000\">Micron Technology | MU | $30.76B | $7.75B | \\u003cfunction=get_current_stock_price{\\\"symbol\\\": </span>           \n",
       "         <span style=\"color: #008000; text-decoration-color: #008000\">\\\"MU\\\"}\\u003c/function\\u003e |\\n\\nPlease note that the current stock prices are subject to change and may </span>\n",
       "         <span style=\"color: #008000; text-decoration-color: #008000\">not reflect the current market value at the time of reading. For more up-to-date and detailed information,</span>\n",
       "         <span style=\"color: #008000; text-decoration-color: #008000\">you can use the following functions:\\n\\n\\u003cfunction=get_company_info{\\\"symbol\\\": </span>                      \n",
       "         <span style=\"color: #008000; text-decoration-color: #008000\">\\\"NVDA\\\"}\\u003c/function\\u003e\\n\\u003cfunction=get_company_info{\\\"symbol\\\": </span>                              \n",
       "         <span style=\"color: #008000; text-decoration-color: #008000\">\\\"AMD\\\"}\\u003c/function\\u003e\\n\\u003cfunction=get_company_info{\\\"symbol\\\": </span>                               \n",
       "         <span style=\"color: #008000; text-decoration-color: #008000\">\\\"INTC\\\"}\\u003c/function\\u003e\\n\\u003cfunction=get_company_info{\\\"symbol\\\": </span>                              \n",
       "         <span style=\"color: #008000; text-decoration-color: #008000\">\\\"QCOM\\\"}\\u003c/function\\u003e\\n\\u003cfunction=get_company_info{\\\"symbol\\\": </span>                              \n",
       "         <span style=\"color: #008000; text-decoration-color: #008000\">\\\"MU\\\"}\\u003c/function\\u003e\\n\\nAdditionally, you can get analyst recommendations for these companies </span>    \n",
       "         <span style=\"color: #008000; text-decoration-color: #008000\">using the following functions:\\n\\n\\u003cfunction=get_analyst_recommendations{\\\"symbol\\\": </span>                 \n",
       "         <span style=\"color: #008000; text-decoration-color: #008000\">\\\"NVDA\\\"}\\u003c/function\\u003e\\n\\u003cfunction=get_analyst_recommendations{\\\"symbol\\\": </span>                   \n",
       "         <span style=\"color: #008000; text-decoration-color: #008000\">\\\"AMD\\\"}\\u003c/function\\u003e\\n\\u003cfunction=get_analyst_recommendations{\\\"symbol\\\": </span>                    \n",
       "         <span style=\"color: #008000; text-decoration-color: #008000\">\\\"INTC\\\"}\\u003c/function\\u003e\\n\\u003cfunction=get_analyst_recommendations{\\\"symbol\\\": </span>                   \n",
       "         <span style=\"color: #008000; text-decoration-color: #008000\">\\\"QCOM\\\"}\\u003c/function\\u003e\\n\\u003cfunction=get_analyst_recommendations{\\\"symbol\\\": </span>                   \n",
       "         <span style=\"color: #008000; text-decoration-color: #008000\">\\\"MU\\\"}\\u003c/function\\u003e\"</span><span style=\"font-weight: bold\">}}</span>                                                                           \n",
       "                                                                                                                   \n",
       "</pre>\n"
      ],
      "text/plain": [
       "\u001b[33mWARNING \u001b[0m Attempt \u001b[1;36m1\u001b[0m/\u001b[1;36m1\u001b[0m failed: \u001b[1m{\u001b[0m\u001b[32m\"error\"\u001b[0m:\u001b[1m{\u001b[0m\u001b[32m\"message\"\u001b[0m:\u001b[32m\"Failed to call a function. Please adjust your prompt. See \u001b[0m       \n",
       "         \u001b[32m'failed_generation' for more \u001b[0m                                                                             \n",
       "         \u001b[32mdetails.\"\u001b[0m,\u001b[32m\"type\"\u001b[0m:\u001b[32m\"invalid_request_error\"\u001b[0m,\u001b[32m\"code\"\u001b[0m:\u001b[32m\"tool_use_failed\"\u001b[0m,\u001b[32m\"failed_generation\"\u001b[0m:\u001b[32m\"### Financial Data \u001b[0m\n",
       "         \u001b[32mof AI Semiconductor Companies\\nThe following table provides financial data for key AI semiconductor \u001b[0m      \n",
       "         \u001b[32mcompanies:\\n\\n| Company | Symbol | Revenue \u001b[0m\u001b[32m(\u001b[0m\u001b[32m2022\u001b[0m\u001b[32m)\u001b[0m\u001b[32m | Net Income \u001b[0m\u001b[32m(\u001b[0m\u001b[32m2022\u001b[0m\u001b[32m)\u001b[0m\u001b[32m | Current Stock Price |\\n| --- | ---\u001b[0m\n",
       "         \u001b[32m| --- | --- | --- |\\n| NVIDIA | NVDA | $26.91B | $9.75B | \u001b[0m                                                \n",
       "         \u001b[32m\\\u001b[0m\u001b[32mu003cfunction\u001b[0m\u001b[32m=\u001b[0m\u001b[32mget_current_stock_price\u001b[0m\u001b[32m{\u001b[0m\u001b[32m\\\"symbol\\\": \\\"NVDA\\\"\u001b[0m\u001b[32m}\u001b[0m\u001b[32m\\u003c/function\\u003e |\\n| Advanced Micro \u001b[0m    \n",
       "         \u001b[32mDevices | AMD | $23.60B | $3.96B | \\\u001b[0m\u001b[32mu003cfunction\u001b[0m\u001b[32m=\u001b[0m\u001b[32mget_current_stock_price\u001b[0m\u001b[32m{\u001b[0m\u001b[32m\\\"symbol\\\": \u001b[0m                    \n",
       "         \u001b[32m\\\"AMD\\\"\u001b[0m\u001b[32m}\u001b[0m\u001b[32m\\u003c/function\\u003e |\\n| Intel | INTC | $79.02B | $19.45B | \u001b[0m                                    \n",
       "         \u001b[32m\\\u001b[0m\u001b[32mu003cfunction\u001b[0m\u001b[32m=\u001b[0m\u001b[32mget_current_stock_price\u001b[0m\u001b[32m{\u001b[0m\u001b[32m\\\"symbol\\\": \\\"INTC\\\"\u001b[0m\u001b[32m}\u001b[0m\u001b[32m\\u003c/function\\u003e |\\n| Qualcomm | QCOM | \u001b[0m \n",
       "         \u001b[32m$44.20B | $9.04B | \\\u001b[0m\u001b[32mu003cfunction\u001b[0m\u001b[32m=\u001b[0m\u001b[32mget_current_stock_price\u001b[0m\u001b[32m{\u001b[0m\u001b[32m\\\"symbol\\\": \\\"QCOM\\\"\u001b[0m\u001b[32m}\u001b[0m\u001b[32m\\u003c/function\\u003e |\\n| \u001b[0m\n",
       "         \u001b[32mMicron Technology | MU | $30.76B | $7.75B | \\\u001b[0m\u001b[32mu003cfunction\u001b[0m\u001b[32m=\u001b[0m\u001b[32mget_current_stock_price\u001b[0m\u001b[32m{\u001b[0m\u001b[32m\\\"symbol\\\": \u001b[0m           \n",
       "         \u001b[32m\\\"MU\\\"\u001b[0m\u001b[32m}\u001b[0m\u001b[32m\\u003c/function\\u003e |\\n\\nPlease note that the current stock prices are subject to change and may \u001b[0m\n",
       "         \u001b[32mnot reflect the current market value at the time of reading. For more up-to-date and detailed information,\u001b[0m\n",
       "         \u001b[32myou can use the following functions:\\n\\n\\\u001b[0m\u001b[32mu003cfunction\u001b[0m\u001b[32m=\u001b[0m\u001b[32mget_company_info\u001b[0m\u001b[32m{\u001b[0m\u001b[32m\\\"symbol\\\": \u001b[0m                      \n",
       "         \u001b[32m\\\"NVDA\\\"\u001b[0m\u001b[32m}\u001b[0m\u001b[32m\\u003c/function\\u003e\\n\\\u001b[0m\u001b[32mu003cfunction\u001b[0m\u001b[32m=\u001b[0m\u001b[32mget_company_info\u001b[0m\u001b[32m{\u001b[0m\u001b[32m\\\"symbol\\\": \u001b[0m                              \n",
       "         \u001b[32m\\\"AMD\\\"\u001b[0m\u001b[32m}\u001b[0m\u001b[32m\\u003c/function\\u003e\\n\\\u001b[0m\u001b[32mu003cfunction\u001b[0m\u001b[32m=\u001b[0m\u001b[32mget_company_info\u001b[0m\u001b[32m{\u001b[0m\u001b[32m\\\"symbol\\\": \u001b[0m                               \n",
       "         \u001b[32m\\\"INTC\\\"\u001b[0m\u001b[32m}\u001b[0m\u001b[32m\\u003c/function\\u003e\\n\\\u001b[0m\u001b[32mu003cfunction\u001b[0m\u001b[32m=\u001b[0m\u001b[32mget_company_info\u001b[0m\u001b[32m{\u001b[0m\u001b[32m\\\"symbol\\\": \u001b[0m                              \n",
       "         \u001b[32m\\\"QCOM\\\"\u001b[0m\u001b[32m}\u001b[0m\u001b[32m\\u003c/function\\u003e\\n\\\u001b[0m\u001b[32mu003cfunction\u001b[0m\u001b[32m=\u001b[0m\u001b[32mget_company_info\u001b[0m\u001b[32m{\u001b[0m\u001b[32m\\\"symbol\\\": \u001b[0m                              \n",
       "         \u001b[32m\\\"MU\\\"\u001b[0m\u001b[32m}\u001b[0m\u001b[32m\\u003c/function\\u003e\\n\\nAdditionally, you can get analyst recommendations for these companies \u001b[0m    \n",
       "         \u001b[32musing the following functions:\\n\\n\\\u001b[0m\u001b[32mu003cfunction\u001b[0m\u001b[32m=\u001b[0m\u001b[32mget_analyst_recommendations\u001b[0m\u001b[32m{\u001b[0m\u001b[32m\\\"symbol\\\": \u001b[0m                 \n",
       "         \u001b[32m\\\"NVDA\\\"\u001b[0m\u001b[32m}\u001b[0m\u001b[32m\\u003c/function\\u003e\\n\\\u001b[0m\u001b[32mu003cfunction\u001b[0m\u001b[32m=\u001b[0m\u001b[32mget_analyst_recommendations\u001b[0m\u001b[32m{\u001b[0m\u001b[32m\\\"symbol\\\": \u001b[0m                   \n",
       "         \u001b[32m\\\"AMD\\\"\u001b[0m\u001b[32m}\u001b[0m\u001b[32m\\u003c/function\\u003e\\n\\\u001b[0m\u001b[32mu003cfunction\u001b[0m\u001b[32m=\u001b[0m\u001b[32mget_analyst_recommendations\u001b[0m\u001b[32m{\u001b[0m\u001b[32m\\\"symbol\\\": \u001b[0m                    \n",
       "         \u001b[32m\\\"INTC\\\"\u001b[0m\u001b[32m}\u001b[0m\u001b[32m\\u003c/function\\u003e\\n\\\u001b[0m\u001b[32mu003cfunction\u001b[0m\u001b[32m=\u001b[0m\u001b[32mget_analyst_recommendations\u001b[0m\u001b[32m{\u001b[0m\u001b[32m\\\"symbol\\\": \u001b[0m                   \n",
       "         \u001b[32m\\\"QCOM\\\"\u001b[0m\u001b[32m}\u001b[0m\u001b[32m\\u003c/function\\u003e\\n\\\u001b[0m\u001b[32mu003cfunction\u001b[0m\u001b[32m=\u001b[0m\u001b[32mget_analyst_recommendations\u001b[0m\u001b[32m{\u001b[0m\u001b[32m\\\"symbol\\\": \u001b[0m                   \n",
       "         \u001b[32m\\\"MU\\\"\u001b[0m\u001b[32m}\u001b[0m\u001b[32m\\u003c/function\\u003e\"\u001b[0m\u001b[1m}\u001b[0m\u001b[1m}\u001b[0m                                                                           \n",
       "                                                                                                                   \n"
      ]
     },
     "metadata": {},
     "output_type": "display_data"
    },
    {
     "data": {
      "text/html": [
       "<pre style=\"white-space:pre;overflow-x:auto;line-height:normal;font-family:Menlo,'DejaVu Sans Mono',consolas,'Courier New',monospace\"><span style=\"color: #800000; text-decoration-color: #800000; font-weight: bold\">ERROR   </span> Failed after <span style=\"color: #008080; text-decoration-color: #008080; font-weight: bold\">1</span> attempts. Last error using <span style=\"color: #800080; text-decoration-color: #800080; font-weight: bold\">Groq</span><span style=\"font-weight: bold\">(</span>llama-<span style=\"color: #008080; text-decoration-color: #008080; font-weight: bold\">3.3</span>-70b-versatile<span style=\"font-weight: bold\">)</span>                                   \n",
       "</pre>\n"
      ],
      "text/plain": [
       "\u001b[1;31mERROR   \u001b[0m Failed after \u001b[1;36m1\u001b[0m attempts. Last error using \u001b[1;35mGroq\u001b[0m\u001b[1m(\u001b[0mllama-\u001b[1;36m3.3\u001b[0m-70b-versatile\u001b[1m)\u001b[0m                                   \n"
      ]
     },
     "metadata": {},
     "output_type": "display_data"
    },
    {
     "data": {
      "text/html": [
       "<pre style=\"white-space:pre;overflow-x:auto;line-height:normal;font-family:Menlo,'DejaVu Sans Mono',consolas,'Courier New',monospace\"><span style=\"color: #808000; text-decoration-color: #808000\">WARNING </span> Attempt <span style=\"color: #008080; text-decoration-color: #008080; font-weight: bold\">1</span>/<span style=\"color: #008080; text-decoration-color: #008080; font-weight: bold\">1</span> failed: <span style=\"font-weight: bold\">{</span><span style=\"color: #008000; text-decoration-color: #008000\">\"error\"</span>:<span style=\"font-weight: bold\">{</span><span style=\"color: #008000; text-decoration-color: #008000\">\"message\"</span>:<span style=\"color: #008000; text-decoration-color: #008000\">\"Failed to call a function. Please adjust your prompt. See </span>       \n",
       "         <span style=\"color: #008000; text-decoration-color: #008000\">'failed_generation' for more </span>                                                                             \n",
       "         <span style=\"color: #008000; text-decoration-color: #008000\">details.\"</span>,<span style=\"color: #008000; text-decoration-color: #008000\">\"type\"</span>:<span style=\"color: #008000; text-decoration-color: #008000\">\"invalid_request_error\"</span>,<span style=\"color: #008000; text-decoration-color: #008000\">\"code\"</span>:<span style=\"color: #008000; text-decoration-color: #008000\">\"tool_use_failed\"</span>,<span style=\"color: #008000; text-decoration-color: #008000\">\"failed_generation\"</span>:<span style=\"color: #008000; text-decoration-color: #008000\">\"### Financial Data </span>\n",
       "         <span style=\"color: #008000; text-decoration-color: #008000\">of AI Semiconductor Companies\\nThe following table provides financial data for key AI semiconductor </span>      \n",
       "         <span style=\"color: #008000; text-decoration-color: #008000\">companies:\\n\\n| Company | Symbol | Revenue (2022) | Net Income (2022) | Current Stock Price |\\n| --- | ---</span>\n",
       "         <span style=\"color: #008000; text-decoration-color: #008000\">| --- | --- | --- |\\n| NVIDIA | NVDA | $26.91B | $9.75B | </span>                                                \n",
       "         <span style=\"color: #008000; text-decoration-color: #008000\">\\u003cfunction=get_current_stock_price{\\\"symbol\\\": \\\"NVDA\\\"}\\u003c/function\\u003e |\\n| Advanced Micro </span>    \n",
       "         <span style=\"color: #008000; text-decoration-color: #008000\">Devices | AMD | $23.60B | $3.96B | \\u003cfunction=get_current_stock_price{\\\"symbol\\\": </span>                    \n",
       "         <span style=\"color: #008000; text-decoration-color: #008000\">\\\"AMD\\\"}\\u003c/function\\u003e |\\n| Intel | INTC | $79.02B | $19.45B | </span>                                    \n",
       "         <span style=\"color: #008000; text-decoration-color: #008000\">\\u003cfunction=get_current_stock_price{\\\"symbol\\\": \\\"INTC\\\"}\\u003c/function\\u003e |\\n| Qualcomm | QCOM | </span> \n",
       "         <span style=\"color: #008000; text-decoration-color: #008000\">$44.20B | $9.04B | \\u003cfunction=get_current_stock_price{\\\"symbol\\\": \\\"QCOM\\\"}\\u003c/function\\u003e |\\n| </span>\n",
       "         <span style=\"color: #008000; text-decoration-color: #008000\">Micron Technology | MU | $30.76B | $7.75B | \\u003cfunction=get_current_stock_price{\\\"symbol\\\": </span>           \n",
       "         <span style=\"color: #008000; text-decoration-color: #008000\">\\\"MU\\\"}\\u003c/function\\u003e |\\n\\nPlease note that the current stock prices are subject to change and may </span>\n",
       "         <span style=\"color: #008000; text-decoration-color: #008000\">not reflect the current market value at the time of reading. For more up-to-date and detailed information,</span>\n",
       "         <span style=\"color: #008000; text-decoration-color: #008000\">you can use the following functions:\\n\\n\\u003cfunction=get_company_info{\\\"symbol\\\": </span>                      \n",
       "         <span style=\"color: #008000; text-decoration-color: #008000\">\\\"NVDA\\\"}\\u003c/function\\u003e\\n\\u003cfunction=get_company_info{\\\"symbol\\\": </span>                              \n",
       "         <span style=\"color: #008000; text-decoration-color: #008000\">\\\"AMD\\\"}\\u003c/function\\u003e\\n\\u003cfunction=get_company_info{\\\"symbol\\\": </span>                               \n",
       "         <span style=\"color: #008000; text-decoration-color: #008000\">\\\"INTC\\\"}\\u003c/function\\u003e\\n\\u003cfunction=get_company_info{\\\"symbol\\\": </span>                              \n",
       "         <span style=\"color: #008000; text-decoration-color: #008000\">\\\"QCOM\\\"}\\u003c/function\\u003e\\n\\u003cfunction=get_company_info{\\\"symbol\\\": </span>                              \n",
       "         <span style=\"color: #008000; text-decoration-color: #008000\">\\\"MU\\\"}\\u003c/function\\u003e\\n\\nAdditionally, you can get analyst recommendations for these companies </span>    \n",
       "         <span style=\"color: #008000; text-decoration-color: #008000\">using the following functions:\\n\\n\\u003cfunction=get_analyst_recommendations{\\\"symbol\\\": </span>                 \n",
       "         <span style=\"color: #008000; text-decoration-color: #008000\">\\\"NVDA\\\"}\\u003c/function\\u003e\\n\\u003cfunction=get_analyst_recommendations{\\\"symbol\\\": </span>                   \n",
       "         <span style=\"color: #008000; text-decoration-color: #008000\">\\\"AMD\\\"}\\u003c/function\\u003e\\n\\u003cfunction=get_analyst_recommendations{\\\"symbol\\\": </span>                    \n",
       "         <span style=\"color: #008000; text-decoration-color: #008000\">\\\"INTC\\\"}\\u003c/function\\u003e\\n\\u003cfunction=get_analyst_recommendations{\\\"symbol\\\": </span>                   \n",
       "         <span style=\"color: #008000; text-decoration-color: #008000\">\\\"QCOM\\\"}\\u003c/function\\u003e\\n\\u003cfunction=get_analyst_recommendations{\\\"symbol\\\": </span>                   \n",
       "         <span style=\"color: #008000; text-decoration-color: #008000\">\\\"MU\\\"}\\u003c/function\\u003e\"</span><span style=\"font-weight: bold\">}}</span>                                                                           \n",
       "                                                                                                                   \n",
       "</pre>\n"
      ],
      "text/plain": [
       "\u001b[33mWARNING \u001b[0m Attempt \u001b[1;36m1\u001b[0m/\u001b[1;36m1\u001b[0m failed: \u001b[1m{\u001b[0m\u001b[32m\"error\"\u001b[0m:\u001b[1m{\u001b[0m\u001b[32m\"message\"\u001b[0m:\u001b[32m\"Failed to call a function. Please adjust your prompt. See \u001b[0m       \n",
       "         \u001b[32m'failed_generation' for more \u001b[0m                                                                             \n",
       "         \u001b[32mdetails.\"\u001b[0m,\u001b[32m\"type\"\u001b[0m:\u001b[32m\"invalid_request_error\"\u001b[0m,\u001b[32m\"code\"\u001b[0m:\u001b[32m\"tool_use_failed\"\u001b[0m,\u001b[32m\"failed_generation\"\u001b[0m:\u001b[32m\"### Financial Data \u001b[0m\n",
       "         \u001b[32mof AI Semiconductor Companies\\nThe following table provides financial data for key AI semiconductor \u001b[0m      \n",
       "         \u001b[32mcompanies:\\n\\n| Company | Symbol | Revenue \u001b[0m\u001b[32m(\u001b[0m\u001b[32m2022\u001b[0m\u001b[32m)\u001b[0m\u001b[32m | Net Income \u001b[0m\u001b[32m(\u001b[0m\u001b[32m2022\u001b[0m\u001b[32m)\u001b[0m\u001b[32m | Current Stock Price |\\n| --- | ---\u001b[0m\n",
       "         \u001b[32m| --- | --- | --- |\\n| NVIDIA | NVDA | $26.91B | $9.75B | \u001b[0m                                                \n",
       "         \u001b[32m\\\u001b[0m\u001b[32mu003cfunction\u001b[0m\u001b[32m=\u001b[0m\u001b[32mget_current_stock_price\u001b[0m\u001b[32m{\u001b[0m\u001b[32m\\\"symbol\\\": \\\"NVDA\\\"\u001b[0m\u001b[32m}\u001b[0m\u001b[32m\\u003c/function\\u003e |\\n| Advanced Micro \u001b[0m    \n",
       "         \u001b[32mDevices | AMD | $23.60B | $3.96B | \\\u001b[0m\u001b[32mu003cfunction\u001b[0m\u001b[32m=\u001b[0m\u001b[32mget_current_stock_price\u001b[0m\u001b[32m{\u001b[0m\u001b[32m\\\"symbol\\\": \u001b[0m                    \n",
       "         \u001b[32m\\\"AMD\\\"\u001b[0m\u001b[32m}\u001b[0m\u001b[32m\\u003c/function\\u003e |\\n| Intel | INTC | $79.02B | $19.45B | \u001b[0m                                    \n",
       "         \u001b[32m\\\u001b[0m\u001b[32mu003cfunction\u001b[0m\u001b[32m=\u001b[0m\u001b[32mget_current_stock_price\u001b[0m\u001b[32m{\u001b[0m\u001b[32m\\\"symbol\\\": \\\"INTC\\\"\u001b[0m\u001b[32m}\u001b[0m\u001b[32m\\u003c/function\\u003e |\\n| Qualcomm | QCOM | \u001b[0m \n",
       "         \u001b[32m$44.20B | $9.04B | \\\u001b[0m\u001b[32mu003cfunction\u001b[0m\u001b[32m=\u001b[0m\u001b[32mget_current_stock_price\u001b[0m\u001b[32m{\u001b[0m\u001b[32m\\\"symbol\\\": \\\"QCOM\\\"\u001b[0m\u001b[32m}\u001b[0m\u001b[32m\\u003c/function\\u003e |\\n| \u001b[0m\n",
       "         \u001b[32mMicron Technology | MU | $30.76B | $7.75B | \\\u001b[0m\u001b[32mu003cfunction\u001b[0m\u001b[32m=\u001b[0m\u001b[32mget_current_stock_price\u001b[0m\u001b[32m{\u001b[0m\u001b[32m\\\"symbol\\\": \u001b[0m           \n",
       "         \u001b[32m\\\"MU\\\"\u001b[0m\u001b[32m}\u001b[0m\u001b[32m\\u003c/function\\u003e |\\n\\nPlease note that the current stock prices are subject to change and may \u001b[0m\n",
       "         \u001b[32mnot reflect the current market value at the time of reading. For more up-to-date and detailed information,\u001b[0m\n",
       "         \u001b[32myou can use the following functions:\\n\\n\\\u001b[0m\u001b[32mu003cfunction\u001b[0m\u001b[32m=\u001b[0m\u001b[32mget_company_info\u001b[0m\u001b[32m{\u001b[0m\u001b[32m\\\"symbol\\\": \u001b[0m                      \n",
       "         \u001b[32m\\\"NVDA\\\"\u001b[0m\u001b[32m}\u001b[0m\u001b[32m\\u003c/function\\u003e\\n\\\u001b[0m\u001b[32mu003cfunction\u001b[0m\u001b[32m=\u001b[0m\u001b[32mget_company_info\u001b[0m\u001b[32m{\u001b[0m\u001b[32m\\\"symbol\\\": \u001b[0m                              \n",
       "         \u001b[32m\\\"AMD\\\"\u001b[0m\u001b[32m}\u001b[0m\u001b[32m\\u003c/function\\u003e\\n\\\u001b[0m\u001b[32mu003cfunction\u001b[0m\u001b[32m=\u001b[0m\u001b[32mget_company_info\u001b[0m\u001b[32m{\u001b[0m\u001b[32m\\\"symbol\\\": \u001b[0m                               \n",
       "         \u001b[32m\\\"INTC\\\"\u001b[0m\u001b[32m}\u001b[0m\u001b[32m\\u003c/function\\u003e\\n\\\u001b[0m\u001b[32mu003cfunction\u001b[0m\u001b[32m=\u001b[0m\u001b[32mget_company_info\u001b[0m\u001b[32m{\u001b[0m\u001b[32m\\\"symbol\\\": \u001b[0m                              \n",
       "         \u001b[32m\\\"QCOM\\\"\u001b[0m\u001b[32m}\u001b[0m\u001b[32m\\u003c/function\\u003e\\n\\\u001b[0m\u001b[32mu003cfunction\u001b[0m\u001b[32m=\u001b[0m\u001b[32mget_company_info\u001b[0m\u001b[32m{\u001b[0m\u001b[32m\\\"symbol\\\": \u001b[0m                              \n",
       "         \u001b[32m\\\"MU\\\"\u001b[0m\u001b[32m}\u001b[0m\u001b[32m\\u003c/function\\u003e\\n\\nAdditionally, you can get analyst recommendations for these companies \u001b[0m    \n",
       "         \u001b[32musing the following functions:\\n\\n\\\u001b[0m\u001b[32mu003cfunction\u001b[0m\u001b[32m=\u001b[0m\u001b[32mget_analyst_recommendations\u001b[0m\u001b[32m{\u001b[0m\u001b[32m\\\"symbol\\\": \u001b[0m                 \n",
       "         \u001b[32m\\\"NVDA\\\"\u001b[0m\u001b[32m}\u001b[0m\u001b[32m\\u003c/function\\u003e\\n\\\u001b[0m\u001b[32mu003cfunction\u001b[0m\u001b[32m=\u001b[0m\u001b[32mget_analyst_recommendations\u001b[0m\u001b[32m{\u001b[0m\u001b[32m\\\"symbol\\\": \u001b[0m                   \n",
       "         \u001b[32m\\\"AMD\\\"\u001b[0m\u001b[32m}\u001b[0m\u001b[32m\\u003c/function\\u003e\\n\\\u001b[0m\u001b[32mu003cfunction\u001b[0m\u001b[32m=\u001b[0m\u001b[32mget_analyst_recommendations\u001b[0m\u001b[32m{\u001b[0m\u001b[32m\\\"symbol\\\": \u001b[0m                    \n",
       "         \u001b[32m\\\"INTC\\\"\u001b[0m\u001b[32m}\u001b[0m\u001b[32m\\u003c/function\\u003e\\n\\\u001b[0m\u001b[32mu003cfunction\u001b[0m\u001b[32m=\u001b[0m\u001b[32mget_analyst_recommendations\u001b[0m\u001b[32m{\u001b[0m\u001b[32m\\\"symbol\\\": \u001b[0m                   \n",
       "         \u001b[32m\\\"QCOM\\\"\u001b[0m\u001b[32m}\u001b[0m\u001b[32m\\u003c/function\\u003e\\n\\\u001b[0m\u001b[32mu003cfunction\u001b[0m\u001b[32m=\u001b[0m\u001b[32mget_analyst_recommendations\u001b[0m\u001b[32m{\u001b[0m\u001b[32m\\\"symbol\\\": \u001b[0m                   \n",
       "         \u001b[32m\\\"MU\\\"\u001b[0m\u001b[32m}\u001b[0m\u001b[32m\\u003c/function\\u003e\"\u001b[0m\u001b[1m}\u001b[0m\u001b[1m}\u001b[0m                                                                           \n",
       "                                                                                                                   \n"
      ]
     },
     "metadata": {},
     "output_type": "display_data"
    },
    {
     "data": {
      "text/html": [
       "<pre style=\"white-space:pre;overflow-x:auto;line-height:normal;font-family:Menlo,'DejaVu Sans Mono',consolas,'Courier New',monospace\"><span style=\"color: #800000; text-decoration-color: #800000; font-weight: bold\">ERROR   </span> Failed after <span style=\"color: #008080; text-decoration-color: #008080; font-weight: bold\">1</span> attempts. Last error using <span style=\"color: #800080; text-decoration-color: #800080; font-weight: bold\">Groq</span><span style=\"font-weight: bold\">(</span>llama-<span style=\"color: #008080; text-decoration-color: #008080; font-weight: bold\">3.3</span>-70b-versatile<span style=\"font-weight: bold\">)</span>                                   \n",
       "</pre>\n"
      ],
      "text/plain": [
       "\u001b[1;31mERROR   \u001b[0m Failed after \u001b[1;36m1\u001b[0m attempts. Last error using \u001b[1;35mGroq\u001b[0m\u001b[1m(\u001b[0mllama-\u001b[1;36m3.3\u001b[0m-70b-versatile\u001b[1m)\u001b[0m                                   \n"
      ]
     },
     "metadata": {},
     "output_type": "display_data"
    },
    {
     "data": {
      "text/html": [
       "<pre style=\"white-space:pre;overflow-x:auto;line-height:normal;font-family:Menlo,'DejaVu Sans Mono',consolas,'Courier New',monospace\"></pre>\n"
      ],
      "text/plain": []
     },
     "metadata": {},
     "output_type": "display_data"
    },
    {
     "ename": "ModelProviderError",
     "evalue": "{\"error\":{\"message\":\"Failed to call a function. Please adjust your prompt. See 'failed_generation' for more details.\",\"type\":\"invalid_request_error\",\"code\":\"tool_use_failed\",\"failed_generation\":\"### Financial Data of AI Semiconductor Companies\\nThe following table provides financial data for key AI semiconductor companies:\\n\\n| Company | Symbol | Revenue (2022) | Net Income (2022) | Current Stock Price |\\n| --- | --- | --- | --- | --- |\\n| NVIDIA | NVDA | $26.91B | $9.75B | \\u003cfunction=get_current_stock_price{\\\"symbol\\\": \\\"NVDA\\\"}\\u003c/function\\u003e |\\n| Advanced Micro Devices | AMD | $23.60B | $3.96B | \\u003cfunction=get_current_stock_price{\\\"symbol\\\": \\\"AMD\\\"}\\u003c/function\\u003e |\\n| Intel | INTC | $79.02B | $19.45B | \\u003cfunction=get_current_stock_price{\\\"symbol\\\": \\\"INTC\\\"}\\u003c/function\\u003e |\\n| Qualcomm | QCOM | $44.20B | $9.04B | \\u003cfunction=get_current_stock_price{\\\"symbol\\\": \\\"QCOM\\\"}\\u003c/function\\u003e |\\n| Micron Technology | MU | $30.76B | $7.75B | \\u003cfunction=get_current_stock_price{\\\"symbol\\\": \\\"MU\\\"}\\u003c/function\\u003e |\\n\\nPlease note that the current stock prices are subject to change and may not reflect the current market value at the time of reading. For more up-to-date and detailed information, you can use the following functions:\\n\\n\\u003cfunction=get_company_info{\\\"symbol\\\": \\\"NVDA\\\"}\\u003c/function\\u003e\\n\\u003cfunction=get_company_info{\\\"symbol\\\": \\\"AMD\\\"}\\u003c/function\\u003e\\n\\u003cfunction=get_company_info{\\\"symbol\\\": \\\"INTC\\\"}\\u003c/function\\u003e\\n\\u003cfunction=get_company_info{\\\"symbol\\\": \\\"QCOM\\\"}\\u003c/function\\u003e\\n\\u003cfunction=get_company_info{\\\"symbol\\\": \\\"MU\\\"}\\u003c/function\\u003e\\n\\nAdditionally, you can get analyst recommendations for these companies using the following functions:\\n\\n\\u003cfunction=get_analyst_recommendations{\\\"symbol\\\": \\\"NVDA\\\"}\\u003c/function\\u003e\\n\\u003cfunction=get_analyst_recommendations{\\\"symbol\\\": \\\"AMD\\\"}\\u003c/function\\u003e\\n\\u003cfunction=get_analyst_recommendations{\\\"symbol\\\": \\\"INTC\\\"}\\u003c/function\\u003e\\n\\u003cfunction=get_analyst_recommendations{\\\"symbol\\\": \\\"QCOM\\\"}\\u003c/function\\u003e\\n\\u003cfunction=get_analyst_recommendations{\\\"symbol\\\": \\\"MU\\\"}\\u003c/function\\u003e\"}}\n",
     "output_type": "error",
     "traceback": [
      "\u001b[31m---------------------------------------------------------------------------\u001b[39m\n",
      "\u001b[31mBadRequestError\u001b[39m                           Traceback (most recent call last)\n",
      "\u001b[36mFile \u001b[39m\u001b[32mc:\\Users\\Vishwas\\miniconda3\\envs\\mcondaenv\\Lib\\site-packages\\agno\\models\\groq\\groq.py:253\u001b[39m, in \u001b[36mGroq.invoke\u001b[39m\u001b[34m(self, messages)\u001b[39m\n",
      "\u001b[32m    252\u001b[39m \u001b[38;5;28;01mtry\u001b[39;00m:\n",
      "\u001b[32m--> \u001b[39m\u001b[32m253\u001b[39m     \u001b[38;5;28;01mreturn\u001b[39;00m \u001b[38;5;28;43mself\u001b[39;49m\u001b[43m.\u001b[49m\u001b[43mget_client\u001b[49m\u001b[43m(\u001b[49m\u001b[43m)\u001b[49m\u001b[43m.\u001b[49m\u001b[43mchat\u001b[49m\u001b[43m.\u001b[49m\u001b[43mcompletions\u001b[49m\u001b[43m.\u001b[49m\u001b[43mcreate\u001b[49m\u001b[43m(\u001b[49m\n",
      "\u001b[32m    254\u001b[39m \u001b[43m        \u001b[49m\u001b[43mmodel\u001b[49m\u001b[43m=\u001b[49m\u001b[38;5;28;43mself\u001b[39;49m\u001b[43m.\u001b[49m\u001b[43mid\u001b[49m\u001b[43m,\u001b[49m\n",
      "\u001b[32m    255\u001b[39m \u001b[43m        \u001b[49m\u001b[43mmessages\u001b[49m\u001b[43m=\u001b[49m\u001b[43m[\u001b[49m\u001b[38;5;28;43mself\u001b[39;49m\u001b[43m.\u001b[49m\u001b[43mformat_message\u001b[49m\u001b[43m(\u001b[49m\u001b[43mm\u001b[49m\u001b[43m)\u001b[49m\u001b[43m \u001b[49m\u001b[38;5;28;43;01mfor\u001b[39;49;00m\u001b[43m \u001b[49m\u001b[43mm\u001b[49m\u001b[43m \u001b[49m\u001b[38;5;129;43;01min\u001b[39;49;00m\u001b[43m \u001b[49m\u001b[43mmessages\u001b[49m\u001b[43m]\u001b[49m\u001b[43m,\u001b[49m\u001b[43m  \u001b[49m\u001b[38;5;66;43;03m# type: ignore\u001b[39;49;00m\n",
      "\u001b[32m    256\u001b[39m \u001b[43m        \u001b[49m\u001b[43m*\u001b[49m\u001b[43m*\u001b[49m\u001b[38;5;28;43mself\u001b[39;49m\u001b[43m.\u001b[49m\u001b[43mrequest_kwargs\u001b[49m\u001b[43m,\u001b[49m\n",
      "\u001b[32m    257\u001b[39m \u001b[43m    \u001b[49m\u001b[43m)\u001b[49m\n",
      "\u001b[32m    258\u001b[39m \u001b[38;5;28;01mexcept\u001b[39;00m (APIResponseValidationError, APIStatusError) \u001b[38;5;28;01mas\u001b[39;00m e:\n",
      "\n",
      "\u001b[36mFile \u001b[39m\u001b[32mc:\\Users\\Vishwas\\miniconda3\\envs\\mcondaenv\\Lib\\site-packages\\groq\\resources\\chat\\completions.py:322\u001b[39m, in \u001b[36mCompletions.create\u001b[39m\u001b[34m(self, messages, model, frequency_penalty, function_call, functions, logit_bias, logprobs, max_completion_tokens, max_tokens, n, parallel_tool_calls, presence_penalty, reasoning_format, response_format, seed, service_tier, stop, stream, temperature, tool_choice, tools, top_logprobs, top_p, user, extra_headers, extra_query, extra_body, timeout)\u001b[39m\n",
      "\u001b[32m    200\u001b[39m \u001b[38;5;250m\u001b[39m\u001b[33;03m\"\"\"\u001b[39;00m\n",
      "\u001b[32m    201\u001b[39m \u001b[33;03mCreates a model response for the given chat conversation.\u001b[39;00m\n",
      "\u001b[32m    202\u001b[39m \n",
      "\u001b[32m   (...)\u001b[39m\u001b[32m    320\u001b[39m \u001b[33;03m  timeout: Override the client-level default timeout for this request, in seconds\u001b[39;00m\n",
      "\u001b[32m    321\u001b[39m \u001b[33;03m\"\"\"\u001b[39;00m\n",
      "\u001b[32m--> \u001b[39m\u001b[32m322\u001b[39m \u001b[38;5;28;01mreturn\u001b[39;00m \u001b[38;5;28;43mself\u001b[39;49m\u001b[43m.\u001b[49m\u001b[43m_post\u001b[49m\u001b[43m(\u001b[49m\n",
      "\u001b[32m    323\u001b[39m \u001b[43m    \u001b[49m\u001b[33;43m\"\u001b[39;49m\u001b[33;43m/openai/v1/chat/completions\u001b[39;49m\u001b[33;43m\"\u001b[39;49m\u001b[43m,\u001b[49m\n",
      "\u001b[32m    324\u001b[39m \u001b[43m    \u001b[49m\u001b[43mbody\u001b[49m\u001b[43m=\u001b[49m\u001b[43mmaybe_transform\u001b[49m\u001b[43m(\u001b[49m\n",
      "\u001b[32m    325\u001b[39m \u001b[43m        \u001b[49m\u001b[43m{\u001b[49m\n",
      "\u001b[32m    326\u001b[39m \u001b[43m            \u001b[49m\u001b[33;43m\"\u001b[39;49m\u001b[33;43mmessages\u001b[39;49m\u001b[33;43m\"\u001b[39;49m\u001b[43m:\u001b[49m\u001b[43m \u001b[49m\u001b[43mmessages\u001b[49m\u001b[43m,\u001b[49m\n",
      "\u001b[32m    327\u001b[39m \u001b[43m            \u001b[49m\u001b[33;43m\"\u001b[39;49m\u001b[33;43mmodel\u001b[39;49m\u001b[33;43m\"\u001b[39;49m\u001b[43m:\u001b[49m\u001b[43m \u001b[49m\u001b[43mmodel\u001b[49m\u001b[43m,\u001b[49m\n",
      "\u001b[32m    328\u001b[39m \u001b[43m            \u001b[49m\u001b[33;43m\"\u001b[39;49m\u001b[33;43mfrequency_penalty\u001b[39;49m\u001b[33;43m\"\u001b[39;49m\u001b[43m:\u001b[49m\u001b[43m \u001b[49m\u001b[43mfrequency_penalty\u001b[49m\u001b[43m,\u001b[49m\n",
      "\u001b[32m    329\u001b[39m \u001b[43m            \u001b[49m\u001b[33;43m\"\u001b[39;49m\u001b[33;43mfunction_call\u001b[39;49m\u001b[33;43m\"\u001b[39;49m\u001b[43m:\u001b[49m\u001b[43m \u001b[49m\u001b[43mfunction_call\u001b[49m\u001b[43m,\u001b[49m\n",
      "\u001b[32m    330\u001b[39m \u001b[43m            \u001b[49m\u001b[33;43m\"\u001b[39;49m\u001b[33;43mfunctions\u001b[39;49m\u001b[33;43m\"\u001b[39;49m\u001b[43m:\u001b[49m\u001b[43m \u001b[49m\u001b[43mfunctions\u001b[49m\u001b[43m,\u001b[49m\n",
      "\u001b[32m    331\u001b[39m \u001b[43m            \u001b[49m\u001b[33;43m\"\u001b[39;49m\u001b[33;43mlogit_bias\u001b[39;49m\u001b[33;43m\"\u001b[39;49m\u001b[43m:\u001b[49m\u001b[43m \u001b[49m\u001b[43mlogit_bias\u001b[49m\u001b[43m,\u001b[49m\n",
      "\u001b[32m    332\u001b[39m \u001b[43m            \u001b[49m\u001b[33;43m\"\u001b[39;49m\u001b[33;43mlogprobs\u001b[39;49m\u001b[33;43m\"\u001b[39;49m\u001b[43m:\u001b[49m\u001b[43m \u001b[49m\u001b[43mlogprobs\u001b[49m\u001b[43m,\u001b[49m\n",
      "\u001b[32m    333\u001b[39m \u001b[43m            \u001b[49m\u001b[33;43m\"\u001b[39;49m\u001b[33;43mmax_completion_tokens\u001b[39;49m\u001b[33;43m\"\u001b[39;49m\u001b[43m:\u001b[49m\u001b[43m \u001b[49m\u001b[43mmax_completion_tokens\u001b[49m\u001b[43m,\u001b[49m\n",
      "\u001b[32m    334\u001b[39m \u001b[43m            \u001b[49m\u001b[33;43m\"\u001b[39;49m\u001b[33;43mmax_tokens\u001b[39;49m\u001b[33;43m\"\u001b[39;49m\u001b[43m:\u001b[49m\u001b[43m \u001b[49m\u001b[43mmax_tokens\u001b[49m\u001b[43m,\u001b[49m\n",
      "\u001b[32m    335\u001b[39m \u001b[43m            \u001b[49m\u001b[33;43m\"\u001b[39;49m\u001b[33;43mn\u001b[39;49m\u001b[33;43m\"\u001b[39;49m\u001b[43m:\u001b[49m\u001b[43m \u001b[49m\u001b[43mn\u001b[49m\u001b[43m,\u001b[49m\n",
      "\u001b[32m    336\u001b[39m \u001b[43m            \u001b[49m\u001b[33;43m\"\u001b[39;49m\u001b[33;43mparallel_tool_calls\u001b[39;49m\u001b[33;43m\"\u001b[39;49m\u001b[43m:\u001b[49m\u001b[43m \u001b[49m\u001b[43mparallel_tool_calls\u001b[49m\u001b[43m,\u001b[49m\n",
      "\u001b[32m    337\u001b[39m \u001b[43m            \u001b[49m\u001b[33;43m\"\u001b[39;49m\u001b[33;43mpresence_penalty\u001b[39;49m\u001b[33;43m\"\u001b[39;49m\u001b[43m:\u001b[49m\u001b[43m \u001b[49m\u001b[43mpresence_penalty\u001b[49m\u001b[43m,\u001b[49m\n",
      "\u001b[32m    338\u001b[39m \u001b[43m            \u001b[49m\u001b[33;43m\"\u001b[39;49m\u001b[33;43mreasoning_format\u001b[39;49m\u001b[33;43m\"\u001b[39;49m\u001b[43m:\u001b[49m\u001b[43m \u001b[49m\u001b[43mreasoning_format\u001b[49m\u001b[43m,\u001b[49m\n",
      "\u001b[32m    339\u001b[39m \u001b[43m            \u001b[49m\u001b[33;43m\"\u001b[39;49m\u001b[33;43mresponse_format\u001b[39;49m\u001b[33;43m\"\u001b[39;49m\u001b[43m:\u001b[49m\u001b[43m \u001b[49m\u001b[43mresponse_format\u001b[49m\u001b[43m,\u001b[49m\n",
      "\u001b[32m    340\u001b[39m \u001b[43m            \u001b[49m\u001b[33;43m\"\u001b[39;49m\u001b[33;43mseed\u001b[39;49m\u001b[33;43m\"\u001b[39;49m\u001b[43m:\u001b[49m\u001b[43m \u001b[49m\u001b[43mseed\u001b[49m\u001b[43m,\u001b[49m\n",
      "\u001b[32m    341\u001b[39m \u001b[43m            \u001b[49m\u001b[33;43m\"\u001b[39;49m\u001b[33;43mservice_tier\u001b[39;49m\u001b[33;43m\"\u001b[39;49m\u001b[43m:\u001b[49m\u001b[43m \u001b[49m\u001b[43mservice_tier\u001b[49m\u001b[43m,\u001b[49m\n",
      "\u001b[32m    342\u001b[39m \u001b[43m            \u001b[49m\u001b[33;43m\"\u001b[39;49m\u001b[33;43mstop\u001b[39;49m\u001b[33;43m\"\u001b[39;49m\u001b[43m:\u001b[49m\u001b[43m \u001b[49m\u001b[43mstop\u001b[49m\u001b[43m,\u001b[49m\n",
      "\u001b[32m    343\u001b[39m \u001b[43m            \u001b[49m\u001b[33;43m\"\u001b[39;49m\u001b[33;43mstream\u001b[39;49m\u001b[33;43m\"\u001b[39;49m\u001b[43m:\u001b[49m\u001b[43m \u001b[49m\u001b[43mstream\u001b[49m\u001b[43m,\u001b[49m\n",
      "\u001b[32m    344\u001b[39m \u001b[43m            \u001b[49m\u001b[33;43m\"\u001b[39;49m\u001b[33;43mtemperature\u001b[39;49m\u001b[33;43m\"\u001b[39;49m\u001b[43m:\u001b[49m\u001b[43m \u001b[49m\u001b[43mtemperature\u001b[49m\u001b[43m,\u001b[49m\n",
      "\u001b[32m    345\u001b[39m \u001b[43m            \u001b[49m\u001b[33;43m\"\u001b[39;49m\u001b[33;43mtool_choice\u001b[39;49m\u001b[33;43m\"\u001b[39;49m\u001b[43m:\u001b[49m\u001b[43m \u001b[49m\u001b[43mtool_choice\u001b[49m\u001b[43m,\u001b[49m\n",
      "\u001b[32m    346\u001b[39m \u001b[43m            \u001b[49m\u001b[33;43m\"\u001b[39;49m\u001b[33;43mtools\u001b[39;49m\u001b[33;43m\"\u001b[39;49m\u001b[43m:\u001b[49m\u001b[43m \u001b[49m\u001b[43mtools\u001b[49m\u001b[43m,\u001b[49m\n",
      "\u001b[32m    347\u001b[39m \u001b[43m            \u001b[49m\u001b[33;43m\"\u001b[39;49m\u001b[33;43mtop_logprobs\u001b[39;49m\u001b[33;43m\"\u001b[39;49m\u001b[43m:\u001b[49m\u001b[43m \u001b[49m\u001b[43mtop_logprobs\u001b[49m\u001b[43m,\u001b[49m\n",
      "\u001b[32m    348\u001b[39m \u001b[43m            \u001b[49m\u001b[33;43m\"\u001b[39;49m\u001b[33;43mtop_p\u001b[39;49m\u001b[33;43m\"\u001b[39;49m\u001b[43m:\u001b[49m\u001b[43m \u001b[49m\u001b[43mtop_p\u001b[49m\u001b[43m,\u001b[49m\n",
      "\u001b[32m    349\u001b[39m \u001b[43m            \u001b[49m\u001b[33;43m\"\u001b[39;49m\u001b[33;43muser\u001b[39;49m\u001b[33;43m\"\u001b[39;49m\u001b[43m:\u001b[49m\u001b[43m \u001b[49m\u001b[43muser\u001b[49m\u001b[43m,\u001b[49m\n",
      "\u001b[32m    350\u001b[39m \u001b[43m        \u001b[49m\u001b[43m}\u001b[49m\u001b[43m,\u001b[49m\n",
      "\u001b[32m    351\u001b[39m \u001b[43m        \u001b[49m\u001b[43mcompletion_create_params\u001b[49m\u001b[43m.\u001b[49m\u001b[43mCompletionCreateParams\u001b[49m\u001b[43m,\u001b[49m\n",
      "\u001b[32m    352\u001b[39m \u001b[43m    \u001b[49m\u001b[43m)\u001b[49m\u001b[43m,\u001b[49m\n",
      "\u001b[32m    353\u001b[39m \u001b[43m    \u001b[49m\u001b[43moptions\u001b[49m\u001b[43m=\u001b[49m\u001b[43mmake_request_options\u001b[49m\u001b[43m(\u001b[49m\n",
      "\u001b[32m    354\u001b[39m \u001b[43m        \u001b[49m\u001b[43mextra_headers\u001b[49m\u001b[43m=\u001b[49m\u001b[43mextra_headers\u001b[49m\u001b[43m,\u001b[49m\u001b[43m \u001b[49m\u001b[43mextra_query\u001b[49m\u001b[43m=\u001b[49m\u001b[43mextra_query\u001b[49m\u001b[43m,\u001b[49m\u001b[43m \u001b[49m\u001b[43mextra_body\u001b[49m\u001b[43m=\u001b[49m\u001b[43mextra_body\u001b[49m\u001b[43m,\u001b[49m\u001b[43m \u001b[49m\u001b[43mtimeout\u001b[49m\u001b[43m=\u001b[49m\u001b[43mtimeout\u001b[49m\n",
      "\u001b[32m    355\u001b[39m \u001b[43m    \u001b[49m\u001b[43m)\u001b[49m\u001b[43m,\u001b[49m\n",
      "\u001b[32m    356\u001b[39m \u001b[43m    \u001b[49m\u001b[43mcast_to\u001b[49m\u001b[43m=\u001b[49m\u001b[43mChatCompletion\u001b[49m\u001b[43m,\u001b[49m\n",
      "\u001b[32m    357\u001b[39m \u001b[43m    \u001b[49m\u001b[43mstream\u001b[49m\u001b[43m=\u001b[49m\u001b[43mstream\u001b[49m\u001b[43m \u001b[49m\u001b[38;5;129;43;01mor\u001b[39;49;00m\u001b[43m \u001b[49m\u001b[38;5;28;43;01mFalse\u001b[39;49;00m\u001b[43m,\u001b[49m\n",
      "\u001b[32m    358\u001b[39m \u001b[43m    \u001b[49m\u001b[43mstream_cls\u001b[49m\u001b[43m=\u001b[49m\u001b[43mStream\u001b[49m\u001b[43m[\u001b[49m\u001b[43mChatCompletionChunk\u001b[49m\u001b[43m]\u001b[49m\u001b[43m,\u001b[49m\n",
      "\u001b[32m    359\u001b[39m \u001b[43m\u001b[49m\u001b[43m)\u001b[49m\n",
      "\n",
      "\u001b[36mFile \u001b[39m\u001b[32mc:\\Users\\Vishwas\\miniconda3\\envs\\mcondaenv\\Lib\\site-packages\\groq\\_base_client.py:1225\u001b[39m, in \u001b[36mSyncAPIClient.post\u001b[39m\u001b[34m(self, path, cast_to, body, options, files, stream, stream_cls)\u001b[39m\n",
      "\u001b[32m   1222\u001b[39m opts = FinalRequestOptions.construct(\n",
      "\u001b[32m   1223\u001b[39m     method=\u001b[33m\"\u001b[39m\u001b[33mpost\u001b[39m\u001b[33m\"\u001b[39m, url=path, json_data=body, files=to_httpx_files(files), **options\n",
      "\u001b[32m   1224\u001b[39m )\n",
      "\u001b[32m-> \u001b[39m\u001b[32m1225\u001b[39m \u001b[38;5;28;01mreturn\u001b[39;00m cast(ResponseT, \u001b[38;5;28;43mself\u001b[39;49m\u001b[43m.\u001b[49m\u001b[43mrequest\u001b[49m\u001b[43m(\u001b[49m\u001b[43mcast_to\u001b[49m\u001b[43m,\u001b[49m\u001b[43m \u001b[49m\u001b[43mopts\u001b[49m\u001b[43m,\u001b[49m\u001b[43m \u001b[49m\u001b[43mstream\u001b[49m\u001b[43m=\u001b[49m\u001b[43mstream\u001b[49m\u001b[43m,\u001b[49m\u001b[43m \u001b[49m\u001b[43mstream_cls\u001b[49m\u001b[43m=\u001b[49m\u001b[43mstream_cls\u001b[49m\u001b[43m)\u001b[49m)\n",
      "\n",
      "\u001b[36mFile \u001b[39m\u001b[32mc:\\Users\\Vishwas\\miniconda3\\envs\\mcondaenv\\Lib\\site-packages\\groq\\_base_client.py:917\u001b[39m, in \u001b[36mSyncAPIClient.request\u001b[39m\u001b[34m(self, cast_to, options, remaining_retries, stream, stream_cls)\u001b[39m\n",
      "\u001b[32m    915\u001b[39m     retries_taken = \u001b[32m0\u001b[39m\n",
      "\u001b[32m--> \u001b[39m\u001b[32m917\u001b[39m \u001b[38;5;28;01mreturn\u001b[39;00m \u001b[38;5;28;43mself\u001b[39;49m\u001b[43m.\u001b[49m\u001b[43m_request\u001b[49m\u001b[43m(\u001b[49m\n",
      "\u001b[32m    918\u001b[39m \u001b[43m    \u001b[49m\u001b[43mcast_to\u001b[49m\u001b[43m=\u001b[49m\u001b[43mcast_to\u001b[49m\u001b[43m,\u001b[49m\n",
      "\u001b[32m    919\u001b[39m \u001b[43m    \u001b[49m\u001b[43moptions\u001b[49m\u001b[43m=\u001b[49m\u001b[43moptions\u001b[49m\u001b[43m,\u001b[49m\n",
      "\u001b[32m    920\u001b[39m \u001b[43m    \u001b[49m\u001b[43mstream\u001b[49m\u001b[43m=\u001b[49m\u001b[43mstream\u001b[49m\u001b[43m,\u001b[49m\n",
      "\u001b[32m    921\u001b[39m \u001b[43m    \u001b[49m\u001b[43mstream_cls\u001b[49m\u001b[43m=\u001b[49m\u001b[43mstream_cls\u001b[49m\u001b[43m,\u001b[49m\n",
      "\u001b[32m    922\u001b[39m \u001b[43m    \u001b[49m\u001b[43mretries_taken\u001b[49m\u001b[43m=\u001b[49m\u001b[43mretries_taken\u001b[49m\u001b[43m,\u001b[49m\n",
      "\u001b[32m    923\u001b[39m \u001b[43m\u001b[49m\u001b[43m)\u001b[49m\n",
      "\n",
      "\u001b[36mFile \u001b[39m\u001b[32mc:\\Users\\Vishwas\\miniconda3\\envs\\mcondaenv\\Lib\\site-packages\\groq\\_base_client.py:1020\u001b[39m, in \u001b[36mSyncAPIClient._request\u001b[39m\u001b[34m(self, cast_to, options, retries_taken, stream, stream_cls)\u001b[39m\n",
      "\u001b[32m   1019\u001b[39m     log.debug(\u001b[33m\"\u001b[39m\u001b[33mRe-raising status error\u001b[39m\u001b[33m\"\u001b[39m)\n",
      "\u001b[32m-> \u001b[39m\u001b[32m1020\u001b[39m     \u001b[38;5;28;01mraise\u001b[39;00m \u001b[38;5;28mself\u001b[39m._make_status_error_from_response(err.response) \u001b[38;5;28;01mfrom\u001b[39;00m\u001b[38;5;250m \u001b[39m\u001b[38;5;28;01mNone\u001b[39;00m\n",
      "\u001b[32m   1022\u001b[39m \u001b[38;5;28;01mreturn\u001b[39;00m \u001b[38;5;28mself\u001b[39m._process_response(\n",
      "\u001b[32m   1023\u001b[39m     cast_to=cast_to,\n",
      "\u001b[32m   1024\u001b[39m     options=options,\n",
      "\u001b[32m   (...)\u001b[39m\u001b[32m   1028\u001b[39m     retries_taken=retries_taken,\n",
      "\u001b[32m   1029\u001b[39m )\n",
      "\n",
      "\u001b[31mBadRequestError\u001b[39m: Error code: 400 - {'error': {'message': \"Failed to call a function. Please adjust your prompt. See 'failed_generation' for more details.\", 'type': 'invalid_request_error', 'code': 'tool_use_failed', 'failed_generation': '### Financial Data of AI Semiconductor Companies\\nThe following table provides financial data for key AI semiconductor companies:\\n\\n| Company | Symbol | Revenue (2022) | Net Income (2022) | Current Stock Price |\\n| --- | --- | --- | --- | --- |\\n| NVIDIA | NVDA | $26.91B | $9.75B | <function=get_current_stock_price{\"symbol\": \"NVDA\"}</function> |\\n| Advanced Micro Devices | AMD | $23.60B | $3.96B | <function=get_current_stock_price{\"symbol\": \"AMD\"}</function> |\\n| Intel | INTC | $79.02B | $19.45B | <function=get_current_stock_price{\"symbol\": \"INTC\"}</function> |\\n| Qualcomm | QCOM | $44.20B | $9.04B | <function=get_current_stock_price{\"symbol\": \"QCOM\"}</function> |\\n| Micron Technology | MU | $30.76B | $7.75B | <function=get_current_stock_price{\"symbol\": \"MU\"}</function> |\\n\\nPlease note that the current stock prices are subject to change and may not reflect the current market value at the time of reading. For more up-to-date and detailed information, you can use the following functions:\\n\\n<function=get_company_info{\"symbol\": \"NVDA\"}</function>\\n<function=get_company_info{\"symbol\": \"AMD\"}</function>\\n<function=get_company_info{\"symbol\": \"INTC\"}</function>\\n<function=get_company_info{\"symbol\": \"QCOM\"}</function>\\n<function=get_company_info{\"symbol\": \"MU\"}</function>\\n\\nAdditionally, you can get analyst recommendations for these companies using the following functions:\\n\\n<function=get_analyst_recommendations{\"symbol\": \"NVDA\"}</function>\\n<function=get_analyst_recommendations{\"symbol\": \"AMD\"}</function>\\n<function=get_analyst_recommendations{\"symbol\": \"INTC\"}</function>\\n<function=get_analyst_recommendations{\"symbol\": \"QCOM\"}</function>\\n<function=get_analyst_recommendations{\"symbol\": \"MU\"}</function>'}}\n",
      "\n",
      "The above exception was the direct cause of the following exception:\n",
      "\n",
      "\u001b[31mModelProviderError\u001b[39m                        Traceback (most recent call last)\n",
      "\u001b[36mCell\u001b[39m\u001b[36m \u001b[39m\u001b[32mIn[7]\u001b[39m\u001b[32m, line 1\u001b[39m\n",
      "\u001b[32m----> \u001b[39m\u001b[32m1\u001b[39m \u001b[43magent_team\u001b[49m\u001b[43m.\u001b[49m\u001b[43mprint_response\u001b[49m\u001b[43m(\u001b[49m\u001b[33;43m\"\u001b[39;49m\u001b[33;43mWhat\u001b[39;49m\u001b[33;43m'\u001b[39;49m\u001b[33;43ms the market outlook and financial performance of AI semiconductor companies?\u001b[39;49m\u001b[33;43m\"\u001b[39;49m\u001b[43m,\u001b[49m\u001b[43m \u001b[49m\u001b[43mverbose\u001b[49m\u001b[43m=\u001b[49m\u001b[38;5;28;43;01mTrue\u001b[39;49;00m\u001b[43m,\u001b[49m\u001b[43m \u001b[49m\u001b[43mshow_tool_calls\u001b[49m\u001b[43m=\u001b[49m\u001b[38;5;28;43;01mTrue\u001b[39;49;00m\u001b[43m)\u001b[49m\n",
      "\n",
      "\u001b[36mFile \u001b[39m\u001b[32mc:\\Users\\Vishwas\\miniconda3\\envs\\mcondaenv\\Lib\\site-packages\\agno\\agent\\agent.py:4443\u001b[39m, in \u001b[36mAgent.print_response\u001b[39m\u001b[34m(self, message, session_id, user_id, messages, audio, images, videos, files, stream, stream_intermediate_steps, markdown, show_message, show_reasoning, show_full_reasoning, console, tags_to_include_in_markdown, **kwargs)\u001b[39m\n",
      "\u001b[32m   4440\u001b[39m     live_log.update(Group(*panels))\n",
      "\u001b[32m   4442\u001b[39m \u001b[38;5;66;03m# Run the agent\u001b[39;00m\n",
      "\u001b[32m-> \u001b[39m\u001b[32m4443\u001b[39m run_response = \u001b[38;5;28;43mself\u001b[39;49m\u001b[43m.\u001b[49m\u001b[43mrun\u001b[49m\u001b[43m(\u001b[49m\n",
      "\u001b[32m   4444\u001b[39m \u001b[43m    \u001b[49m\u001b[43mmessage\u001b[49m\u001b[43m=\u001b[49m\u001b[43mmessage\u001b[49m\u001b[43m,\u001b[49m\n",
      "\u001b[32m   4445\u001b[39m \u001b[43m    \u001b[49m\u001b[43mmessages\u001b[49m\u001b[43m=\u001b[49m\u001b[43mmessages\u001b[49m\u001b[43m,\u001b[49m\n",
      "\u001b[32m   4446\u001b[39m \u001b[43m    \u001b[49m\u001b[43msession_id\u001b[49m\u001b[43m=\u001b[49m\u001b[43msession_id\u001b[49m\u001b[43m,\u001b[49m\n",
      "\u001b[32m   4447\u001b[39m \u001b[43m    \u001b[49m\u001b[43muser_id\u001b[49m\u001b[43m=\u001b[49m\u001b[43muser_id\u001b[49m\u001b[43m,\u001b[49m\n",
      "\u001b[32m   4448\u001b[39m \u001b[43m    \u001b[49m\u001b[43maudio\u001b[49m\u001b[43m=\u001b[49m\u001b[43maudio\u001b[49m\u001b[43m,\u001b[49m\n",
      "\u001b[32m   4449\u001b[39m \u001b[43m    \u001b[49m\u001b[43mimages\u001b[49m\u001b[43m=\u001b[49m\u001b[43mimages\u001b[49m\u001b[43m,\u001b[49m\n",
      "\u001b[32m   4450\u001b[39m \u001b[43m    \u001b[49m\u001b[43mvideos\u001b[49m\u001b[43m=\u001b[49m\u001b[43mvideos\u001b[49m\u001b[43m,\u001b[49m\n",
      "\u001b[32m   4451\u001b[39m \u001b[43m    \u001b[49m\u001b[43mfiles\u001b[49m\u001b[43m=\u001b[49m\u001b[43mfiles\u001b[49m\u001b[43m,\u001b[49m\n",
      "\u001b[32m   4452\u001b[39m \u001b[43m    \u001b[49m\u001b[43mstream\u001b[49m\u001b[43m=\u001b[49m\u001b[38;5;28;43;01mFalse\u001b[39;49;00m\u001b[43m,\u001b[49m\n",
      "\u001b[32m   4453\u001b[39m \u001b[43m    \u001b[49m\u001b[43mstream_intermediate_steps\u001b[49m\u001b[43m=\u001b[49m\u001b[43mstream_intermediate_steps\u001b[49m\u001b[43m,\u001b[49m\n",
      "\u001b[32m   4454\u001b[39m \u001b[43m    \u001b[49m\u001b[43m*\u001b[49m\u001b[43m*\u001b[49m\u001b[43mkwargs\u001b[49m\u001b[43m,\u001b[49m\n",
      "\u001b[32m   4455\u001b[39m \u001b[43m\u001b[49m\u001b[43m)\u001b[49m\n",
      "\u001b[32m   4456\u001b[39m response_timer.stop()\n",
      "\u001b[32m   4458\u001b[39m reasoning_steps = []\n",
      "\n",
      "\u001b[36mFile \u001b[39m\u001b[32mc:\\Users\\Vishwas\\miniconda3\\envs\\mcondaenv\\Lib\\site-packages\\agno\\agent\\agent.py:1113\u001b[39m, in \u001b[36mAgent.run\u001b[39m\u001b[34m(self, message, stream, user_id, session_id, audio, images, videos, files, messages, stream_intermediate_steps, retries, **kwargs)\u001b[39m\n",
      "\u001b[32m   1109\u001b[39m \u001b[38;5;28;01mif\u001b[39;00m last_exception \u001b[38;5;129;01mis\u001b[39;00m \u001b[38;5;129;01mnot\u001b[39;00m \u001b[38;5;28;01mNone\u001b[39;00m:\n",
      "\u001b[32m   1110\u001b[39m     log_error(\n",
      "\u001b[32m   1111\u001b[39m         \u001b[33mf\u001b[39m\u001b[33m\"\u001b[39m\u001b[33mFailed after \u001b[39m\u001b[38;5;132;01m{\u001b[39;00mnum_attempts\u001b[38;5;132;01m}\u001b[39;00m\u001b[33m attempts. Last error using \u001b[39m\u001b[38;5;132;01m{\u001b[39;00mlast_exception.model_name\u001b[38;5;132;01m}\u001b[39;00m\u001b[33m(\u001b[39m\u001b[38;5;132;01m{\u001b[39;00mlast_exception.model_id\u001b[38;5;132;01m}\u001b[39;00m\u001b[33m)\u001b[39m\u001b[33m\"\u001b[39m\n",
      "\u001b[32m   1112\u001b[39m     )\n",
      "\u001b[32m-> \u001b[39m\u001b[32m1113\u001b[39m     \u001b[38;5;28;01mraise\u001b[39;00m last_exception\n",
      "\u001b[32m   1114\u001b[39m \u001b[38;5;28;01melse\u001b[39;00m:\n",
      "\u001b[32m   1115\u001b[39m     \u001b[38;5;28;01mraise\u001b[39;00m \u001b[38;5;167;01mException\u001b[39;00m(\u001b[33mf\u001b[39m\u001b[33m\"\u001b[39m\u001b[33mFailed after \u001b[39m\u001b[38;5;132;01m{\u001b[39;00mnum_attempts\u001b[38;5;132;01m}\u001b[39;00m\u001b[33m attempts.\u001b[39m\u001b[33m\"\u001b[39m)\n",
      "\n",
      "\u001b[36mFile \u001b[39m\u001b[32mc:\\Users\\Vishwas\\miniconda3\\envs\\mcondaenv\\Lib\\site-packages\\agno\\agent\\agent.py:1083\u001b[39m, in \u001b[36mAgent.run\u001b[39m\u001b[34m(self, message, stream, user_id, session_id, audio, images, videos, files, messages, stream_intermediate_steps, retries, **kwargs)\u001b[39m\n",
      "\u001b[32m   1069\u001b[39m         \u001b[38;5;28;01melse\u001b[39;00m:\n",
      "\u001b[32m   1070\u001b[39m             resp = \u001b[38;5;28mself\u001b[39m._run(\n",
      "\u001b[32m   1071\u001b[39m                 message=message,\n",
      "\u001b[32m   1072\u001b[39m                 stream=\u001b[38;5;28;01mFalse\u001b[39;00m,\n",
      "\u001b[32m   (...)\u001b[39m\u001b[32m   1081\u001b[39m                 **kwargs,\n",
      "\u001b[32m   1082\u001b[39m             )\n",
      "\u001b[32m-> \u001b[39m\u001b[32m1083\u001b[39m             \u001b[38;5;28;01mreturn\u001b[39;00m \u001b[38;5;28;43mnext\u001b[39;49m\u001b[43m(\u001b[49m\u001b[43mresp\u001b[49m\u001b[43m)\u001b[49m\n",
      "\u001b[32m   1084\u001b[39m \u001b[38;5;28;01mexcept\u001b[39;00m ModelProviderError \u001b[38;5;28;01mas\u001b[39;00m e:\n",
      "\u001b[32m   1085\u001b[39m     log_warning(\u001b[33mf\u001b[39m\u001b[33m\"\u001b[39m\u001b[33mAttempt \u001b[39m\u001b[38;5;132;01m{\u001b[39;00mattempt\u001b[38;5;250m \u001b[39m+\u001b[38;5;250m \u001b[39m\u001b[32m1\u001b[39m\u001b[38;5;132;01m}\u001b[39;00m\u001b[33m/\u001b[39m\u001b[38;5;132;01m{\u001b[39;00mnum_attempts\u001b[38;5;132;01m}\u001b[39;00m\u001b[33m failed: \u001b[39m\u001b[38;5;132;01m{\u001b[39;00m\u001b[38;5;28mstr\u001b[39m(e)\u001b[38;5;132;01m}\u001b[39;00m\u001b[33m\"\u001b[39m)\n",
      "\n",
      "\u001b[36mFile \u001b[39m\u001b[32mc:\\Users\\Vishwas\\miniconda3\\envs\\mcondaenv\\Lib\\site-packages\\agno\\agent\\agent.py:753\u001b[39m, in \u001b[36mAgent._run\u001b[39m\u001b[34m(self, message, stream, session_id, user_id, audio, images, videos, files, messages, stream_intermediate_steps, **kwargs)\u001b[39m\n",
      "\u001b[32m    746\u001b[39m                 \u001b[38;5;28;01myield\u001b[39;00m \u001b[38;5;28mself\u001b[39m.create_run_response(\n",
      "\u001b[32m    747\u001b[39m                     content=model_response_chunk.content,\n",
      "\u001b[32m    748\u001b[39m                     event=RunEvent.tool_call_completed,\n",
      "\u001b[32m    749\u001b[39m                     session_id=session_id,\n",
      "\u001b[32m    750\u001b[39m                 )\n",
      "\u001b[32m    751\u001b[39m \u001b[38;5;28;01melse\u001b[39;00m:\n",
      "\u001b[32m    752\u001b[39m     \u001b[38;5;66;03m# Get the model response\u001b[39;00m\n",
      "\u001b[32m--> \u001b[39m\u001b[32m753\u001b[39m     model_response = \u001b[38;5;28;43mself\u001b[39;49m\u001b[43m.\u001b[49m\u001b[43mmodel\u001b[49m\u001b[43m.\u001b[49m\u001b[43mresponse\u001b[49m\u001b[43m(\u001b[49m\u001b[43mmessages\u001b[49m\u001b[43m=\u001b[49m\u001b[43mrun_messages\u001b[49m\u001b[43m.\u001b[49m\u001b[43mmessages\u001b[49m\u001b[43m)\u001b[49m\n",
      "\u001b[32m    754\u001b[39m     \u001b[38;5;66;03m# Format tool calls if they exist\u001b[39;00m\n",
      "\u001b[32m    755\u001b[39m     \u001b[38;5;28;01mif\u001b[39;00m model_response.tool_calls:\n",
      "\n",
      "\u001b[36mFile \u001b[39m\u001b[32mc:\\Users\\Vishwas\\miniconda3\\envs\\mcondaenv\\Lib\\site-packages\\agno\\models\\base.py:197\u001b[39m, in \u001b[36mModel.response\u001b[39m\u001b[34m(self, messages)\u001b[39m\n",
      "\u001b[32m    194\u001b[39m function_call_results: List[Message] = []\n",
      "\u001b[32m    196\u001b[39m \u001b[38;5;66;03m# Execute function calls\u001b[39;00m\n",
      "\u001b[32m--> \u001b[39m\u001b[32m197\u001b[39m \u001b[43m\u001b[49m\u001b[38;5;28;43;01mfor\u001b[39;49;00m\u001b[43m \u001b[49m\u001b[43mfunction_call_response\u001b[49m\u001b[43m \u001b[49m\u001b[38;5;129;43;01min\u001b[39;49;00m\u001b[43m \u001b[49m\u001b[38;5;28;43mself\u001b[39;49m\u001b[43m.\u001b[49m\u001b[43mrun_function_calls\u001b[49m\u001b[43m(\u001b[49m\n",
      "\u001b[32m    198\u001b[39m \u001b[43m    \u001b[49m\u001b[43mfunction_calls\u001b[49m\u001b[43m=\u001b[49m\u001b[43mfunction_calls_to_run\u001b[49m\u001b[43m,\u001b[49m\u001b[43m \u001b[49m\u001b[43mfunction_call_results\u001b[49m\u001b[43m=\u001b[49m\u001b[43mfunction_call_results\u001b[49m\n",
      "\u001b[32m    199\u001b[39m \u001b[43m\u001b[49m\u001b[43m)\u001b[49m\u001b[43m:\u001b[49m\n",
      "\u001b[32m    200\u001b[39m \u001b[43m    \u001b[49m\u001b[38;5;28;43;01mif\u001b[39;49;00m\u001b[43m \u001b[49m\u001b[43m(\u001b[49m\n",
      "\u001b[32m    201\u001b[39m \u001b[43m        \u001b[49m\u001b[43mfunction_call_response\u001b[49m\u001b[43m.\u001b[49m\u001b[43mevent\u001b[49m\u001b[43m \u001b[49m\u001b[43m==\u001b[49m\u001b[43m \u001b[49m\u001b[43mModelResponseEvent\u001b[49m\u001b[43m.\u001b[49m\u001b[43mtool_call_completed\u001b[49m\u001b[43m.\u001b[49m\u001b[43mvalue\u001b[49m\n",
      "\u001b[32m    202\u001b[39m \u001b[43m        \u001b[49m\u001b[38;5;129;43;01mand\u001b[39;49;00m\u001b[43m \u001b[49m\u001b[43mfunction_call_response\u001b[49m\u001b[43m.\u001b[49m\u001b[43mtool_calls\u001b[49m\u001b[43m \u001b[49m\u001b[38;5;129;43;01mis\u001b[39;49;00m\u001b[43m \u001b[49m\u001b[38;5;129;43;01mnot\u001b[39;49;00m\u001b[43m \u001b[49m\u001b[38;5;28;43;01mNone\u001b[39;49;00m\n",
      "\u001b[32m    203\u001b[39m \u001b[43m    \u001b[49m\u001b[43m)\u001b[49m\u001b[43m:\u001b[49m\n",
      "\u001b[32m    204\u001b[39m \u001b[43m        \u001b[49m\u001b[43mmodel_response\u001b[49m\u001b[43m.\u001b[49m\u001b[43mtool_calls\u001b[49m\u001b[43m.\u001b[49m\u001b[43mextend\u001b[49m\u001b[43m(\u001b[49m\u001b[43mfunction_call_response\u001b[49m\u001b[43m.\u001b[49m\u001b[43mtool_calls\u001b[49m\u001b[43m)\u001b[49m\n",
      "\n",
      "\u001b[36mFile \u001b[39m\u001b[32mc:\\Users\\Vishwas\\miniconda3\\envs\\mcondaenv\\Lib\\site-packages\\agno\\models\\base.py:878\u001b[39m, in \u001b[36mModel.run_function_calls\u001b[39m\u001b[34m(self, function_calls, function_call_results)\u001b[39m\n",
      "\u001b[32m    876\u001b[39m function_call_output: Optional[Union[List[Any], \u001b[38;5;28mstr\u001b[39m]] = \u001b[33m\"\u001b[39m\u001b[33m\"\u001b[39m\n",
      "\u001b[32m    877\u001b[39m \u001b[38;5;28;01mif\u001b[39;00m \u001b[38;5;28misinstance\u001b[39m(fc.result, (GeneratorType, collections.abc.Iterator)):\n",
      "\u001b[32m--> \u001b[39m\u001b[32m878\u001b[39m \u001b[43m    \u001b[49m\u001b[38;5;28;43;01mfor\u001b[39;49;00m\u001b[43m \u001b[49m\u001b[43mitem\u001b[49m\u001b[43m \u001b[49m\u001b[38;5;129;43;01min\u001b[39;49;00m\u001b[43m \u001b[49m\u001b[43mfc\u001b[49m\u001b[43m.\u001b[49m\u001b[43mresult\u001b[49m\u001b[43m:\u001b[49m\n",
      "\u001b[32m    879\u001b[39m \u001b[43m        \u001b[49m\u001b[43mfunction_call_output\u001b[49m\u001b[43m \u001b[49m\u001b[43m+\u001b[49m\u001b[43m=\u001b[49m\u001b[43m \u001b[49m\u001b[43mitem\u001b[49m\n",
      "\u001b[32m    880\u001b[39m \u001b[43m        \u001b[49m\u001b[38;5;28;43;01mif\u001b[39;49;00m\u001b[43m \u001b[49m\u001b[43mfc\u001b[49m\u001b[43m.\u001b[49m\u001b[43mfunction\u001b[49m\u001b[43m.\u001b[49m\u001b[43mshow_result\u001b[49m\u001b[43m:\u001b[49m\n",
      "\n",
      "\u001b[36mFile \u001b[39m\u001b[32mc:\\Users\\Vishwas\\miniconda3\\envs\\mcondaenv\\Lib\\site-packages\\agno\\agent\\agent.py:2995\u001b[39m, in \u001b[36mAgent.get_transfer_function.<locals>._transfer_task_to_agent\u001b[39m\u001b[34m(task_description, expected_output, additional_information)\u001b[39m\n",
      "\u001b[32m   2993\u001b[39m         \u001b[38;5;28;01myield\u001b[39;00m member_agent_run_response_chunk.content  \u001b[38;5;66;03m# type: ignore\u001b[39;00m\n",
      "\u001b[32m   2994\u001b[39m \u001b[38;5;28;01melse\u001b[39;00m:\n",
      "\u001b[32m-> \u001b[39m\u001b[32m2995\u001b[39m     member_agent_run_response: RunResponse = \u001b[43mmember_agent\u001b[49m\u001b[43m.\u001b[49m\u001b[43mrun\u001b[49m\u001b[43m(\u001b[49m\u001b[43mmember_agent_task\u001b[49m\u001b[43m,\u001b[49m\u001b[43m \u001b[49m\u001b[43mstream\u001b[49m\u001b[43m=\u001b[49m\u001b[38;5;28;43;01mFalse\u001b[39;49;00m\u001b[43m)\u001b[49m\n",
      "\u001b[32m   2996\u001b[39m     \u001b[38;5;28;01mif\u001b[39;00m member_agent_run_response.content \u001b[38;5;129;01mis\u001b[39;00m \u001b[38;5;28;01mNone\u001b[39;00m:\n",
      "\u001b[32m   2997\u001b[39m         \u001b[38;5;28;01myield\u001b[39;00m \u001b[33m\"\u001b[39m\u001b[33mNo response from the member agent.\u001b[39m\u001b[33m\"\u001b[39m\n",
      "\n",
      "\u001b[36mFile \u001b[39m\u001b[32mc:\\Users\\Vishwas\\miniconda3\\envs\\mcondaenv\\Lib\\site-packages\\agno\\agent\\agent.py:1113\u001b[39m, in \u001b[36mAgent.run\u001b[39m\u001b[34m(self, message, stream, user_id, session_id, audio, images, videos, files, messages, stream_intermediate_steps, retries, **kwargs)\u001b[39m\n",
      "\u001b[32m   1109\u001b[39m \u001b[38;5;28;01mif\u001b[39;00m last_exception \u001b[38;5;129;01mis\u001b[39;00m \u001b[38;5;129;01mnot\u001b[39;00m \u001b[38;5;28;01mNone\u001b[39;00m:\n",
      "\u001b[32m   1110\u001b[39m     log_error(\n",
      "\u001b[32m   1111\u001b[39m         \u001b[33mf\u001b[39m\u001b[33m\"\u001b[39m\u001b[33mFailed after \u001b[39m\u001b[38;5;132;01m{\u001b[39;00mnum_attempts\u001b[38;5;132;01m}\u001b[39;00m\u001b[33m attempts. Last error using \u001b[39m\u001b[38;5;132;01m{\u001b[39;00mlast_exception.model_name\u001b[38;5;132;01m}\u001b[39;00m\u001b[33m(\u001b[39m\u001b[38;5;132;01m{\u001b[39;00mlast_exception.model_id\u001b[38;5;132;01m}\u001b[39;00m\u001b[33m)\u001b[39m\u001b[33m\"\u001b[39m\n",
      "\u001b[32m   1112\u001b[39m     )\n",
      "\u001b[32m-> \u001b[39m\u001b[32m1113\u001b[39m     \u001b[38;5;28;01mraise\u001b[39;00m last_exception\n",
      "\u001b[32m   1114\u001b[39m \u001b[38;5;28;01melse\u001b[39;00m:\n",
      "\u001b[32m   1115\u001b[39m     \u001b[38;5;28;01mraise\u001b[39;00m \u001b[38;5;167;01mException\u001b[39;00m(\u001b[33mf\u001b[39m\u001b[33m\"\u001b[39m\u001b[33mFailed after \u001b[39m\u001b[38;5;132;01m{\u001b[39;00mnum_attempts\u001b[38;5;132;01m}\u001b[39;00m\u001b[33m attempts.\u001b[39m\u001b[33m\"\u001b[39m)\n",
      "\n",
      "\u001b[36mFile \u001b[39m\u001b[32mc:\\Users\\Vishwas\\miniconda3\\envs\\mcondaenv\\Lib\\site-packages\\agno\\agent\\agent.py:1083\u001b[39m, in \u001b[36mAgent.run\u001b[39m\u001b[34m(self, message, stream, user_id, session_id, audio, images, videos, files, messages, stream_intermediate_steps, retries, **kwargs)\u001b[39m\n",
      "\u001b[32m   1069\u001b[39m         \u001b[38;5;28;01melse\u001b[39;00m:\n",
      "\u001b[32m   1070\u001b[39m             resp = \u001b[38;5;28mself\u001b[39m._run(\n",
      "\u001b[32m   1071\u001b[39m                 message=message,\n",
      "\u001b[32m   1072\u001b[39m                 stream=\u001b[38;5;28;01mFalse\u001b[39;00m,\n",
      "\u001b[32m   (...)\u001b[39m\u001b[32m   1081\u001b[39m                 **kwargs,\n",
      "\u001b[32m   1082\u001b[39m             )\n",
      "\u001b[32m-> \u001b[39m\u001b[32m1083\u001b[39m             \u001b[38;5;28;01mreturn\u001b[39;00m \u001b[38;5;28;43mnext\u001b[39;49m\u001b[43m(\u001b[49m\u001b[43mresp\u001b[49m\u001b[43m)\u001b[49m\n",
      "\u001b[32m   1084\u001b[39m \u001b[38;5;28;01mexcept\u001b[39;00m ModelProviderError \u001b[38;5;28;01mas\u001b[39;00m e:\n",
      "\u001b[32m   1085\u001b[39m     log_warning(\u001b[33mf\u001b[39m\u001b[33m\"\u001b[39m\u001b[33mAttempt \u001b[39m\u001b[38;5;132;01m{\u001b[39;00mattempt\u001b[38;5;250m \u001b[39m+\u001b[38;5;250m \u001b[39m\u001b[32m1\u001b[39m\u001b[38;5;132;01m}\u001b[39;00m\u001b[33m/\u001b[39m\u001b[38;5;132;01m{\u001b[39;00mnum_attempts\u001b[38;5;132;01m}\u001b[39;00m\u001b[33m failed: \u001b[39m\u001b[38;5;132;01m{\u001b[39;00m\u001b[38;5;28mstr\u001b[39m(e)\u001b[38;5;132;01m}\u001b[39;00m\u001b[33m\"\u001b[39m)\n",
      "\n",
      "\u001b[36mFile \u001b[39m\u001b[32mc:\\Users\\Vishwas\\miniconda3\\envs\\mcondaenv\\Lib\\site-packages\\agno\\agent\\agent.py:753\u001b[39m, in \u001b[36mAgent._run\u001b[39m\u001b[34m(self, message, stream, session_id, user_id, audio, images, videos, files, messages, stream_intermediate_steps, **kwargs)\u001b[39m\n",
      "\u001b[32m    746\u001b[39m                 \u001b[38;5;28;01myield\u001b[39;00m \u001b[38;5;28mself\u001b[39m.create_run_response(\n",
      "\u001b[32m    747\u001b[39m                     content=model_response_chunk.content,\n",
      "\u001b[32m    748\u001b[39m                     event=RunEvent.tool_call_completed,\n",
      "\u001b[32m    749\u001b[39m                     session_id=session_id,\n",
      "\u001b[32m    750\u001b[39m                 )\n",
      "\u001b[32m    751\u001b[39m \u001b[38;5;28;01melse\u001b[39;00m:\n",
      "\u001b[32m    752\u001b[39m     \u001b[38;5;66;03m# Get the model response\u001b[39;00m\n",
      "\u001b[32m--> \u001b[39m\u001b[32m753\u001b[39m     model_response = \u001b[38;5;28;43mself\u001b[39;49m\u001b[43m.\u001b[49m\u001b[43mmodel\u001b[49m\u001b[43m.\u001b[49m\u001b[43mresponse\u001b[49m\u001b[43m(\u001b[49m\u001b[43mmessages\u001b[49m\u001b[43m=\u001b[49m\u001b[43mrun_messages\u001b[49m\u001b[43m.\u001b[49m\u001b[43mmessages\u001b[49m\u001b[43m)\u001b[49m\n",
      "\u001b[32m    754\u001b[39m     \u001b[38;5;66;03m# Format tool calls if they exist\u001b[39;00m\n",
      "\u001b[32m    755\u001b[39m     \u001b[38;5;28;01mif\u001b[39;00m model_response.tool_calls:\n",
      "\n",
      "\u001b[36mFile \u001b[39m\u001b[32mc:\\Users\\Vishwas\\miniconda3\\envs\\mcondaenv\\Lib\\site-packages\\agno\\models\\base.py:181\u001b[39m, in \u001b[36mModel.response\u001b[39m\u001b[34m(self, messages)\u001b[39m\n",
      "\u001b[32m    177\u001b[39m model_response = ModelResponse()\n",
      "\u001b[32m    179\u001b[39m \u001b[38;5;28;01mwhile\u001b[39;00m \u001b[38;5;28;01mTrue\u001b[39;00m:\n",
      "\u001b[32m    180\u001b[39m     \u001b[38;5;66;03m# Get response from model\u001b[39;00m\n",
      "\u001b[32m--> \u001b[39m\u001b[32m181\u001b[39m     assistant_message, has_tool_calls = \u001b[38;5;28;43mself\u001b[39;49m\u001b[43m.\u001b[49m\u001b[43m_process_model_response\u001b[49m\u001b[43m(\u001b[49m\n",
      "\u001b[32m    182\u001b[39m \u001b[43m        \u001b[49m\u001b[43mmessages\u001b[49m\u001b[43m=\u001b[49m\u001b[43mmessages\u001b[49m\u001b[43m,\u001b[49m\n",
      "\u001b[32m    183\u001b[39m \u001b[43m        \u001b[49m\u001b[43mmodel_response\u001b[49m\u001b[43m=\u001b[49m\u001b[43mmodel_response\u001b[49m\u001b[43m,\u001b[49m\n",
      "\u001b[32m    184\u001b[39m \u001b[43m    \u001b[49m\u001b[43m)\u001b[49m\n",
      "\u001b[32m    186\u001b[39m     \u001b[38;5;66;03m# Handle tool calls if present\u001b[39;00m\n",
      "\u001b[32m    187\u001b[39m     \u001b[38;5;28;01mif\u001b[39;00m has_tool_calls:\n",
      "\u001b[32m    188\u001b[39m         \u001b[38;5;66;03m# Prepare function calls\u001b[39;00m\n",
      "\n",
      "\u001b[36mFile \u001b[39m\u001b[32mc:\\Users\\Vishwas\\miniconda3\\envs\\mcondaenv\\Lib\\site-packages\\agno\\models\\base.py:317\u001b[39m, in \u001b[36mModel._process_model_response\u001b[39m\u001b[34m(self, messages, model_response)\u001b[39m\n",
      "\u001b[32m    315\u001b[39m \u001b[38;5;66;03m# Generate response\u001b[39;00m\n",
      "\u001b[32m    316\u001b[39m assistant_message.metrics.start_timer()\n",
      "\u001b[32m--> \u001b[39m\u001b[32m317\u001b[39m response = \u001b[38;5;28;43mself\u001b[39;49m\u001b[43m.\u001b[49m\u001b[43minvoke\u001b[49m\u001b[43m(\u001b[49m\u001b[43mmessages\u001b[49m\u001b[43m=\u001b[49m\u001b[43mmessages\u001b[49m\u001b[43m)\u001b[49m\n",
      "\u001b[32m    318\u001b[39m assistant_message.metrics.stop_timer()\n",
      "\u001b[32m    320\u001b[39m \u001b[38;5;66;03m# Parse provider response\u001b[39;00m\n",
      "\n",
      "\u001b[36mFile \u001b[39m\u001b[32mc:\\Users\\Vishwas\\miniconda3\\envs\\mcondaenv\\Lib\\site-packages\\agno\\models\\groq\\groq.py:260\u001b[39m, in \u001b[36mGroq.invoke\u001b[39m\u001b[34m(self, messages)\u001b[39m\n",
      "\u001b[32m    258\u001b[39m \u001b[38;5;28;01mexcept\u001b[39;00m (APIResponseValidationError, APIStatusError) \u001b[38;5;28;01mas\u001b[39;00m e:\n",
      "\u001b[32m    259\u001b[39m     log_error(\u001b[33mf\u001b[39m\u001b[33m\"\u001b[39m\u001b[33mError calling Groq API: \u001b[39m\u001b[38;5;132;01m{\u001b[39;00m\u001b[38;5;28mstr\u001b[39m(e)\u001b[38;5;132;01m}\u001b[39;00m\u001b[33m\"\u001b[39m)\n",
      "\u001b[32m--> \u001b[39m\u001b[32m260\u001b[39m     \u001b[38;5;28;01mraise\u001b[39;00m ModelProviderError(\n",
      "\u001b[32m    261\u001b[39m         message=e.response.text, status_code=e.response.status_code, model_name=\u001b[38;5;28mself\u001b[39m.name, model_id=\u001b[38;5;28mself\u001b[39m.id\n",
      "\u001b[32m    262\u001b[39m     ) \u001b[38;5;28;01mfrom\u001b[39;00m\u001b[38;5;250m \u001b[39m\u001b[34;01me\u001b[39;00m\n",
      "\u001b[32m    263\u001b[39m \u001b[38;5;28;01mexcept\u001b[39;00m APIError \u001b[38;5;28;01mas\u001b[39;00m e:\n",
      "\u001b[32m    264\u001b[39m     log_error(\u001b[33mf\u001b[39m\u001b[33m\"\u001b[39m\u001b[33mError calling Groq API: \u001b[39m\u001b[38;5;132;01m{\u001b[39;00m\u001b[38;5;28mstr\u001b[39m(e)\u001b[38;5;132;01m}\u001b[39;00m\u001b[33m\"\u001b[39m)\n",
      "\n",
      "\u001b[31mModelProviderError\u001b[39m: {\"error\":{\"message\":\"Failed to call a function. Please adjust your prompt. See 'failed_generation' for more details.\",\"type\":\"invalid_request_error\",\"code\":\"tool_use_failed\",\"failed_generation\":\"### Financial Data of AI Semiconductor Companies\\nThe following table provides financial data for key AI semiconductor companies:\\n\\n| Company | Symbol | Revenue (2022) | Net Income (2022) | Current Stock Price |\\n| --- | --- | --- | --- | --- |\\n| NVIDIA | NVDA | $26.91B | $9.75B | \\u003cfunction=get_current_stock_price{\\\"symbol\\\": \\\"NVDA\\\"}\\u003c/function\\u003e |\\n| Advanced Micro Devices | AMD | $23.60B | $3.96B | \\u003cfunction=get_current_stock_price{\\\"symbol\\\": \\\"AMD\\\"}\\u003c/function\\u003e |\\n| Intel | INTC | $79.02B | $19.45B | \\u003cfunction=get_current_stock_price{\\\"symbol\\\": \\\"INTC\\\"}\\u003c/function\\u003e |\\n| Qualcomm | QCOM | $44.20B | $9.04B | \\u003cfunction=get_current_stock_price{\\\"symbol\\\": \\\"QCOM\\\"}\\u003c/function\\u003e |\\n| Micron Technology | MU | $30.76B | $7.75B | \\u003cfunction=get_current_stock_price{\\\"symbol\\\": \\\"MU\\\"}\\u003c/function\\u003e |\\n\\nPlease note that the current stock prices are subject to change and may not reflect the current market value at the time of reading. For more up-to-date and detailed information, you can use the following functions:\\n\\n\\u003cfunction=get_company_info{\\\"symbol\\\": \\\"NVDA\\\"}\\u003c/function\\u003e\\n\\u003cfunction=get_company_info{\\\"symbol\\\": \\\"AMD\\\"}\\u003c/function\\u003e\\n\\u003cfunction=get_company_info{\\\"symbol\\\": \\\"INTC\\\"}\\u003c/function\\u003e\\n\\u003cfunction=get_company_info{\\\"symbol\\\": \\\"QCOM\\\"}\\u003c/function\\u003e\\n\\u003cfunction=get_company_info{\\\"symbol\\\": \\\"MU\\\"}\\u003c/function\\u003e\\n\\nAdditionally, you can get analyst recommendations for these companies using the following functions:\\n\\n\\u003cfunction=get_analyst_recommendations{\\\"symbol\\\": \\\"NVDA\\\"}\\u003c/function\\u003e\\n\\u003cfunction=get_analyst_recommendations{\\\"symbol\\\": \\\"AMD\\\"}\\u003c/function\\u003e\\n\\u003cfunction=get_analyst_recommendations{\\\"symbol\\\": \\\"INTC\\\"}\\u003c/function\\u003e\\n\\u003cfunction=get_analyst_recommendations{\\\"symbol\\\": \\\"QCOM\\\"}\\u003c/function\\u003e\\n\\u003cfunction=get_analyst_recommendations{\\\"symbol\\\": \\\"MU\\\"}\\u003c/function\\u003e\"}}\n"
     ]
    }
   ],
   "source": [
    "agent_team.print_response(\"What's the market outlook and financial performance of AI semiconductor companies?\", verbose=True, show_tool_calls=True)"
   ]
  },
  {
   "cell_type": "code",
   "execution_count": 14,
   "id": "67d92812",
   "metadata": {},
   "outputs": [],
   "source": [
    "import yfinance as yf\n",
    "symbols = [\"NVDA\", \"AMD\", \"INTC\", \"QCOM\", \"MU\"]\n",
    "prices = {s: yf.Ticker(s).info['regularMarketPrice'] for s in symbols}\n",
    "financial_summary = \"\\n\".join([f\"{sym}: ${price}\" for sym, price in prices.items()])\n",
    "\n",
    "query = (\n",
    "    \"Based on the following stock prices:\\n\"\n",
    "    f\"{financial_summary}\\n\\n\"\n",
    "    \"What's the market outlook and recent financial performance of these AI semiconductor companies?\"\n",
    ")"
   ]
  },
  {
   "cell_type": "code",
   "execution_count": 15,
   "id": "2b8f21ae",
   "metadata": {},
   "outputs": [],
   "source": [
    "query = \"What's the market outlook and financial performance of AI semiconductor companies?\"\n",
    "# financial_summary"
   ]
  },
  {
   "cell_type": "code",
   "execution_count": 16,
   "id": "5d9c87b0",
   "metadata": {},
   "outputs": [
    {
     "ename": "AttributeError",
     "evalue": "'Agent' object has no attribute 'query'",
     "output_type": "error",
     "traceback": [
      "\u001b[31m---------------------------------------------------------------------------\u001b[39m",
      "\u001b[31mAttributeError\u001b[39m                            Traceback (most recent call last)",
      "\u001b[36mCell\u001b[39m\u001b[36m \u001b[39m\u001b[32mIn[16]\u001b[39m\u001b[32m, line 1\u001b[39m\n\u001b[32m----> \u001b[39m\u001b[32m1\u001b[39m \u001b[43magent_team\u001b[49m\u001b[43m.\u001b[49m\u001b[43mquery\u001b[49m(query)\n",
      "\u001b[31mAttributeError\u001b[39m: 'Agent' object has no attribute 'query'"
     ]
    }
   ],
   "source": [
    "agent_team.query(query)\n"
   ]
  },
  {
   "cell_type": "code",
   "execution_count": null,
   "id": "913da002",
   "metadata": {},
   "outputs": [],
   "source": []
  }
 ],
 "metadata": {
  "kernelspec": {
   "display_name": "mcondaenv",
   "language": "python",
   "name": "python3"
  },
  "language_info": {
   "codemirror_mode": {
    "name": "ipython",
    "version": 3
   },
   "file_extension": ".py",
   "mimetype": "text/x-python",
   "name": "python",
   "nbconvert_exporter": "python",
   "pygments_lexer": "ipython3",
   "version": "3.12.4"
  }
 },
 "nbformat": 4,
 "nbformat_minor": 5
}
