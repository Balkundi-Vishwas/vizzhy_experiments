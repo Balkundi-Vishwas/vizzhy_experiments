{
 "cells": [
  {
   "cell_type": "code",
   "execution_count": 4,
   "id": "5a49d700",
   "metadata": {},
   "outputs": [],
   "source": [
    "from agno.agent import Agent\n",
    "from agno.models.groq import Groq\n",
    "from agno.tools.duckduckgo import DuckDuckGoTools\n",
    "import yfinance as yf\n",
    "from dotenv import load_dotenv\n",
    "import os\n"
   ]
  },
  {
   "cell_type": "code",
   "execution_count": 5,
   "id": "c164c40b",
   "metadata": {},
   "outputs": [
    {
     "name": "stdout",
     "output_type": "stream",
     "text": [
      "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\n"
     ]
    }
   ],
   "source": [
    "print(os.getenv(\"GROQ_API_KEY\"))"
   ]
  },
  {
   "cell_type": "code",
   "execution_count": 6,
   "id": "d91e4154",
   "metadata": {},
   "outputs": [],
   "source": [
    "def get_stock_prices(symbols):\n",
    "    prices = {}\n",
    "    for sym in symbols:\n",
    "        try:\n",
    "            ticker = yf.Ticker(sym)\n",
    "            prices[sym] = ticker.info['regularMarketPrice']\n",
    "        except Exception as e:\n",
    "            prices[sym] = f\"Error: {e}\"\n",
    "    return prices\n",
    "\n",
    "symbols = [\"NVDA\", \"AMD\", \"INTC\", \"QCOM\", \"MU\"]\n",
    "stock_data = get_stock_prices(symbols)\n",
    "\n",
    "stock_summary = \"\\n\".join([f\"- {sym}: ${price}\" for sym, price in stock_data.items()])\n"
   ]
  },
  {
   "cell_type": "code",
   "execution_count": null,
   "id": "b9401b26",
   "metadata": {},
   "outputs": [
    {
     "name": "stdout",
     "output_type": "stream",
     "text": [
      "- NVDA: $110.71\n",
      "- AMD: $94.5\n",
      "- INTC: $20.31\n",
      "- QCOM: $139.19\n",
      "- MU: $71.02\n"
     ]
    }
   ],
   "source": [
    "print(stock_summary)"
   ]
  },
  {
   "cell_type": "code",
   "execution_count": 19,
   "id": "89a96ea8",
   "metadata": {},
   "outputs": [],
   "source": [
    "# Web search agent\n",
    "web_agent = Agent(\n",
    "    name=\"Web Agent\",\n",
    "    role=\"Search the web for up-to-date information related to finance and AI semiconductors.\",\n",
    "    model=Groq(\n",
    "        id=\"llama3-70b-8192\"\n",
    "    ),\n",
    "    tools=[DuckDuckGoTools()],\n",
    "    instructions=\"Always include source links in your results. Be concise and structured.\",\n",
    "    markdown=True\n",
    ")\n",
    "\n",
    "# Analysis agent\n",
    "finance_agent = Agent(\n",
    "    name=\"Finance Analyst\",\n",
    "    role=\"Analyze the financial performance of AI semiconductor companies.\",\n",
    "    model=Groq(\n",
    "        id=\"llama3-70b-8192\"\n",
    "    ),\n",
    "    instructions=\"Summarize the data fetched by the Web Agent into market outlook and financial performance insights.\",\n",
    "    markdown=True\n",
    ")\n"
   ]
  },
  {
   "cell_type": "code",
   "execution_count": 20,
   "id": "82dd3ef1",
   "metadata": {},
   "outputs": [],
   "source": [
    "from agno.team.team import Team\n",
    "team = Team(\n",
    "    members=[web_agent, finance_agent],\n",
    "    instructions=(\n",
    "        \"Step 1: Let Web Agent search for current news about AI semiconductor companies.\\n\"\n",
    "        \"Step 2: Analysis Agent will use the stock data and web findings to give an outlook.\"\n",
    "    ),\n",
    "    model=Groq(id=\"llama-3.3-70b-versatile\"),\n",
    "    show_tool_calls=True,  # Uncomment to see tool calls in the response\n",
    "    markdown=True,\n",
    ")"
   ]
  },
  {
   "cell_type": "code",
   "execution_count": 21,
   "id": "67ad8d19",
   "metadata": {},
   "outputs": [
    {
     "data": {
      "text/plain": [
       "<bound method Team.run of Team(members=[Agent(model=Groq(id='llama3-70b-8192', name='Groq', provider='Groq', response_format=None, structured_outputs=False, supports_native_structured_outputs=False, supports_json_schema_outputs=False, tool_choice=None, show_tool_calls=None, tool_call_limit=None, _tools=None, _functions=None, _function_call_stack=None, system_prompt=None, instructions=None, tool_message_role='tool', assistant_message_role='assistant', frequency_penalty=None, logit_bias=None, logprobs=None, max_tokens=None, presence_penalty=None, seed=None, stop=None, temperature=None, top_logprobs=None, top_p=None, user=None, extra_headers=None, extra_query=None, request_params=None, api_key=None, base_url=None, timeout=None, max_retries=None, default_headers=None, default_query=None, http_client=None, client_params=None, client=None, async_client=None), name='Web Agent', agent_id=None, introduction=None, user_id=None, session_id=None, session_name=None, session_state=None, context=None, add_context=False, resolve_context=True, memory=None, enable_agentic_memory=False, enable_user_memories=False, add_memory_references=False, enable_session_summaries=False, add_session_summary_references=False, add_history_to_messages=False, num_history_responses=None, num_history_runs=3, knowledge=None, add_references=False, retriever=None, references_format='json', storage=None, extra_data=None, tools=[<DuckDuckGoTools name=duckduckgo functions=['duckduckgo_search', 'duckduckgo_news']>], show_tool_calls=True, tool_call_limit=None, tool_choice=None, reasoning=False, reasoning_model=None, reasoning_agent=None, reasoning_min_steps=1, reasoning_max_steps=10, read_chat_history=False, search_knowledge=True, update_knowledge=False, read_tool_call_history=False, system_message=None, system_message_role='system', create_default_system_message=True, description=None, goal=None, instructions='Always include source links in your results. Be concise and structured.', expected_output=None, additional_context=None, markdown=True, add_name_to_instructions=False, add_datetime_to_instructions=False, timezone_identifier=None, add_state_in_messages=False, add_messages=None, user_message=None, user_message_role='user', create_default_user_message=True, retries=0, delay_between_retries=1, exponential_backoff=False, response_model=None, parse_response=True, structured_outputs=None, use_json_mode=False, save_response_to_file=None, stream=None, stream_intermediate_steps=False, team=None, team_data=None, role='Search the web for up-to-date information related to finance and AI semiconductors.', respond_directly=False, add_transfer_instructions=True, team_response_separator='\\n', team_session_id=None, team_id=None, debug_mode=False, monitoring=False, telemetry=True), Agent(model=Groq(id='llama3-70b-8192', name='Groq', provider='Groq', response_format=None, structured_outputs=False, supports_native_structured_outputs=False, supports_json_schema_outputs=False, tool_choice=None, show_tool_calls=None, tool_call_limit=None, _tools=None, _functions=None, _function_call_stack=None, system_prompt=None, instructions=None, tool_message_role='tool', assistant_message_role='assistant', frequency_penalty=None, logit_bias=None, logprobs=None, max_tokens=None, presence_penalty=None, seed=None, stop=None, temperature=None, top_logprobs=None, top_p=None, user=None, extra_headers=None, extra_query=None, request_params=None, api_key=None, base_url=None, timeout=None, max_retries=None, default_headers=None, default_query=None, http_client=None, client_params=None, client=None, async_client=None), name='Finance Analyst', agent_id=None, introduction=None, user_id=None, session_id=None, session_name=None, session_state=None, context=None, add_context=False, resolve_context=True, memory=None, enable_agentic_memory=False, enable_user_memories=False, add_memory_references=False, enable_session_summaries=False, add_session_summary_references=False, add_history_to_messages=False, num_history_responses=None, num_history_runs=3, knowledge=None, add_references=False, retriever=None, references_format='json', storage=None, extra_data=None, tools=None, show_tool_calls=True, tool_call_limit=None, tool_choice=None, reasoning=False, reasoning_model=None, reasoning_agent=None, reasoning_min_steps=1, reasoning_max_steps=10, read_chat_history=False, search_knowledge=True, update_knowledge=False, read_tool_call_history=False, system_message=None, system_message_role='system', create_default_system_message=True, description=None, goal=None, instructions='Summarize the data fetched by the Web Agent into market outlook and financial performance insights.', expected_output=None, additional_context=None, markdown=True, add_name_to_instructions=False, add_datetime_to_instructions=False, timezone_identifier=None, add_state_in_messages=False, add_messages=None, user_message=None, user_message_role='user', create_default_user_message=True, retries=0, delay_between_retries=1, exponential_backoff=False, response_model=None, parse_response=True, structured_outputs=None, use_json_mode=False, save_response_to_file=None, stream=None, stream_intermediate_steps=False, team=None, team_data=None, role='Analyze the financial performance of AI semiconductor companies.', respond_directly=False, add_transfer_instructions=True, team_response_separator='\\n', team_session_id=None, team_id=None, debug_mode=False, monitoring=False, telemetry=True)], mode='coordinate', model=Groq(id='llama-3.3-70b-versatile', name='Groq', provider='Groq', response_format=None, structured_outputs=False, supports_native_structured_outputs=False, supports_json_schema_outputs=False, tool_choice=None, show_tool_calls=None, tool_call_limit=None, _tools=None, _functions=None, _function_call_stack=None, system_prompt=None, instructions=None, tool_message_role='tool', assistant_message_role='assistant', frequency_penalty=None, logit_bias=None, logprobs=None, max_tokens=None, presence_penalty=None, seed=None, stop=None, temperature=None, top_logprobs=None, top_p=None, user=None, extra_headers=None, extra_query=None, request_params=None, api_key=None, base_url=None, timeout=None, max_retries=None, default_headers=None, default_query=None, http_client=None, client_params=None, client=None, async_client=None), name=None, team_id=None, role=None, user_id=None, session_id=None, team_session_id=None, session_name=None, session_state=None, add_state_in_messages=False, description=None, instructions='Step 1: Let Web Agent search for current news about AI semiconductor companies.\\nStep 2: Analysis Agent will use the stock data and web findings to give an outlook.', expected_output=None, additional_context=None, markdown=True, add_datetime_to_instructions=False, success_criteria=None, context=None, add_context=False, knowledge=None, retriever=None, references_format='json', enable_agentic_context=False, share_member_interactions=False, get_member_information_tool=False, search_knowledge=True, read_team_history=False, tools=None, show_tool_calls=True, tool_choice=None, tool_call_limit=None, response_model=None, use_json_mode=False, parse_response=True, memory=None, enable_agentic_memory=False, enable_user_memories=False, add_memory_references=False, enable_session_summaries=False, add_session_summary_references=False, enable_team_history=False, num_of_interactions_from_history=3, storage=None, extra_data=None, reasoning=False, reasoning_model=None, reasoning_min_steps=1, reasoning_max_steps=10, debug_mode=False, show_members_responses=False, monitoring=False, telemetry=True)>"
      ]
     },
     "execution_count": 21,
     "metadata": {},
     "output_type": "execute_result"
    }
   ],
   "source": [
    "team.run"
   ]
  },
  {
   "cell_type": "code",
   "execution_count": 27,
   "id": "b730a8d5",
   "metadata": {},
   "outputs": [],
   "source": [
    "query = f\"\"\"\n",
    "You are analyzing the market for AI semiconductor companies.\n",
    "\n",
    "## Stock Prices:\n",
    "{stock_summary}\n",
    "\n",
    "Please analyze the financial performance and market outlook based on this data and latest news, please share the financial performance of the companies\n",
    "\"\"\"\n",
    "\n",
    "response = team.run(query)\n",
    "# print(response.markdown())\n"
   ]
  },
  {
   "cell_type": "code",
   "execution_count": 29,
   "id": "836d5112",
   "metadata": {},
   "outputs": [
    {
     "name": "stdout",
     "output_type": "stream",
     "text": [
      "Based on the financial performance analysis and market outlook, the following is a comprehensive report on the AI semiconductor companies:\n",
      "\n",
      "**Financial Performance:**\n",
      "The financial performance of the AI semiconductor companies, including NVIDIA, AMD, Intel, Qualcomm, and Micron Technology, has been strong in recent years. The companies have seen significant revenue growth, driven by increasing demand for AI-enabled products and technologies. Profit margins have also been expanding, indicating improved profitability.\n",
      "\n",
      "**Market Outlook:**\n",
      "The AI semiconductor market is expected to experience significant growth in the next 5 years, driven by the increasing adoption of artificial intelligence and machine learning technologies across various industries. The market is anticipated to reach $67.1 billion by 2025, growing at a CAGR of 34.5% from 2020 to 2025.\n",
      "\n",
      "**Key Trends:**\n",
      "The key trends in the AI semiconductor market include the increasing adoption of AI-enabled products and technologies, the growing demand for high-performance computing and storage, and the rising importance of edge AI and IoT applications.\n",
      "\n",
      "**Recommendations:**\n",
      "Based on the financial performance analysis and market outlook, investors should consider NVIDIA, AMD, and Intel as strong investment opportunities, given their robust financial performance and market leadership. Qualcomm and Micron Technology are also well-positioned to capitalize on the growing AI semiconductor market, with increasing investments in research and development driving innovation and growth.\n",
      "\n",
      "Overall, the AI semiconductor companies are well-positioned to capitalize on the growing demand for AI-enabled products and technologies, with increasing investments in research and development driving innovation and growth.\n"
     ]
    }
   ],
   "source": [
    "print(response.content)"
   ]
  },
  {
   "cell_type": "code",
   "execution_count": 26,
   "id": "4eb390bb",
   "metadata": {},
   "outputs": [],
   "source": [
    "query = f\"\"\"\n",
    "You are analyzing the market for AI semiconductor companies.\n",
    "\n",
    "## Stock Prices:\n",
    "{stock_summary}\n",
    "\n",
    "Please analyze the financial performance and market outlook based on this data and latest news. please share the financial performance of the companies\n",
    "\"\"\""
   ]
  },
  {
   "cell_type": "code",
   "execution_count": 12,
   "id": "d85ae859",
   "metadata": {},
   "outputs": [
    {
     "ename": "AttributeError",
     "evalue": "'Agent' object has no attribute 'query'",
     "output_type": "error",
     "traceback": [
      "\u001b[31m---------------------------------------------------------------------------\u001b[39m",
      "\u001b[31mAttributeError\u001b[39m                            Traceback (most recent call last)",
      "\u001b[36mCell\u001b[39m\u001b[36m \u001b[39m\u001b[32mIn[12]\u001b[39m\u001b[32m, line 1\u001b[39m\n\u001b[32m----> \u001b[39m\u001b[32m1\u001b[39m response = \u001b[43mteam\u001b[49m\u001b[43m.\u001b[49m\u001b[43mquery\u001b[49m(query)\n",
      "\u001b[31mAttributeError\u001b[39m: 'Agent' object has no attribute 'query'"
     ]
    }
   ],
   "source": [
    "response = team.query(query)"
   ]
  },
  {
   "cell_type": "code",
   "execution_count": null,
   "id": "94ed4c3a",
   "metadata": {},
   "outputs": [
    {
     "ename": "ModuleNotFoundError",
     "evalue": "No module named 'agno.agents'",
     "output_type": "error",
     "traceback": [
      "\u001b[31m---------------------------------------------------------------------------\u001b[39m",
      "\u001b[31mModuleNotFoundError\u001b[39m                       Traceback (most recent call last)",
      "\u001b[36mCell\u001b[39m\u001b[36m \u001b[39m\u001b[32mIn[13]\u001b[39m\u001b[32m, line 1\u001b[39m\n\u001b[32m----> \u001b[39m\u001b[32m1\u001b[39m \u001b[38;5;28;01mfrom\u001b[39;00m\u001b[38;5;250m \u001b[39m\u001b[34;01magno\u001b[39;00m\u001b[34;01m.\u001b[39;00m\u001b[34;01magents\u001b[39;00m\u001b[38;5;250m \u001b[39m\u001b[38;5;28;01mimport\u001b[39;00m Agent, AgentTeam\n",
      "\u001b[31mModuleNotFoundError\u001b[39m: No module named 'agno.agents'"
     ]
    }
   ],
   "source": [
    "from googlesearch import search\n",
    "search_query = f\"{\"Philly Fluff Cake\"} site:{\"https://www.allrecipes.com/recipes/236/us-recipes/\"}\"\n",
    "            # Get the first relevant result\n",
    "for url in search(search_query, num_results=1):\n",
    "      print(url)"
   ]
  },
  {
   "cell_type": "code",
   "execution_count": 33,
   "id": "2da26edf",
   "metadata": {},
   "outputs": [
    {
     "ename": "HTTPError",
     "evalue": "429 Client Error: Too Many Requests for url: https://www.google.com/sorry/index?continue=https://www.google.com/search%3Fq%3DPhilly%2BFluff%2BCake%2Bsite%253Ahttps%253A%252F%252Fwww.allrecipes.com%252Frecipes%252F236%252Fus-recipes%252F%26num%3D3%26hl%3Den%26start%3D0%26safe%3Dactive&hl=en&q=EgRvXYROGJDI-L8GIjDxid8tLnA7tuj1ipw6aRwVSOJ1s-mX80z7yPKFLrRNtsBFKzFqdumZ3q4LST_d7DUyAnJSWgFD",
     "output_type": "error",
     "traceback": [
      "\u001b[31m---------------------------------------------------------------------------\u001b[39m",
      "\u001b[31mHTTPError\u001b[39m                                 Traceback (most recent call last)",
      "\u001b[36mCell\u001b[39m\u001b[36m \u001b[39m\u001b[32mIn[33]\u001b[39m\u001b[32m, line 4\u001b[39m\n\u001b[32m      2\u001b[39m search_query = \u001b[33mf\u001b[39m\u001b[33m\"\u001b[39m\u001b[38;5;132;01m{\u001b[39;00m\u001b[33m\"\u001b[39m\u001b[33mPhilly Fluff Cake\u001b[39m\u001b[33m\"\u001b[39m\u001b[38;5;132;01m}\u001b[39;00m\u001b[33m site:\u001b[39m\u001b[38;5;132;01m{\u001b[39;00m\u001b[33m\"\u001b[39m\u001b[33mhttps://www.allrecipes.com/recipes/236/us-recipes/\u001b[39m\u001b[33m\"\u001b[39m\u001b[38;5;132;01m}\u001b[39;00m\u001b[33m\"\u001b[39m\n\u001b[32m      3\u001b[39m             \u001b[38;5;66;03m# Get the first relevant result\u001b[39;00m\n\u001b[32m----> \u001b[39m\u001b[32m4\u001b[39m \u001b[38;5;28;43;01mfor\u001b[39;49;00m\u001b[43m \u001b[49m\u001b[43murl\u001b[49m\u001b[43m \u001b[49m\u001b[38;5;129;43;01min\u001b[39;49;00m\u001b[43m \u001b[49m\u001b[43msearch\u001b[49m\u001b[43m(\u001b[49m\u001b[43msearch_query\u001b[49m\u001b[43m,\u001b[49m\u001b[43m \u001b[49m\u001b[43mnum_results\u001b[49m\u001b[43m=\u001b[49m\u001b[32;43m1\u001b[39;49m\u001b[43m)\u001b[49m\u001b[43m:\u001b[49m\n\u001b[32m      5\u001b[39m \u001b[43m      \u001b[49m\u001b[38;5;28;43mprint\u001b[39;49m\u001b[43m(\u001b[49m\u001b[43murl\u001b[49m\u001b[43m)\u001b[49m\n",
      "\u001b[36mFile \u001b[39m\u001b[32mc:\\Users\\Vishwas\\miniconda3\\envs\\mcondaenv\\Lib\\site-packages\\googlesearch\\__init__.py:58\u001b[39m, in \u001b[36msearch\u001b[39m\u001b[34m(term, num_results, lang, proxy, advanced, sleep_interval, timeout, safe, ssl_verify, region, start_num, unique)\u001b[39m\n\u001b[32m     54\u001b[39m fetched_links = \u001b[38;5;28mset\u001b[39m() \u001b[38;5;66;03m# to keep track of links that are already seen previously\u001b[39;00m\n\u001b[32m     56\u001b[39m \u001b[38;5;28;01mwhile\u001b[39;00m fetched_results < num_results:\n\u001b[32m     57\u001b[39m     \u001b[38;5;66;03m# Send request\u001b[39;00m\n\u001b[32m---> \u001b[39m\u001b[32m58\u001b[39m     resp = \u001b[43m_req\u001b[49m\u001b[43m(\u001b[49m\u001b[43mterm\u001b[49m\u001b[43m,\u001b[49m\u001b[43m \u001b[49m\u001b[43mnum_results\u001b[49m\u001b[43m \u001b[49m\u001b[43m-\u001b[49m\u001b[43m \u001b[49m\u001b[43mstart\u001b[49m\u001b[43m,\u001b[49m\n\u001b[32m     59\u001b[39m \u001b[43m                \u001b[49m\u001b[43mlang\u001b[49m\u001b[43m,\u001b[49m\u001b[43m \u001b[49m\u001b[43mstart\u001b[49m\u001b[43m,\u001b[49m\u001b[43m \u001b[49m\u001b[43mproxies\u001b[49m\u001b[43m,\u001b[49m\u001b[43m \u001b[49m\u001b[43mtimeout\u001b[49m\u001b[43m,\u001b[49m\u001b[43m \u001b[49m\u001b[43msafe\u001b[49m\u001b[43m,\u001b[49m\u001b[43m \u001b[49m\u001b[43mssl_verify\u001b[49m\u001b[43m,\u001b[49m\u001b[43m \u001b[49m\u001b[43mregion\u001b[49m\u001b[43m)\u001b[49m\n\u001b[32m     61\u001b[39m     \u001b[38;5;66;03m# put in file - comment for debugging purpose\u001b[39;00m\n\u001b[32m     62\u001b[39m     \u001b[38;5;66;03m# with open('google.html', 'w') as f:\u001b[39;00m\n\u001b[32m     63\u001b[39m     \u001b[38;5;66;03m#     f.write(resp.text)\u001b[39;00m\n\u001b[32m     64\u001b[39m     \n\u001b[32m     65\u001b[39m     \u001b[38;5;66;03m# Parse\u001b[39;00m\n\u001b[32m     66\u001b[39m     soup = BeautifulSoup(resp.text, \u001b[33m\"\u001b[39m\u001b[33mhtml.parser\u001b[39m\u001b[33m\"\u001b[39m)\n",
      "\u001b[36mFile \u001b[39m\u001b[32mc:\\Users\\Vishwas\\miniconda3\\envs\\mcondaenv\\Lib\\site-packages\\googlesearch\\__init__.py:32\u001b[39m, in \u001b[36m_req\u001b[39m\u001b[34m(term, results, lang, start, proxies, timeout, safe, ssl_verify, region)\u001b[39m\n\u001b[32m      9\u001b[39m \u001b[38;5;28;01mdef\u001b[39;00m\u001b[38;5;250m \u001b[39m\u001b[34m_req\u001b[39m(term, results, lang, start, proxies, timeout, safe, ssl_verify, region):\n\u001b[32m     10\u001b[39m     resp = get(\n\u001b[32m     11\u001b[39m         url=\u001b[33m\"\u001b[39m\u001b[33mhttps://www.google.com/search\u001b[39m\u001b[33m\"\u001b[39m,\n\u001b[32m     12\u001b[39m         headers={\n\u001b[32m   (...)\u001b[39m\u001b[32m     30\u001b[39m         }\n\u001b[32m     31\u001b[39m     )\n\u001b[32m---> \u001b[39m\u001b[32m32\u001b[39m     \u001b[43mresp\u001b[49m\u001b[43m.\u001b[49m\u001b[43mraise_for_status\u001b[49m\u001b[43m(\u001b[49m\u001b[43m)\u001b[49m\n\u001b[32m     33\u001b[39m     \u001b[38;5;28;01mreturn\u001b[39;00m resp\n",
      "\u001b[36mFile \u001b[39m\u001b[32mc:\\Users\\Vishwas\\miniconda3\\envs\\mcondaenv\\Lib\\site-packages\\requests\\models.py:1024\u001b[39m, in \u001b[36mResponse.raise_for_status\u001b[39m\u001b[34m(self)\u001b[39m\n\u001b[32m   1019\u001b[39m     http_error_msg = (\n\u001b[32m   1020\u001b[39m         \u001b[33mf\u001b[39m\u001b[33m\"\u001b[39m\u001b[38;5;132;01m{\u001b[39;00m\u001b[38;5;28mself\u001b[39m.status_code\u001b[38;5;132;01m}\u001b[39;00m\u001b[33m Server Error: \u001b[39m\u001b[38;5;132;01m{\u001b[39;00mreason\u001b[38;5;132;01m}\u001b[39;00m\u001b[33m for url: \u001b[39m\u001b[38;5;132;01m{\u001b[39;00m\u001b[38;5;28mself\u001b[39m.url\u001b[38;5;132;01m}\u001b[39;00m\u001b[33m\"\u001b[39m\n\u001b[32m   1021\u001b[39m     )\n\u001b[32m   1023\u001b[39m \u001b[38;5;28;01mif\u001b[39;00m http_error_msg:\n\u001b[32m-> \u001b[39m\u001b[32m1024\u001b[39m     \u001b[38;5;28;01mraise\u001b[39;00m HTTPError(http_error_msg, response=\u001b[38;5;28mself\u001b[39m)\n",
      "\u001b[31mHTTPError\u001b[39m: 429 Client Error: Too Many Requests for url: https://www.google.com/sorry/index?continue=https://www.google.com/search%3Fq%3DPhilly%2BFluff%2BCake%2Bsite%253Ahttps%253A%252F%252Fwww.allrecipes.com%252Frecipes%252F236%252Fus-recipes%252F%26num%3D3%26hl%3Den%26start%3D0%26safe%3Dactive&hl=en&q=EgRvXYROGJDI-L8GIjDxid8tLnA7tuj1ipw6aRwVSOJ1s-mX80z7yPKFLrRNtsBFKzFqdumZ3q4LST_d7DUyAnJSWgFD"
     ]
    }
   ],
   "source": [
    "from googlesearch import search\n",
    "search_query = f\"{\"Philly Fluff Cake\"} site:{\"https://www.allrecipes.com/recipes/236/us-recipes/\"}\"\n",
    "            # Get the first relevant result\n",
    "for url in search(search_query, num_results=1):\n",
    "      print(url)"
   ]
  },
  {
   "cell_type": "code",
   "execution_count": 35,
   "id": "4c5a59ab",
   "metadata": {},
   "outputs": [
    {
     "name": "stdout",
     "output_type": "stream",
     "text": [
      "Error: 429 Client Error: Too Many Requests for url: https://www.google.com/sorry/index?continue=https://www.google.com/search%3Fq%3DPhilly%2BFluff%2BCake%2Bsite%253Ahttps%253A%252F%252Fwww.allrecipes.com%252Frecipes%252F236%252Fus-recipes%252F%26num%3D3%26hl%3Den%26start%3D0%26safe%3Dactive&hl=en&q=EgRvXYROGO3K-L8GIjCYAjWTbIbl8Dhbaiw7VI6oB9pUsGQCsVGKslgu0ogI1jW7IG9VdQr8vIQTc1OVIGIyAnJSWgFD\n"
     ]
    }
   ],
   "source": [
    "from googlesearch import search\n",
    "import time\n",
    "\n",
    "search_query = \"Philly Fluff Cake site:https://www.allrecipes.com/recipes/236/us-recipes/\"\n",
    "try:\n",
    "    for url in search(search_query, num_results=1):  # Add pause to respect rate limits\n",
    "        print(url)\n",
    "except Exception as e:\n",
    "    print(f\"Error: {e}\")"
   ]
  },
  {
   "cell_type": "code",
   "execution_count": null,
   "id": "d413885e",
   "metadata": {},
   "outputs": [],
   "source": []
  }
 ],
 "metadata": {
  "kernelspec": {
   "display_name": "mcondaenv",
   "language": "python",
   "name": "python3"
  },
  "language_info": {
   "codemirror_mode": {
    "name": "ipython",
    "version": 3
   },
   "file_extension": ".py",
   "mimetype": "text/x-python",
   "name": "python",
   "nbconvert_exporter": "python",
   "pygments_lexer": "ipython3",
   "version": "3.12.4"
  }
 },
 "nbformat": 4,
 "nbformat_minor": 5
}
