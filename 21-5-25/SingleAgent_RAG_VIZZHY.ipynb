{
 "cells": [
  {
   "cell_type": "code",
   "execution_count": 1,
   "id": "e36f5963",
   "metadata": {},
   "outputs": [],
   "source": [
    "from langchain_aws import ChatBedrockConverse\n",
    "from langchain_community.retrievers import AmazonKnowledgeBasesRetriever\n",
    "from langchain_openai import ChatOpenAI\n",
    "from langgraph.graph import END, StateGraph, START\n",
    "from pydantic import BaseModel, Field\n",
    "from langchain_core.prompts import ChatPromptTemplate\n",
    "from langchain_openai import ChatOpenAI\n",
    "from langgraph.graph import MessagesState\n",
    "\n",
    "from typing import List\n",
    "from typing_extensions import TypedDict\n",
    "\n",
    "from typing import Literal"
   ]
  },
  {
   "cell_type": "code",
   "execution_count": 2,
   "id": "c1c67461",
   "metadata": {},
   "outputs": [],
   "source": [
    "llm = ChatBedrockConverse(\n",
    "    model_id=\"us.amazon.nova-micro-v1:0\",\n",
    "    region_name='us-west-2',\n",
    "    temperature=0.3\n",
    "    )"
   ]
  },
  {
   "cell_type": "code",
   "execution_count": 3,
   "id": "bb0b44a3",
   "metadata": {},
   "outputs": [
    {
     "name": "stderr",
     "output_type": "stream",
     "text": [
      "C:\\Users\\Vishwas\\AppData\\Local\\Temp\\ipykernel_17452\\4007869504.py:1: LangChainDeprecationWarning: The class `AmazonKnowledgeBasesRetriever` was deprecated in LangChain 0.3.16 and will be removed in 1.0. An updated version of the class exists in the :class:`~langchain-aws package and should be used instead. To use it run `pip install -U :class:`~langchain-aws` and import as `from :class:`~langchain_aws import AmazonKnowledgeBasesRetriever``.\n",
      "  retriever = AmazonKnowledgeBasesRetriever(\n"
     ]
    }
   ],
   "source": [
    "retriever = AmazonKnowledgeBasesRetriever(\n",
    "    knowledge_base_id=\"KDVXCDF1BK\",  # From your Bedrock Knowledge Base\n",
    "    retrieval_config={\"vectorSearchConfiguration\": {\"numberOfResults\": 2}},\n",
    "     region_name=\"us-west-2\"\n",
    ")"
   ]
  },
  {
   "cell_type": "code",
   "execution_count": 40,
   "id": "9660b3e9",
   "metadata": {},
   "outputs": [],
   "source": [
    "query = \"in the trait category what are the SNPs involved in pigmentation and give a brief description for each of these SNPs.\""
   ]
  },
  {
   "cell_type": "code",
   "execution_count": 41,
   "id": "b3cb6d8c",
   "metadata": {},
   "outputs": [
    {
     "name": "stdout",
     "output_type": "stream",
     "text": [
      "s3://test-opensource-hanooman-ai/html_whole genome sequencing report vishnu.pdf\n",
      "s3://test-opensource-hanooman-ai/html_whole genome sequencing report vishnu.pdf\n"
     ]
    }
   ],
   "source": [
    "results = retriever.invoke(query)\n",
    "context = \"\"\n",
    "for doc in results:\n",
    "      context += doc.page_content\n",
    "      print(doc.metadata['location']['s3Location']['uri'])"
   ]
  },
  {
   "cell_type": "code",
   "execution_count": 42,
   "id": "865a8e52",
   "metadata": {},
   "outputs": [
    {
     "name": "stdout",
     "output_type": "stream",
     "text": [
      "Certainly! Here's a respectful and informative response regarding the SNPs involved in pigmentation:\n",
      "\n",
      "---\n",
      "\n",
      "**SNPs Involved in Pigmentation:**\n",
      "\n",
      "1. **rs1426654 - SLC24A5**\n",
      "   - **Genotype Description:** \n",
      "     - **A/A:** Indicates light-skinned West Eurasian ancestry.\n",
      "     - **A/G:** Indicates a mixed ancestry with some light-skinned West Eurasian traits.\n",
      "     - **G/G:** Indicates darker skin pigmentation, more common in non-European populations.\n",
      "\n",
      "2. **rs16891982 - SLC45A2**\n",
      "   - **Genotype Description:**\n",
      "     - **C/C:** Generally non-European, but if European, 7x more likely to have black hair and average skin pigmentation.\n",
      "     - **C/G:** If European, 7x more likely to have black hair and lower risk of melanoma.\n",
      "     - **G/G:** Generally European, lighter skin pigmentation, possibly an increased risk of melanoma.\n",
      "\n",
      "These SNPs play a significant role in determining skin, hair, and eye color, as well as the risk of conditions like melanoma. Understanding these genetic variations can provide valuable insights into an individual's ancestry and health predispositions.\n",
      "\n",
      "---\n",
      "\n",
      "If you have any more questions or need further details, feel free to ask!\n"
     ]
    }
   ],
   "source": [
    "system_prompt= open(\"vizzhy agent prompt.txt\").read()\n",
    "messages = [\n",
    "      (\n",
    "            \"system\",\n",
    "            system_prompt\n",
    "      ),\n",
    "      (\"human\",  f\"\"\"Answer the query for the provided context. query: {query} /n/n context:{context}\"\"\"),\n",
    "]\n",
    "ai_msg = llm.invoke(messages)\n",
    "print(ai_msg.content)"
   ]
  },
  {
   "cell_type": "code",
   "execution_count": null,
   "id": "44ddc631",
   "metadata": {},
   "outputs": [],
   "source": []
  },
  {
   "cell_type": "code",
   "execution_count": null,
   "id": "ed505eca",
   "metadata": {},
   "outputs": [],
   "source": []
  }
 ],
 "metadata": {
  "kernelspec": {
   "display_name": "mcondaenv",
   "language": "python",
   "name": "python3"
  },
  "language_info": {
   "codemirror_mode": {
    "name": "ipython",
    "version": 3
   },
   "file_extension": ".py",
   "mimetype": "text/x-python",
   "name": "python",
   "nbconvert_exporter": "python",
   "pygments_lexer": "ipython3",
   "version": "3.12.4"
  }
 },
 "nbformat": 4,
 "nbformat_minor": 5
}
