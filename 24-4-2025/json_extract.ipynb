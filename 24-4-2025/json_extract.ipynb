{
 "cells": [
  {
   "cell_type": "code",
   "execution_count": 4,
   "id": "ee247908",
   "metadata": {},
   "outputs": [],
   "source": [
    "import json\n",
    "from datetime import datetime,timedelta\n",
    "\n",
    "with open(r\"C:\\Users\\Vishwas\\Documents\\food_fabricated.json\") as f:\n",
    "    food_data = json.load(f)\n",
    "    # food_data = food_data[\"select * from tbl_customer_iot_data tcid where customer_id='261cb253-f11a-461c-9dc0-b608549c4454'\"]\n",
    "\n",
    "with open(r\"C:\\Users\\Vishwas\\Documents\\cgm_fabricated.json\") as f:\n",
    "    cgm_data = json.load(f)"
   ]
  },
  {
   "cell_type": "code",
   "execution_count": null,
   "id": "f9100177",
   "metadata": {},
   "outputs": [],
   "source": [
    "# def fetch_meals(time):\n",
    "#       filtered_meals = []\n",
    "#       # time = datetime.strptime(time, \"%Y-%m-%dT%H:%M:%S.%fZ\")\n",
    "#       # end_time = time.strftime(\"%Y-%m-%d %H:%M\")\n",
    "      \n",
    "#       end_time = datetime.strptime(time, \"%d-%m-%Y %H:%M\")\n",
    "#       start_time = end_time - timedelta(minutes=15)\n",
    "#       # exit\n",
    "#       for meal in food_data2:\n",
    "#             # clean_time_str = meal[\"mealTime\"].replace(\"AM\", \"\").replace(\"PM\", \"\").strip()\n",
    "#             meal_datetime = datetime.strptime(meal['mealTime'], \"%d-%m-%Y %H:%M\")\n",
    "#             if start_time < meal_datetime <= end_time:\n",
    "#                   try:\n",
    "#                         # f_meal = {\n",
    "#                         # \"mealType\": meal[\"mealType\"],\n",
    "#                         # \"mealTime\": meal[\"mealTime\"],\n",
    "#                         # \"foodName\": meal[\"food\"][\"foodName\"],\n",
    "#                         # \"nutrition\": {\n",
    "#                         #       \"protein\": str(round(meal[\"food\"][\"nutrition\"][\"macro\"][\"protein\"][\"value\"],2)) +\" \"+ str(meal[\"food\"][\"nutrition\"][\"macro\"][\"protein\"][\"unit\"]),\n",
    "#                         #       \"energy\": str(meal[\"food\"][\"nutrition\"][\"macro\"][\"energy\"][\"value\"]) +\" \"+ str(meal[\"food\"][\"nutrition\"][\"macro\"][\"energy\"][\"unit\"]),\n",
    "#                         #       \"total_dietary_fibre\": str(meal[\"food\"][\"nutrition\"][\"macro\"][\"total_dietary_fibre\"][\"value\"])+\" \"+str(meal[\"food\"][\"nutrition\"][\"macro\"][\"total_dietary_fibre\"][\"unit\"]),\n",
    "#                         #       \"carbohydrates\": str(meal[\"food\"][\"nutrition\"][\"macro\"][\"carbohydrates\"][\"value\"])+\" \"+str(meal[\"food\"][\"nutrition\"][\"macro\"][\"carbohydrates\"][\"unit\"])\n",
    "#                         # }\n",
    "#                         # }\n",
    "#                         # print(\"true\")\n",
    "#                         filtered_meals.append(meal)\n",
    "#                   except:\n",
    "#                         print(\"passed\")\n",
    "#                         pass\n",
    "#       return filtered_meals"
   ]
  },
  {
   "cell_type": "code",
   "execution_count": 5,
   "id": "7139f56d",
   "metadata": {},
   "outputs": [],
   "source": [
    "reference_time_str = \"01-09-2024 18:00\"\n",
    "reference_time = datetime.strptime(reference_time_str, \"%d-%m-%Y %H:%M\")\n",
    "start_time = reference_time - timedelta(hours=8)\n",
    "\n",
    "# Filter readings within the last 2 hours before the reference time\n",
    "prompt = \"\"\n",
    "filtered_glucose_readings = [\n",
    "    {\n",
    "        \"glucose_reading\": str(reading[\"glucose_reading\"]) + \" \"+\"mg/dL\",\n",
    "        \"reading_date_time\": reading[\"reading_date_time\"],\n",
    "        # \"meals_data\": fetch_meals(reading[\"reading_date_time\"]),\n",
    "        # \"Activity\": fetch_steps(reading['reading_date_time'])\n",
    "    }\n",
    "    for reading in cgm_data\n",
    "    if start_time <= datetime.strptime(reading[\"reading_date_time\"], \"%d-%m-%Y %H:%M\") <= reference_time\n",
    "]\n",
    "prompt += f\"CGM readings starting from : {start_time} for every 15 minutes time frame\\n\"\n",
    "for i,entry in enumerate(filtered_glucose_readings,1):\n",
    "        prompt += f\"{entry['reading_date_time']} : {entry['glucose_reading']}\\n\""
   ]
  },
  {
   "cell_type": "code",
   "execution_count": 6,
   "id": "c6260a06",
   "metadata": {},
   "outputs": [
    {
     "name": "stdout",
     "output_type": "stream",
     "text": [
      "CGM readings starting from : 2024-09-01 10:00:00 for every 15 minutes time frame\n",
      "01-09-2024 10:00 : 121.0 mg/dL\n",
      "01-09-2024 10:15 : 135.7 mg/dL\n",
      "01-09-2024 10:30 : 135.7 mg/dL\n",
      "01-09-2024 10:45 : 169.2 mg/dL\n",
      "01-09-2024 11:00 : 196.0 mg/dL\n",
      "01-09-2024 11:15 : 198.9 mg/dL\n",
      "01-09-2024 11:30 : 187.2 mg/dL\n",
      "01-09-2024 11:45 : 168.2 mg/dL\n",
      "01-09-2024 12:00 : 162.6 mg/dL\n",
      "01-09-2024 12:15 : 154.8 mg/dL\n",
      "01-09-2024 12:30 : 77.9 mg/dL\n",
      "01-09-2024 12:45 : 126.1 mg/dL\n",
      "01-09-2024 13:00 : 126.1 mg/dL\n",
      "01-09-2024 13:15 : 185.6 mg/dL\n",
      "01-09-2024 13:30 : 236.7 mg/dL\n",
      "01-09-2024 13:45 : 251.4 mg/dL\n",
      "01-09-2024 14:00 : 221.2 mg/dL\n",
      "01-09-2024 14:15 : 202.2 mg/dL\n",
      "01-09-2024 14:30 : 172.4 mg/dL\n",
      "01-09-2024 14:45 : 179.3 mg/dL\n",
      "01-09-2024 15:00 : 75.0 mg/dL\n",
      "01-09-2024 15:15 : 95.5 mg/dL\n",
      "01-09-2024 15:30 : 118.5 mg/dL\n",
      "01-09-2024 15:45 : 125.8 mg/dL\n",
      "01-09-2024 16:00 : 125.8 mg/dL\n",
      "01-09-2024 16:15 : 152.8 mg/dL\n",
      "01-09-2024 16:30 : 170.7 mg/dL\n",
      "01-09-2024 16:45 : 178.7 mg/dL\n",
      "01-09-2024 17:00 : 165.4 mg/dL\n",
      "01-09-2024 17:15 : 156.8 mg/dL\n",
      "01-09-2024 17:30 : 150.0 mg/dL\n",
      "01-09-2024 17:45 : 134.9 mg/dL\n",
      "01-09-2024 18:00 : 68.5 mg/dL\n",
      "\n"
     ]
    }
   ],
   "source": [
    "print(prompt)"
   ]
  },
  {
   "cell_type": "code",
   "execution_count": 8,
   "id": "4987400d",
   "metadata": {},
   "outputs": [
    {
     "name": "stdout",
     "output_type": "stream",
     "text": [
      "time : 01-09-2024 10:30\n",
      "foodName : Tea (Protein- 3.58 g, Carbs- 12.64 g, Energy- 101.45 Kcal, Fiber- 0.0 g)\n",
      "\n",
      "time : 01-09-2024 10:30\n",
      "foodName : Marie light biscuit (Protein- 0.94 g, Carbs- 7.4 g, Energy- 45.7 Kcal, Fiber- 0.0 g)\n",
      "\n",
      "time : 01-09-2024 13:30\n",
      "foodName : White Rice  (Protein- 5.07 g, Carbs- 49.98 g, Energy- 227.63 Kcal, Fiber- 1.79 g)\n",
      "\n",
      "time : 01-09-2024 13:30\n",
      "foodName : Drumstick sambar (Protein- 5.18 g, Carbs- 19.7 g, Energy- 140.82 Kcal, Fiber- 4.13 g)\n",
      "\n",
      "time : 01-09-2024 13:30\n",
      "foodName : Chow chow poriyal (Protein- 1.29 g, Carbs- 5.03 g, Energy- 29.84 Kcal, Fiber- 2.02 g)\n",
      "\n",
      "time : 01-09-2024 16:00\n",
      "foodName : Filter Coffee (Protein- 4.26 g, Carbs- 12.91 g, Energy- 118.06 Kcal, Fiber- 0.0 g)\n",
      "\n",
      "time : 01-09-2024 18:00\n",
      "foodName : Masala Vada (Protein- 2.48 g, Carbs- 6.16 g, Energy- 81.41 Kcal, Fiber- 2.09 g)\n",
      "\n"
     ]
    }
   ],
   "source": [
    "filtered_step_readings = [\n",
    "      reading\n",
    "    for reading in food_data\n",
    "    if start_time <= datetime.strptime(reading[\"mealTime\"], \"%d-%m-%Y %H:%M\") <= reference_time\n",
    "]\n",
    "for i, entry in enumerate(filtered_step_readings, 1):\n",
    "    # prompt += f\"{i}. Time: {entry['reading_date_time']}\\n\"\n",
    "    # prompt += f\"   Glucose: {entry['glucose_reading']}\\n\"\n",
    "\n",
    "    print(f\"time : {entry['mealTime']}\\n\"\n",
    "    f\"foodName : {entry['foodName']} (Protein- {entry['nutrition']['Protein']}, Carbs- {entry['nutrition']['Carbohydrate']}, Energy- {entry['nutrition']['Energy']}, Fiber- {entry['nutrition']['Fiber']})\\n\")\n",
    "\n",
    "\n",
    "        "
   ]
  },
  {
   "cell_type": "code",
   "execution_count": 10,
   "id": "22a0b5e0",
   "metadata": {},
   "outputs": [
    {
     "name": "stdout",
     "output_type": "stream",
     "text": [
      "time : 01-09-2024 10:00 \n",
      "Steps : 5.0\n",
      "\n",
      "time : 01-09-2024 11:00 \n",
      "Steps : 50.0\n",
      "\n",
      "time : 01-09-2024 12:00 \n",
      "Steps : 55.0\n",
      "\n",
      "time : 01-09-2024 13:00 \n",
      "Steps : 5.0\n",
      "\n",
      "time : 01-09-2024 14:00 \n",
      "Steps : 5.0\n",
      "\n",
      "time : 01-09-2024 15:00 \n",
      "Steps : 5.0\n",
      "\n",
      "time : 01-09-2024 16:00 \n",
      "Steps : 226.0\n",
      "\n",
      "time : 01-09-2024 17:00 \n",
      "Steps : 15.0\n",
      "\n",
      "time : 01-09-2024 18:00 \n",
      "Steps : 20.0\n",
      "\n"
     ]
    }
   ],
   "source": [
    "import pandas as pd\n",
    "df = pd.read_csv(r\"c:\\Users\\Vishwas\\Documents\\fabricated_step.csv\")\n",
    "# p=\"\"\n",
    "for index, row in df.iterrows():  \n",
    "      try:    \n",
    "            \n",
    "            ctime = datetime.strptime(row['Date Time'], \"%m-%d-%Y %H:%M\")\n",
    "            # print(ctime)\n",
    "            if start_time <= ctime <= reference_time:\n",
    "                  date_obj = datetime.strptime(row['Date Time'], \"%d-%m-%Y %H:%M\")\n",
    "\n",
    "# Convert to desired format (MM-DD-YYYY)\n",
    "                  new_date = date_obj.strftime(\"%m-%d-%Y %H:%M\")\n",
    "                  print(f\"time : {new_date} \\nSteps : {str(row['Steps']) }\\n\")\n",
    "      except:\n",
    "            pass\n"
   ]
  },
  {
   "cell_type": "code",
   "execution_count": null,
   "id": "3f788af6",
   "metadata": {},
   "outputs": [
    {
     "data": {
      "text/plain": [
       "[{'mealType': 'Snack',\n",
       "  'mealTime': '01-09-2024 10:30',\n",
       "  'foodName': 'Tea',\n",
       "  'nutrition': {'Protein': '3.58 g',\n",
       "   'Energy': '101.45 Kcal',\n",
       "   'Carbohydrate': '12.64 g',\n",
       "   'Fiber': '0.0 g'}},\n",
       " {'mealType': 'Snack',\n",
       "  'mealTime': '01-09-2024 10:30',\n",
       "  'foodName': 'Marie light biscuit',\n",
       "  'nutrition': {'Protein': '0.94 g',\n",
       "   'Energy': '45.7 Kcal',\n",
       "   'Carbohydrate': '7.4 g',\n",
       "   'Fiber': '0.0 g'}},\n",
       " {'mealType': 'Lunch',\n",
       "  'mealTime': '01-09-2024 13:30',\n",
       "  'foodName': 'White Rice ',\n",
       "  'nutrition': {'Protein': '5.07 g',\n",
       "   'Energy': '227.63 Kcal',\n",
       "   'Carbohydrate': '49.98 g',\n",
       "   'Fiber': '1.79 g'}},\n",
       " {'mealType': 'Lunch',\n",
       "  'mealTime': '01-09-2024 13:30',\n",
       "  'foodName': 'Drumstick sambar',\n",
       "  'nutrition': {'Protein': '5.18 g',\n",
       "   'Energy': '140.82 Kcal',\n",
       "   'Carbohydrate': '19.7 g',\n",
       "   'Fiber': '4.13 g'}},\n",
       " {'mealType': 'Lunch',\n",
       "  'mealTime': '01-09-2024 13:30',\n",
       "  'foodName': 'Chow chow poriyal',\n",
       "  'nutrition': {'Protein': '1.29 g',\n",
       "   'Energy': '29.84 Kcal',\n",
       "   'Carbohydrate': '5.03 g',\n",
       "   'Fiber': '2.02 g'}},\n",
       " {'mealType': 'Evening',\n",
       "  'mealTime': '01-09-2024 16:00',\n",
       "  'foodName': 'Filter Coffee',\n",
       "  'nutrition': {'Protein': '4.26 g',\n",
       "   'Energy': '118.06 Kcal',\n",
       "   'Carbohydrate': '12.91 g',\n",
       "   'Fiber': '0.0 g'}},\n",
       " {'mealType': 'Snack',\n",
       "  'mealTime': '01-09-2024 18:00',\n",
       "  'foodName': 'Masala Vada',\n",
       "  'nutrition': {'Protein': '2.48 g',\n",
       "   'Energy': '81.41 Kcal',\n",
       "   'Carbohydrate': '6.16 g',\n",
       "   'Fiber': '2.09 g'}}]"
      ]
     },
     "execution_count": 6,
     "metadata": {},
     "output_type": "execute_result"
    }
   ],
   "source": [
    "print(datetime.strptime(row['Date Time'], \"%m-%d-%Y %H:%M\"))"
   ]
  },
  {
   "cell_type": "code",
   "execution_count": 3,
   "id": "bebf75c9",
   "metadata": {},
   "outputs": [
    {
     "data": {
      "text/plain": [
       "[{'glucose_reading': '121.0 mg/dL', 'reading_date_time': '01-09-2024 10:00'},\n",
       " {'glucose_reading': '135.7 mg/dL', 'reading_date_time': '01-09-2024 10:15'},\n",
       " {'glucose_reading': '135.7 mg/dL', 'reading_date_time': '01-09-2024 10:30'},\n",
       " {'glucose_reading': '169.2 mg/dL', 'reading_date_time': '01-09-2024 10:45'},\n",
       " {'glucose_reading': '196.0 mg/dL', 'reading_date_time': '01-09-2024 11:00'},\n",
       " {'glucose_reading': '198.9 mg/dL', 'reading_date_time': '01-09-2024 11:15'},\n",
       " {'glucose_reading': '187.2 mg/dL', 'reading_date_time': '01-09-2024 11:30'},\n",
       " {'glucose_reading': '168.2 mg/dL', 'reading_date_time': '01-09-2024 11:45'},\n",
       " {'glucose_reading': '162.6 mg/dL', 'reading_date_time': '01-09-2024 12:00'},\n",
       " {'glucose_reading': '154.8 mg/dL', 'reading_date_time': '01-09-2024 12:15'},\n",
       " {'glucose_reading': '77.9 mg/dL', 'reading_date_time': '01-09-2024 12:30'},\n",
       " {'glucose_reading': '126.1 mg/dL', 'reading_date_time': '01-09-2024 12:45'},\n",
       " {'glucose_reading': '126.1 mg/dL', 'reading_date_time': '01-09-2024 13:00'},\n",
       " {'glucose_reading': '185.6 mg/dL', 'reading_date_time': '01-09-2024 13:15'},\n",
       " {'glucose_reading': '236.7 mg/dL', 'reading_date_time': '01-09-2024 13:30'},\n",
       " {'glucose_reading': '251.4 mg/dL', 'reading_date_time': '01-09-2024 13:45'},\n",
       " {'glucose_reading': '221.2 mg/dL', 'reading_date_time': '01-09-2024 14:00'},\n",
       " {'glucose_reading': '202.2 mg/dL', 'reading_date_time': '01-09-2024 14:15'},\n",
       " {'glucose_reading': '172.4 mg/dL', 'reading_date_time': '01-09-2024 14:30'},\n",
       " {'glucose_reading': '179.3 mg/dL', 'reading_date_time': '01-09-2024 14:45'},\n",
       " {'glucose_reading': '75.0 mg/dL', 'reading_date_time': '01-09-2024 15:00'},\n",
       " {'glucose_reading': '95.5 mg/dL', 'reading_date_time': '01-09-2024 15:15'},\n",
       " {'glucose_reading': '118.5 mg/dL', 'reading_date_time': '01-09-2024 15:30'},\n",
       " {'glucose_reading': '125.8 mg/dL', 'reading_date_time': '01-09-2024 15:45'},\n",
       " {'glucose_reading': '125.8 mg/dL', 'reading_date_time': '01-09-2024 16:00'},\n",
       " {'glucose_reading': '152.8 mg/dL', 'reading_date_time': '01-09-2024 16:15'},\n",
       " {'glucose_reading': '170.7 mg/dL', 'reading_date_time': '01-09-2024 16:30'},\n",
       " {'glucose_reading': '178.7 mg/dL', 'reading_date_time': '01-09-2024 16:45'},\n",
       " {'glucose_reading': '165.4 mg/dL', 'reading_date_time': '01-09-2024 17:00'},\n",
       " {'glucose_reading': '156.8 mg/dL', 'reading_date_time': '01-09-2024 17:15'},\n",
       " {'glucose_reading': '150.0 mg/dL', 'reading_date_time': '01-09-2024 17:30'},\n",
       " {'glucose_reading': '134.9 mg/dL', 'reading_date_time': '01-09-2024 17:45'},\n",
       " {'glucose_reading': '68.5 mg/dL', 'reading_date_time': '01-09-2024 18:00'}]"
      ]
     },
     "execution_count": 3,
     "metadata": {},
     "output_type": "execute_result"
    }
   ],
   "source": [
    "filtered_glucose_readings"
   ]
  },
  {
   "cell_type": "code",
   "execution_count": null,
   "id": "0c116252",
   "metadata": {},
   "outputs": [],
   "source": []
  }
 ],
 "metadata": {
  "kernelspec": {
   "display_name": "mcondaenv",
   "language": "python",
   "name": "python3"
  },
  "language_info": {
   "codemirror_mode": {
    "name": "ipython",
    "version": 3
   },
   "file_extension": ".py",
   "mimetype": "text/x-python",
   "name": "python",
   "nbconvert_exporter": "python",
   "pygments_lexer": "ipython3",
   "version": "3.12.4"
  }
 },
 "nbformat": 4,
 "nbformat_minor": 5
}
