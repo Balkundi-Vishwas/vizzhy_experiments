{
 "cells": [
  {
   "cell_type": "code",
   "execution_count": 1,
   "id": "8a6f0ec6",
   "metadata": {},
   "outputs": [
    {
     "name": "stdout",
     "output_type": "stream",
     "text": [
      "Okay, Tony, Dr. Templey, I met you last week. Hi, Dr. Templey, how are you? Come on in and take a seat. Great, thanks a million. How are you doing today? Great, yeah, I feel fine, yeah, I just got a phone call to come back in and see you about that result that you know I went to and got the x-ray. You did, okay, so we were here last week. That's right, yeah. And to refresh and to go over things just a little bit, it was the cough that was really causing a lot of trouble, wasn't it? Yeah, I just had this really irritating cough going on for much longer than I'd usually have it, you know, going on nearly three months. Yeah, it was just quite a long time. It is, yeah, I tried all cough bottles and everything, I couldn't get rid of it. Yeah, and you were worried about it? Yeah, I was a bit worried, I suppose, usually when I have a cough, you know, a few antibiotics and things and it goes away, you know, but this one wasn't going. And you had mentioned that you'd lost weight as well. Yeah, I'd lost, in the same period, probably lost a bit of stone and weight, but, you know, I probably needed to lose a bit, so, you know, I'm not upset over that as such. Okay, okay, and to check just a few other little things, had your appetite been okay? Been okay, I suppose. I suppose I haven't been eating huge amounts, but nothing significant. Okay, and you hadn't been coughing up any blood or anything like that? No, no, no, no. I would have come straight down if I'd coughed up blood. No, good, good. And it's six or seven years since you stopped cigarettes, Tony, is it? Yeah, six years now, six years off the cigarettes, so it's great. So, yeah, definitely cough much less and got much less infections since I stopped, which is super stuff. Okay, okay. Proud of myself there, yeah. Good, no, that's fantastic work. So, the reason we did the chest x-ray was because the cough was going on longer than usual, really, for you, and with the weight loss as well, and obviously we were both a bit worried about that, and was there any particular reason that could have caused it, and the x-ray has come back to us, okay, and it has shown something on it, okay, Tony? By something, I know that sounds very vague, it's a little shadow in it, okay, up at the top of the right lung, which could be numerous things, all right, but it has come back showing something, so it's something we need to address. Is that something cancer? So, that's obviously the first question, the first thought that comes to mind, and the answer is that at this stage, we don't know, okay, it could be many things, when there's a shadow in the lung, there's a list of things that it could be, so yes, it could be cancer, there's things like old tuberculosis can cause these shadows, bad infections that haven't gone away, you never had that, sometimes we could have it and not know we had it, that's a possibility, an infection that hasn't gone away, sometimes scarring in the lung, there's lots of things that could contribute to it, okay, but now that we've picked it up and know that it's there, we need to be aware that it could be something more serious. And could that have been there for a long time? Potentially, it could be, it could have been there for a long time, or it could have developed recently. And do you think it's associated with me coughing and losing weight? So, it could be, and that's why we can't ignore it, okay, if there's something there that could have contributed to that, okay. I can understand that this is a bit of a shock. Oh my god, it's a huge shock, I gave up smoking, so I thought when you give up smoking, then you can't develop cancer. Yeah, and that's unfortunately not the case, however, giving up the cigarettes was obviously a wonderful thing to do, and as you said, the cough has improved, okay. So, what happens next? I mean, how do I find out what it is? Yeah, so okay, so obviously this is all a lot of information at once, and you're down on your own today, which is, it's hard, it'd be nice to have somebody with you. Who's at home with you, Tony? Oh, just my wife, and we have two kids as well. You have two kids too, yeah, yeah, okay. We'll go through things now, of course, and then it'd be great to bring your wife down with you, if you think she'd like to come. God, I don't know how I'm going to tell her. Yeah, I can help you with that, that's no problem. Yeah, maybe, maybe we might come down together. Yeah, yeah, that's a good idea, definitely. I don't know if I could tell her, actually. Yeah, well I'd be more than happy to help you go through that, and we can make sure we have extra time. So, if you let me know whether it's later on today, we can do it at the end of the day, or we can do it later on in the week, and make sure we have a long appointment. So, where do I go from here? Yeah, yeah, there's lots to cover. Do I need to contact anyone? You need to do nothing, okay? I want you to try and just take it all in, and I know it's a lot of information. How it works is that once we found this thing on the lung, and I'm going to call it a shadow, okay? We need to find out what it is, and an x-ray will show that there's something there, but it can't tell us what, okay? So, luckily now in recent years, there's a new referral program in the hospitals, which is great. It's called Rapid Access, okay? And it means you get seen within two weeks max, okay? Within two weeks. Within two weeks, so it could be a couple of days, or it could be up to the two weeks, okay? And what we do is, I'll send it off right now, a letter saying what we had come up against, the cough and the weight loss, and what the x-ray has shown, okay? Okay, okay. And then what they'll do is offer you an appointment to come in within the two weeks, and I would suggest you bring somebody with you when you go, probably your wife would be a good idea. Okay, yeah, I'm definitely going to bring someone with me, you know? Yeah, I know, it's hard to take in this news when you're on your own. When you go to the appointment, so what are they going to do? They'll go through a history again, asking all the same questions, probably, okay? And then what they'll do is, I think, call it a CAT scan, or a CT scan, of the whole, the chest area, okay? Where you go into this machine. Have you ever had one of those before, for anything? I think I had one years ago, it was a really loud machine. Yes, yeah, it makes lots of noise. Yeah, yeah, okay, and that'll look in more detail of what is there, okay? It'll give us a bit more information. Right. But then the definitive thing to say 100% what it is, is by putting a camera down, okay? And I don't know, have you ever had a camera down into the tummy? I've had a camera down into the tummy before, yeah. Okay, so it's obviously similar but different, this one's going down into the lung, okay? And it has a look, and a little needle will take a sample, okay? But they won't take it out, they won't take the whole thing out, will they? They won't take the whole thing out until they know what it is, okay? Alright, okay. And how long will that take, from the time, I suppose, I go to the lung unit, to the time I find out whether it's cancer or not? I know, and that's a very important question. It shouldn't be long, Tony, is the honest answer to that, okay? On the day they'll do the CT, and they may even do the camera test that day, and then the biopsy results can take a couple of weeks to come back, okay? But once you're seen in the clinic, they'll have a better idea, they'll be able to give you a better time frame. I don't want to give you specific time frames because I'm not 100% sure, okay? We'll have to check with the specialists, but it shouldn't be long, okay? And then based on what it shows, we take it from there, okay? Okay, yeah, sure. No, I appreciate your honesty because, you know, it's better that I know that, you know, I suppose it could be cancer, you know. I did smoke, and in hindsight now, maybe I was ignoring some of the symptoms. Yeah, and apart from the cough and the weight loss, you didn't really notice anything else? No, I mean, my energy levels were great, but I'm busy and work, and the two kids, and you know, I'm quite young. You just put it down to just general fatigue, you know? I didn't think there'd be something wrong. Yeah, anyone in the family have any cancer, Tony? Not that I know of. Not that you're aware of, no. And we don't know what that is, what it is yet, you know? Yes, of course it could be, but I don't want us to jump to that just yet. So I'm supposed to be in work tomorrow. I don't think I'll be able to work. I don't think that'll be a good idea. No, no, I think you should take a couple of days off, okay? And again, some people do find it easier to go in and to keep distracted, but definitely today we've landed a bit of a bombshell, and I think to have a bit of time to talk. Okay. Will your wife be at home when you get home, is she...? Yeah, she'll be at home, and I might tell her that just that the doctor wants to speak to us together, and I'll probably tell her some, but not that it could be cancer, because she'll just go up the walls with that. Okay, and when you bring her in, would you like me to tell her that, or would you rather we keep it vague for the moment? Maybe you just tell her what you told me. Okay, okay, so that she knows that it's a possibility, but we don't know, and we don't know. No, I understand that, but I suppose it's something that I should gear myself up for. Okay, and is there anyone else you'd like to talk to, or for me to link you in with somebody to have a chat? I suppose not at the moment. I suppose I'll just chat to her, and then, as I said, I'll just go to the hospital, and I'll take it from there. Okay, all right. And open door policy here, Tony, so any time that you're, if you're struggling with it, come in at all over the next couple of days, two weeks. Look, that's great, I appreciate that. And we'll take it from there. I might take you up on that offer. Okay, so please try not to worry, while knowing that it could be something we don't know yet, and we need to look into it further. I'll do that. Look, you've been very good, and I appreciate you being honest with me, and I just hope now that it's not something serious. Okay, and hopefully. And we'll see you with your wife in the next couple of days. All right, Tony. Thanks, Dr. Templin. No problem. Okay, bye-bye. We'll see you soon.\n"
     ]
    }
   ],
   "source": [
    "from openai import OpenAI\n",
    "#  from openai import OpenAI\n",
    "import os\n",
    "from dotenv import load_dotenv\n",
    "load_dotenv()\n",
    "\n",
    "client = OpenAI(api_key=os.environ.get(\"OPENAI_API_KEY\"))\n",
    "audio_file= open(r\"c:\\Users\\Vishwas\\Downloads\\COPD_13.mp3\", \"rb\")\n",
    " \n",
    "transcription = client.audio.transcriptions.create(\n",
    "    model=\"whisper-1\", \n",
    "    file=audio_file,\n",
    "    prompt=\"\"\"The following conversation is between a Doctor and a Patient. Please differentiate the speakers clearly.\n",
    "\n",
    "    \"\"\"\n",
    ")\n",
    " \n",
    "print(transcription.text)"
   ]
  },
  {
   "cell_type": "markdown",
   "id": "e08292ad",
   "metadata": {},
   "source": []
  },
  {
   "cell_type": "code",
   "execution_count": null,
   "id": "a3f0893f",
   "metadata": {},
   "outputs": [],
   "source": []
  }
 ],
 "metadata": {
  "kernelspec": {
   "display_name": "mcondaenv",
   "language": "python",
   "name": "python3"
  },
  "language_info": {
   "codemirror_mode": {
    "name": "ipython",
    "version": 3
   },
   "file_extension": ".py",
   "mimetype": "text/x-python",
   "name": "python",
   "nbconvert_exporter": "python",
   "pygments_lexer": "ipython3",
   "version": "3.12.4"
  }
 },
 "nbformat": 4,
 "nbformat_minor": 5
}
