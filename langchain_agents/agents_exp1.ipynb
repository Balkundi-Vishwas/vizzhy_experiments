{
 "cells": [
  {
   "cell_type": "code",
   "execution_count": 1,
   "id": "4e56ac4e",
   "metadata": {},
   "outputs": [],
   "source": [
    "from openai import OpenAI\n",
    "import os\n",
    "from dotenv import load_dotenv\n",
    "load_dotenv()\n",
    "\n",
    "client = OpenAI( api_key=os.environ.get(\"OPENAI_API_KEY\"))"
   ]
  },
  {
   "cell_type": "code",
   "execution_count": 2,
   "id": "cb35297c",
   "metadata": {},
   "outputs": [
    {
     "name": "stdout",
     "output_type": "stream",
     "text": [
      "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\n"
     ]
    }
   ],
   "source": [
    "load_dotenv()\n",
    "print(os.environ.get(\"TAVILY_API_KEY\"))"
   ]
  },
  {
   "cell_type": "code",
   "execution_count": 3,
   "id": "5bcf1878",
   "metadata": {},
   "outputs": [],
   "source": [
    "from langchain_community.tools.tavily_search import TavilySearchResults\n",
    "\n",
    "search = TavilySearchResults(max_results=2,api_key=os.environ.get(\"TAVILY_API_KEY\"),include_domains = ['www.healthyschoolrecipes.com'])\n",
    "search_results = search.invoke(\"what are the ingredients recipe for Stromboli\")"
   ]
  },
  {
   "cell_type": "code",
   "execution_count": 4,
   "id": "56f5954a",
   "metadata": {},
   "outputs": [
    {
     "data": {
      "text/plain": [
       "[{'title': 'Vegetable Stromboli USDA',\n",
       "  'url': 'https://healthyschoolrecipes.com/recipes/vegetable-stromboli-usda/',\n",
       "  'content': 'Ingredients ; Vegetable oil, 1/4 cup ; Salt, 1 teaspoon ; Sugar, 2 tablespoons ; Dried basil, 1 tablespoons 1/4 teaspoon ; Dried oregano, 1',\n",
       "  'score': 0.7636429},\n",
       " {'title': 'Stromboli USDA',\n",
       "  'url': 'https://healthyschoolrecipes.com/recipes/stromboli-usda/',\n",
       "  'content': 'Ingredients ; Water, warm, 3 cups ; Enriched all-purpose flour. (2 pounds, 10 ounces). 2.625 pounds ; Vegetable oil, ¼ cup ; Salt, kosher, 1',\n",
       "  'score': 0.73778254}]"
      ]
     },
     "execution_count": 4,
     "metadata": {},
     "output_type": "execute_result"
    }
   ],
   "source": [
    "search_results"
   ]
  },
  {
   "cell_type": "code",
   "execution_count": 16,
   "id": "d6c65dc8",
   "metadata": {},
   "outputs": [],
   "source": [
    "def make_system_prompt(suffix: str) -> str:\n",
    "    return (\n",
    "        \"You are a helpful AI assistant, collaborating with other assistants.\"\n",
    "        \" Use the provided tools to progress towards answering the question.\"\n",
    "        \" Do NOT answer based on your own knowledge or assumptions.\"\n",
    "        \" ONLY respond if the tool provides a valid and relevant result.\"\n",
    "        \" If the tool fails or returns nothing useful, say you cannot find the answer.\"\n",
    "        \" If you or any of the other assistants have the final answer or deliverable,\"\n",
    "        \" prefix your response with FINAL ANSWER so the team knows to stop.\"\n",
    "        f\"\\n{suffix}\"\n",
    "    )\n"
   ]
  },
  {
   "cell_type": "code",
   "execution_count": 31,
   "id": "afbffb1c",
   "metadata": {},
   "outputs": [],
   "source": [
    "from langgraph.prebuilt import create_react_agent\n",
    "from langchain.chat_models import init_chat_model\n",
    "\n",
    "model = init_chat_model(\"gpt-4o\", model_provider=\"openai\",api_key=os.environ.get(\"OPENAI_API_KEY\"))\n",
    "search = TavilySearchResults(max_results=2,include_domains = ['www.indianhealthyrecipes.com/'])\n",
    "tools = [search]\n",
    "\n",
    "agent_executor = create_react_agent(model, tools,\n",
    "                                    prompt=make_system_prompt(\n",
    "        \"You are only supposed to answer the query if the tool responds\"\n",
    "    ),)\n",
    "\n"
   ]
  },
  {
   "cell_type": "code",
   "execution_count": 35,
   "id": "a3cdd39d",
   "metadata": {},
   "outputs": [
    {
     "name": "stdout",
     "output_type": "stream",
     "text": [
      "The ingredients for a traditional palak paneer recipe include:\n",
      "\n",
      "1. Fresh spinach (Palak)\n",
      "2. Paneer (Indian cottage cheese)\n",
      "3. Onions\n",
      "4. Tomatoes\n",
      "5. Spices - Typically includes whole spices like cardamoms, cinnamon, cloves, and cumin seeds. Options to use garam masala powder.\n",
      "6. Ginger garlic paste\n",
      "7. Cream (optional for a restaurant touch)\n",
      "\n",
      "For detailed preparation steps, you can refer to the [recipe source](https://www.indianhealthyrecipes.com/palak-paneer-recipe-easy-paneer-recipes-step-by-step-pics/). \n",
      "\n",
      "FINAL ANSWER\n"
     ]
    }
   ],
   "source": [
    "from langchain_core.messages import HumanMessage\n",
    "\n",
    "response = agent_executor.invoke(\n",
    "    {\"messages\": [HumanMessage(content=\"what are the ingredients recipe for palak paneer\")]}\n",
    ")\n",
    "print(response[\"messages\"][-1].content)"
   ]
  },
  {
   "cell_type": "code",
   "execution_count": null,
   "id": "1e69d550",
   "metadata": {},
   "outputs": [],
   "source": []
  },
  {
   "cell_type": "code",
   "execution_count": null,
   "metadata": {},
   "outputs": [],
   "source": []
  },
  {
   "cell_type": "code",
   "execution_count": 8,
   "id": "143c404a",
   "metadata": {},
   "outputs": [
    {
     "name": "stdout",
     "output_type": "stream",
     "text": [
      "================================\u001b[1m Human Message \u001b[0m=================================\n",
      "\n",
      "what are the ingredients recipe for Stromboli\n",
      "==================================\u001b[1m Ai Message \u001b[0m==================================\n",
      "\n",
      "A basic Stromboli recipe typically includes the following ingredients:\n",
      "\n",
      "1. **Pizza Dough**: \n",
      "   - You can use homemade or store-bought pizza dough.\n",
      "\n",
      "2. **Thinly Sliced Meats**: \n",
      "   - Common choices include pepperoni, ham, salami, or other cured meats.\n",
      "\n",
      "3. **Cheese**:\n",
      "   - Mozzarella is most common, but you can also include provolone or Parmesan.\n",
      "\n",
      "4. **Vegetables (optional)**: \n",
      "   - Bell peppers, onions, mushrooms, or spinach can be added according to preference.\n",
      "\n",
      "5. **Sauce**:\n",
      "   - While traditional Stromboli doesn’t include sauce inside (the sauce is usually served on the side for dipping), you might include a thin layer of tomato sauce if you prefer.\n",
      "\n",
      "6. **Herbs and Spices**:\n",
      "   - Oregano, basil, garlic powder, or Italian seasoning for extra flavor.\n",
      "\n",
      "The preparation generally involves rolling out the pizza dough, layering the meats, cheese, and optional vegetables, then rolling the filled dough into a loaf. The Stromboli is baked until golden brown, and typically sliced before serving. Marinara sauce is commonly served on the side for dipping.\n"
     ]
    }
   ],
   "source": [
    "for step in agent_executor.stream(\n",
    "    {\"messages\": [HumanMessage(content=\n",
    "            \"\"\"what are the ingredients recipe for Stromboli\"\"\")]},\n",
    "    stream_mode=\"values\",\n",
    "):\n",
    "    step[\"messages\"][-1].pretty_print()\n",
    "\n"
   ]
  },
  {
   "cell_type": "code",
   "execution_count": 12,
   "id": "52806eb8",
   "metadata": {},
   "outputs": [
    {
     "name": "stdout",
     "output_type": "stream",
     "text": [
      "('Click', ' ', 'click')\n",
      "('Type', ' ', 'type_text')\n",
      "('Scroll', ' ', 'scroll')\n",
      "('Wait', ' ', 'wait')\n",
      "('GoBack', ' ', 'go_back')\n",
      "('Google', ' ', 'to_google')\n"
     ]
    }
   ],
   "source": [
    "tools = {\n",
    "    \"Click\": \"click\",\n",
    "    \"Type\": \"type_text\",\n",
    "    \"Scroll\": \"scroll\",\n",
    "    \"Wait\": \"wait\",\n",
    "    \"GoBack\": \"go_back\",\n",
    "    \"Google\": \"to_google\",\n",
    "}\n",
    "\n",
    "\n",
    "for node_name, tool in tools.items():\n",
    "      print(f\"{node_name,\" \",tool}\" )"
   ]
  },
  {
   "cell_type": "code",
   "execution_count": null,
   "id": "354fe6bf",
   "metadata": {},
   "outputs": [],
   "source": []
  }
 ],
 "metadata": {
  "kernelspec": {
   "display_name": "mcondaenv",
   "language": "python",
   "name": "python3"
  },
  "language_info": {
   "codemirror_mode": {
    "name": "ipython",
    "version": 3
   },
   "file_extension": ".py",
   "mimetype": "text/x-python",
   "name": "python",
   "nbconvert_exporter": "python",
   "pygments_lexer": "ipython3",
   "version": "3.12.4"
  }
 },
 "nbformat": 4,
 "nbformat_minor": 5
}
