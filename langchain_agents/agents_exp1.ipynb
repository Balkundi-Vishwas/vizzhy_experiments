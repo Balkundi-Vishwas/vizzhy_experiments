{
 "cells": [
  {
   "cell_type": "code",
   "execution_count": 1,
   "id": "4e56ac4e",
   "metadata": {},
   "outputs": [],
   "source": [
    "from openai import OpenAI\n",
    "import os\n",
    "from dotenv import load_dotenv\n",
    "load_dotenv()\n",
    "\n",
    "client = OpenAI( api_key=os.environ.get(\"OPENAI_API_KEY\"))"
   ]
  },
  {
   "cell_type": "code",
   "execution_count": 2,
   "id": "fcc00e37",
   "metadata": {},
   "outputs": [
    {
     "ename": "NameError",
     "evalue": "name 'getpass' is not defined",
     "output_type": "error",
     "traceback": [
      "\u001b[31m---------------------------------------------------------------------------\u001b[39m",
      "\u001b[31mNameError\u001b[39m                                 Traceback (most recent call last)",
      "\u001b[36mCell\u001b[39m\u001b[36m \u001b[39m\u001b[32mIn[2]\u001b[39m\u001b[32m, line 1\u001b[39m\n\u001b[32m----> \u001b[39m\u001b[32m1\u001b[39m os.environ[\u001b[33m\"\u001b[39m\u001b[33mTAVILY_API_KEY\u001b[39m\u001b[33m\"\u001b[39m] = \u001b[43mgetpass\u001b[49m.getpass()\n",
      "\u001b[31mNameError\u001b[39m: name 'getpass' is not defined"
     ]
    }
   ],
   "source": [
    "os.environ[\"TAVILY_API_KEY\"] = getpass.getpass()"
   ]
  },
  {
   "cell_type": "code",
   "execution_count": 3,
   "id": "cb35297c",
   "metadata": {},
   "outputs": [
    {
     "name": "stdout",
     "output_type": "stream",
     "text": [
      "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\n"
     ]
    }
   ],
   "source": [
    "load_dotenv()\n",
    "print(os.environ.get(\"TAVILY_API_KEY\"))"
   ]
  },
  {
   "cell_type": "code",
   "execution_count": 4,
   "id": "5bcf1878",
   "metadata": {},
   "outputs": [],
   "source": [
    "from langchain_community.tools.tavily_search import TavilySearchResults\n",
    "\n",
    "search = TavilySearchResults(max_results=2,api_key=os.environ.get(\"TAVILY_API_KEY\"),include_domains = ['www.healthyschoolrecipes.com'])\n",
    "search_results = search.invoke(\"what are the ingredients recipe for Stromboli\")"
   ]
  },
  {
   "cell_type": "code",
   "execution_count": 5,
   "id": "56f5954a",
   "metadata": {},
   "outputs": [
    {
     "data": {
      "text/plain": [
       "[{'title': 'Stromboli USDA',\n",
       "  'url': 'https://healthyschoolrecipes.com/recipes/stromboli-usda/',\n",
       "  'content': 'Ingredients ; Dried oregano, 1 teaspoon ; Dried marjoram, ¼ teaspoon ; Dried thyme, ¼ teaspoon ; Lite mozzarella cheese, sliced. (3 pounds, 2 ounces).',\n",
       "  'score': 0.79580134},\n",
       " {'title': 'Vegetable Stromboli USDA',\n",
       "  'url': 'https://healthyschoolrecipes.com/recipes/vegetable-stromboli-usda/',\n",
       "  'content': 'Ingredients ; Vegetable oil, 1/4 cup ; Salt, 1 teaspoon ; Sugar, 2 tablespoons ; Dried basil, 1 tablespoons 1/4 teaspoon ; Dried oregano, 1',\n",
       "  'score': 0.7636429}]"
      ]
     },
     "execution_count": 5,
     "metadata": {},
     "output_type": "execute_result"
    }
   ],
   "source": [
    "search_results"
   ]
  },
  {
   "cell_type": "code",
   "execution_count": 6,
   "id": "afbffb1c",
   "metadata": {},
   "outputs": [],
   "source": [
    "from langgraph.prebuilt import create_react_agent\n",
    "from langchain.chat_models import init_chat_model\n",
    "\n",
    "model = init_chat_model(\"gpt-4o\", model_provider=\"openai\",api_key=os.environ.get(\"OPENAI_API_KEY\"))\n",
    "search = TavilySearchResults(max_results=2,include_domains = ['www.healthyschoolrecipes.com'])\n",
    "tools = [search]\n",
    "\n",
    "agent_executor = create_react_agent(model, tools)\n",
    "\n"
   ]
  },
  {
   "cell_type": "code",
   "execution_count": 7,
   "id": "a3cdd39d",
   "metadata": {},
   "outputs": [
    {
     "data": {
      "text/plain": [
       "[HumanMessage(content='what are the ingredients recipe for Healthy Pasta with Spicy Crab', additional_kwargs={}, response_metadata={}, id='b3f7a5fb-713b-4d0a-9c0c-f0baa58973a6'),\n",
       " AIMessage(content=\"Here's a recipe for Healthy Pasta with Spicy Crab:\\n\\n### Ingredients:\\n- **Pasta**: Whole wheat spaghetti or linguine (as per serving size recommended)\\n- **Spicy Crab Mixture**:\\n  - 1 cup of fresh lump crab meat\\n  - 1-2 tablespoons of olive oil\\n  - 2 cloves garlic, minced\\n  - 1 red chili, thinly sliced (adjust according to spice preference)\\n  - 1 teaspoon of chili flakes (optional, for extra heat)\\n  - Zest and juice of 1 lemon\\n  - Salt and freshly ground black pepper to taste\\n  - 1/4 cup of white wine (optional)\\n- **Vegetables**: \\n  - 1 cup cherry tomatoes, halved\\n  - A handful of spinach or arugula\\n  - 1/4 cup of chopped herbs (such as parsley or basil)\\n- **Parmesan Cheese**: Grated, for topping (optional)\\n\\n### Instructions:\\n1. **Cook the Pasta**: \\n   - Cook the pasta in a large pot of boiling salted water until al dente (as per package instructions).\\n   - Reserve about 1 cup of pasta water and then drain the pasta.\\n\\n2. **Prepare the Spicy Crab**:\\n   - Heat olive oil in a large pan over medium heat.\\n   - Add garlic and red chili, sauté for about a minute until fragrant.\\n   - Add crab meat and sauté gently, ensuring not to break up the lumps of crab.\\n   - Add chili flakes (if using), lemon zest, and a squeeze of lemon juice.\\n   - Pour in the white wine (if using) and let it reduce slightly.\\n\\n3. **Combine Pasta and Vegetables**:\\n   - Add the cooked pasta and cherry tomatoes to the pan with the crab mixture.\\n   - Toss everything together, adding some reserved pasta water if needed to loosen the sauce.\\n   - Add spinach or arugula and let it wilt slightly in the heat of the pasta.\\n   - Season with salt and pepper.\\n\\n4. **Finish and Serve**:\\n   - Toss in the fresh herbs and adjust seasoning if necessary.\\n   - Serve the pasta topped with grated Parmesan cheese (if desired) and an extra drizzle of olive oil or a squeeze of lemon for added freshness. \\n\\nEnjoy your healthy and flavorful pasta dish!\", additional_kwargs={'refusal': None}, response_metadata={'token_usage': {'completion_tokens': 482, 'prompt_tokens': 91, 'total_tokens': 573, 'completion_tokens_details': {'accepted_prediction_tokens': 0, 'audio_tokens': 0, 'reasoning_tokens': 0, 'rejected_prediction_tokens': 0}, 'prompt_tokens_details': {'audio_tokens': 0, 'cached_tokens': 0}}, 'model_name': 'gpt-4o-2024-08-06', 'system_fingerprint': 'fp_a6889ffe71', 'id': 'chatcmpl-BScFK8t88MQv4Xh6d9eAbKnAOSspW', 'finish_reason': 'stop', 'logprobs': None}, id='run-7ab83f6d-fac1-4ab4-9fa6-da894dfaf859-0', usage_metadata={'input_tokens': 91, 'output_tokens': 482, 'total_tokens': 573, 'input_token_details': {'audio': 0, 'cache_read': 0}, 'output_token_details': {'audio': 0, 'reasoning': 0}})]"
      ]
     },
     "execution_count": 7,
     "metadata": {},
     "output_type": "execute_result"
    }
   ],
   "source": [
    "from langchain_core.messages import HumanMessage\n",
    "\n",
    "response = agent_executor.invoke(\n",
    "    {\"messages\": [HumanMessage(content=\"what are the ingredients recipe for Healthy Pasta with Spicy Crab\")]}\n",
    ")\n",
    "response[\"messages\"]"
   ]
  },
  {
   "cell_type": "code",
   "execution_count": 11,
   "id": "143c404a",
   "metadata": {},
   "outputs": [
    {
     "name": "stdout",
     "output_type": "stream",
     "text": [
      "================================\u001b[1m Human Message \u001b[0m=================================\n",
      "\n",
      "what are the ingredients recipe for Healthy Pasta with Spicy Crab\n",
      "            example:\n",
      "                 Ingredients:\n",
      "                    - Whole wheat spaghetti or pasta of your choice: 8 ounces\n",
      "                    - Olive oil**: 2 tablespoons\n",
      "                    - Garlic**: 3 cloves, minced\n",
      "                    - Red pepper flakes: 1 teaspoon (adjust to taste)\n",
      "                    - Cooked crab meat: 8 ounces (fresh or canned)\n",
      "                    - Cherry tomatoes: 1 cup, halved\n",
      "                    - Lemon juice: from 1 lemon\n",
      "                    - Lemon zest: from 1 lemon\n",
      "                    - Fresh parsley: 1/4 cup, chopped\n",
      "                    - Salt and black pepper: to taste\n",
      "                    - Arugula or spinach: 2 cups\n",
      "                    - Parmesan cheese (optional): for serving\n",
      "\n",
      "            **note - make sure the response are in the format of the provided example**\n",
      "            \n",
      "==================================\u001b[1m Ai Message \u001b[0m==================================\n",
      "Tool Calls:\n",
      "  tavily_search_results_json (call_wtTcHJF4cKpY1XQNSinh2f17)\n",
      " Call ID: call_wtTcHJF4cKpY1XQNSinh2f17\n",
      "  Args:\n",
      "    query: Healthy Pasta with Spicy Crab recipe ingredients\n",
      "=================================\u001b[1m Tool Message \u001b[0m=================================\n",
      "Name: tavily_search_results_json\n",
      "\n",
      "[{\"title\": \"Spaghetti and Meat Sauce USDA - Healthy School Recipes\", \"url\": \"https://healthyschoolrecipes.com/recipes/spaghetti-meat-sauce-usda/\", \"content\": \"Raw ground beef (8 pounds, 8 ounces) 8.5 pounds Fresh onions, chopped (or 1½ ounces dehydrated onions)\", \"score\": 0.20630214}, {\"title\": \"Pasta Salad USDA - Healthy School Recipes\", \"url\": \"https://healthyschoolrecipes.com/recipes/pasta-salad-usda/\", \"content\": \"Pour over pasta and vegetables. Toss lightly to combine and coat evenly. Spread 5 lb 1 oz (approximately 2 qt 1 1⁄3 cups) into each shallow pan (12\\\" x 20\\\" x 2 1⁄2\\\") to a product depth of 2\\\" or less.\", \"score\": 0.16918644}]\n",
      "==================================\u001b[1m Ai Message \u001b[0m==================================\n",
      "\n",
      "It seems I was unable to retrieve the ingredients for \"Healthy Pasta with Spicy Crab\" from the search. \n",
      "\n",
      "If you have other queries or need further assistance, feel free to ask!\n"
     ]
    }
   ],
   "source": [
    "for step in agent_executor.stream(\n",
    "    {\"messages\": [HumanMessage(content=\n",
    "            \"\"\"what are the ingredients recipe for Healthy Pasta with Spicy Crab\n",
    "            example:\n",
    "                 Ingredients:\n",
    "                    - Whole wheat spaghetti or pasta of your choice: 8 ounces\n",
    "                    - Olive oil**: 2 tablespoons\n",
    "                    - Garlic**: 3 cloves, minced\n",
    "                    - Red pepper flakes: 1 teaspoon (adjust to taste)\n",
    "                    - Cooked crab meat: 8 ounces (fresh or canned)\n",
    "                    - Cherry tomatoes: 1 cup, halved\n",
    "                    - Lemon juice: from 1 lemon\n",
    "                    - Lemon zest: from 1 lemon\n",
    "                    - Fresh parsley: 1/4 cup, chopped\n",
    "                    - Salt and black pepper: to taste\n",
    "                    - Arugula or spinach: 2 cups\n",
    "                    - Parmesan cheese (optional): for serving\n",
    "\n",
    "            **note - make sure the response are in the format of the provided example**\n",
    "            \"\"\")]},\n",
    "    stream_mode=\"values\",\n",
    "):\n",
    "    step[\"messages\"][-1].pretty_print()\n",
    "\n"
   ]
  },
  {
   "cell_type": "code",
   "execution_count": 12,
   "id": "52806eb8",
   "metadata": {},
   "outputs": [
    {
     "name": "stdout",
     "output_type": "stream",
     "text": [
      "('Click', ' ', 'click')\n",
      "('Type', ' ', 'type_text')\n",
      "('Scroll', ' ', 'scroll')\n",
      "('Wait', ' ', 'wait')\n",
      "('GoBack', ' ', 'go_back')\n",
      "('Google', ' ', 'to_google')\n"
     ]
    }
   ],
   "source": [
    "tools = {\n",
    "    \"Click\": \"click\",\n",
    "    \"Type\": \"type_text\",\n",
    "    \"Scroll\": \"scroll\",\n",
    "    \"Wait\": \"wait\",\n",
    "    \"GoBack\": \"go_back\",\n",
    "    \"Google\": \"to_google\",\n",
    "}\n",
    "\n",
    "\n",
    "for node_name, tool in tools.items():\n",
    "      print(f\"{node_name,\" \",tool}\" )"
   ]
  },
  {
   "cell_type": "code",
   "execution_count": null,
   "id": "354fe6bf",
   "metadata": {},
   "outputs": [],
   "source": []
  }
 ],
 "metadata": {
  "kernelspec": {
   "display_name": "mcondaenv",
   "language": "python",
   "name": "python3"
  },
  "language_info": {
   "codemirror_mode": {
    "name": "ipython",
    "version": 3
   },
   "file_extension": ".py",
   "mimetype": "text/x-python",
   "name": "python",
   "nbconvert_exporter": "python",
   "pygments_lexer": "ipython3",
   "version": "3.12.4"
  }
 },
 "nbformat": 4,
 "nbformat_minor": 5
}
