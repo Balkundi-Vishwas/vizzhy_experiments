{
 "cells": [
  {
   "cell_type": "code",
   "execution_count": 1,
   "id": "4e56ac4e",
   "metadata": {},
   "outputs": [],
   "source": [
    "from openai import OpenAI\n",
    "import os\n",
    "from dotenv import load_dotenv\n",
    "load_dotenv()\n",
    "\n",
    "client = OpenAI( api_key=os.environ.get(\"OPENAI_API_KEY\"))"
   ]
  },
  {
   "cell_type": "code",
   "execution_count": null,
   "id": "fcc00e37",
   "metadata": {},
   "outputs": [],
   "source": [
    "os.environ[\"TAVILY_API_KEY\"] = getpass.getpass()"
   ]
  },
  {
   "cell_type": "code",
   "execution_count": 7,
   "id": "cb35297c",
   "metadata": {},
   "outputs": [
    {
     "name": "stdout",
     "output_type": "stream",
     "text": [
      "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\n"
     ]
    }
   ],
   "source": [
    "load_dotenv()\n",
    "print(os.environ.get(\"TAVILY_API_KEY\"))"
   ]
  },
  {
   "cell_type": "code",
   "execution_count": null,
   "id": "5bcf1878",
   "metadata": {},
   "outputs": [],
   "source": [
    "from langchain_community.tools.tavily_search import TavilySearchResults\n",
    "\n",
    "search = TavilySearchResults(max_results=2,api_key=os.environ.get(\"TAVILY_API_KEY\"),include_domains = ['www.healthyschoolrecipes.com'])\n",
    "search_results = search.invoke(\"what are the ingredients recipe for Stromboli\")"
   ]
  },
  {
   "cell_type": "code",
   "execution_count": null,
   "id": "56f5954a",
   "metadata": {},
   "outputs": [
    {
     "data": {
      "text/plain": [
       "[]"
      ]
     },
     "execution_count": 33,
     "metadata": {},
     "output_type": "execute_result"
    },
    {
     "ename": "",
     "evalue": "",
     "output_type": "error",
     "traceback": [
      "\u001b[1;31mThe Kernel crashed while executing code in the current cell or a previous cell. \n",
      "\u001b[1;31mPlease review the code in the cell(s) to identify a possible cause of the failure. \n",
      "\u001b[1;31mClick <a href='https://aka.ms/vscodeJupyterKernelCrash'>here</a> for more info. \n",
      "\u001b[1;31mView Jupyter <a href='command:jupyter.viewOutput'>log</a> for further details."
     ]
    }
   ],
   "source": [
    "search_results"
   ]
  },
  {
   "cell_type": "code",
   "execution_count": 20,
   "id": "afbffb1c",
   "metadata": {},
   "outputs": [],
   "source": [
    "from langgraph.prebuilt import create_react_agent\n",
    "from langchain.chat_models import init_chat_model\n",
    "\n",
    "model = init_chat_model(\"gpt-4o\", model_provider=\"openai\",api_key=os.environ.get(\"OPENAI_API_KEY\"))\n",
    "search = TavilySearchResults(max_results=2)\n",
    "tools = [search]\n",
    "\n",
    "agent_executor = create_react_agent(model, tools)\n",
    "\n"
   ]
  },
  {
   "cell_type": "code",
   "execution_count": 22,
   "id": "a3cdd39d",
   "metadata": {},
   "outputs": [
    {
     "data": {
      "text/plain": [
       "[HumanMessage(content='what are the ingredients recipe for Healthy Pasta with Spicy Crab', additional_kwargs={}, response_metadata={}, id='61a3593e-0698-4890-a262-12e75c1fa574'),\n",
       " AIMessage(content=\"Here's a recipe for Healthy Pasta with Spicy Crab:\\n\\n### Ingredients:\\n\\n- **Pasta:**\\n  - 8 oz (about 225g) whole wheat spaghetti or your choice of healthy pasta\\n\\n- **Crab:**\\n  - 8 oz (about 225g) fresh or canned crab meat, picked over for shells\\n\\n- **Vegetables:**\\n  - 1 cup cherry tomatoes, halved\\n  - 1 cup baby spinach leaves\\n  - 1 small zucchini, spiralized or thinly sliced\\n  - 2 cloves garlic, minced\\n  - 1 small onion, finely chopped\\n  - 1 red bell pepper, sliced\\n\\n- **Spices and Seasonings:**\\n  - 1 teaspoon red pepper flakes (adjust to taste for spiciness)\\n  - Salt and black pepper to taste\\n  - 1 tablespoon lemon juice\\n  - Zest of 1 lemon\\n\\n- **Liquids and Fats:**\\n  - 2 tablespoons olive oil\\n  - 1/4 cup white wine or vegetable broth\\n\\n- **Herbs:**\\n  - 2 tablespoons fresh parsley, chopped\\n\\n### Instructions:\\n\\n1. **Cook Pasta:** Cook the pasta according to package instructions until al dente. Reserve 1 cup of the cooking water, then drain the pasta.\\n\\n2. **Prepare the Sauce:**\\n   - In a large pan, heat olive oil over medium heat.\\n   - Sauté the onion and garlic until translucent.\\n   - Add the red pepper flakes and sliced bell pepper. Cook for a few more minutes.\\n   - Pour in the white wine or vegetable broth, and let it simmer until slightly reduced.\\n\\n3. **Cook Vegetables & Crab:**\\n   - Add cherry tomatoes and zucchini. Cook just until the tomatoes start to soften.\\n   - Stir in the crab meat, lemon juice, and lemon zest, and mix until heated through.\\n\\n4. **Combine Pasta and Sauce:**\\n   - Add the cooked pasta and spinach to the pan. Toss to combine and wilt the spinach.\\n   - If the pasta seems dry, add a bit of the reserved pasta water.\\n\\n5. **Season and Serve:**\\n   - Season with salt and black pepper to taste.\\n   - Garnish with fresh parsley before serving.\\n\\nThis recipe combines the sweetness of crab with the acidity of tomatoes and the warmth of spicy red pepper flakes for a delightful and healthy pasta dish. Enjoy your meal!\", additional_kwargs={'refusal': None}, response_metadata={'token_usage': {'completion_tokens': 499, 'prompt_tokens': 91, 'total_tokens': 590, 'completion_tokens_details': {'accepted_prediction_tokens': 0, 'audio_tokens': 0, 'reasoning_tokens': 0, 'rejected_prediction_tokens': 0}, 'prompt_tokens_details': {'audio_tokens': 0, 'cached_tokens': 0}}, 'model_name': 'gpt-4o-2024-08-06', 'system_fingerprint': 'fp_a6889ffe71', 'id': 'chatcmpl-BPjaI7HMUTD3fOaApjAARJYvRaHxI', 'finish_reason': 'stop', 'logprobs': None}, id='run-4e5498b9-3475-4a5a-a53e-1656953c0a48-0', usage_metadata={'input_tokens': 91, 'output_tokens': 499, 'total_tokens': 590, 'input_token_details': {'audio': 0, 'cache_read': 0}, 'output_token_details': {'audio': 0, 'reasoning': 0}})]"
      ]
     },
     "execution_count": 22,
     "metadata": {},
     "output_type": "execute_result"
    }
   ],
   "source": [
    "from langchain_core.messages import HumanMessage\n",
    "\n",
    "response = agent_executor.invoke(\n",
    "    {\"messages\": [HumanMessage(content=\"what are the ingredients recipe for Healthy Pasta with Spicy Crab\")]}\n",
    ")\n",
    "response[\"messages\"]"
   ]
  },
  {
   "cell_type": "code",
   "execution_count": 23,
   "id": "143c404a",
   "metadata": {},
   "outputs": [
    {
     "name": "stdout",
     "output_type": "stream",
     "text": [
      "================================\u001b[1m Human Message \u001b[0m=================================\n",
      "\n",
      "what are the ingredients recipe for Healthy Pasta with Spicy Crab\n",
      "==================================\u001b[1m Ai Message \u001b[0m==================================\n",
      "\n",
      "Here is a recipe for Healthy Pasta with Spicy Crab:\n",
      "\n",
      "### Ingredients:\n",
      "\n",
      "- 8 ounces whole-grain or whole-wheat pasta (such as spaghetti or linguine)\n",
      "- 2 tablespoons olive oil\n",
      "- 3 cloves garlic, minced\n",
      "- 1/4 teaspoon red pepper flakes (adjust to taste for spiciness)\n",
      "- 8 ounces lump crab meat (fresh or canned, drained)\n",
      "- 1 cup cherry tomatoes, halved\n",
      "- 2 cups baby spinach or arugula\n",
      "- Zest of 1 lemon\n",
      "- Juice of 1 lemon\n",
      "- Salt and pepper, to taste\n",
      "- Fresh basil or parsley, for garnish\n",
      "- Grated Parmesan cheese, optional\n",
      "\n",
      "### Instructions:\n",
      "\n",
      "1. **Cook the Pasta:**\n",
      "   - Cook the pasta according to the package instructions until al dente. Drain and set aside, reserving 1/2 cup of the pasta cooking water.\n",
      "\n",
      "2. **Sauté Garlic and Red Pepper:**\n",
      "   - In a large skillet, heat olive oil over medium heat.\n",
      "   - Add the minced garlic and red pepper flakes, and sauté for 1-2 minutes, until the garlic is fragrant.\n",
      "\n",
      "3. **Add Crab Meat and Tomatoes:**\n",
      "   - Add the crab meat to the skillet and cook for 2-3 minutes, stirring gently to heat through.\n",
      "   - Add the cherry tomatoes to the skillet and cook until they start to soften, about 2 minutes.\n",
      "\n",
      "4. **Combine with Pasta:**\n",
      "   - Add the cooked pasta to the skillet, along with the lemon zest, lemon juice, and reserved pasta water. Mix well to combine.\n",
      "\n",
      "5. **Add Greens:**\n",
      "   - Stir in the baby spinach or arugula, allowing it to wilt slightly.\n",
      "\n",
      "6. **Season and Serve:**\n",
      "   - Season with salt and pepper to taste.\n",
      "   - Serve the pasta hot, garnished with fresh basil or parsley and grated Parmesan cheese if desired.\n",
      "\n",
      "This dish is not only flavorful but also packed with nutrients, making it a healthy and satisfying meal option. Adjust the spiciness by varying the amount of red pepper flakes according to your preference. Enjoy!\n"
     ]
    }
   ],
   "source": [
    "for step in agent_executor.stream(\n",
    "    {\"messages\": [HumanMessage(content=\"what are the ingredients recipe for Healthy Pasta with Spicy Crab\")]},\n",
    "    stream_mode=\"values\",\n",
    "):\n",
    "    step[\"messages\"][-1].pretty_print()"
   ]
  },
  {
   "cell_type": "code",
   "execution_count": null,
   "id": "52806eb8",
   "metadata": {},
   "outputs": [],
   "source": []
  }
 ],
 "metadata": {
  "kernelspec": {
   "display_name": "mcondaenv",
   "language": "python",
   "name": "python3"
  },
  "language_info": {
   "codemirror_mode": {
    "name": "ipython",
    "version": 3
   },
   "file_extension": ".py",
   "mimetype": "text/x-python",
   "name": "python",
   "nbconvert_exporter": "python",
   "pygments_lexer": "ipython3",
   "version": "3.12.4"
  }
 },
 "nbformat": 4,
 "nbformat_minor": 5
}
