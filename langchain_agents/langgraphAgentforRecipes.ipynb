{
 "cells": [
  {
   "cell_type": "code",
   "execution_count": 1,
   "id": "fe7555fb",
   "metadata": {},
   "outputs": [],
   "source": [
    "from typing import Annotated\n",
    "\n",
    "from langchain_community.tools.tavily_search import TavilySearchResults\n",
    "from langchain_core.tools import tool\n",
    "# from langchain_experimental.utilities import PythonREPL\n",
    "from typing import Literal\n",
    "from typing_extensions import TypedDict\n",
    "from openai import AzureOpenAI\n",
    "# from langchain_anthropic import ChatAnthropic\n",
    "from langgraph.graph import MessagesState, END\n",
    "from langgraph.types import Command\n",
    "\n"
   ]
  },
  {
   "cell_type": "code",
   "execution_count": 68,
   "id": "75eb47f9",
   "metadata": {},
   "outputs": [],
   "source": [
    "members = [\"researcher\",\"coder\"]\n",
    "# Our team supervisor is an LLM node. It just picks the next agent to process\n",
    "# and decides when the work is completed\n",
    "options = members + [\"FINISH\"]\n",
    "\n",
    "system_prompt = (\n",
    "    \"You are a supervisor tasked with managing a conversation between the\"\n",
    "    f\" following workers: {members}. Given the following user request,\"\n",
    "    \" respond with the worker to act next. Each worker will perform a\"\n",
    "    \" task and respond with their results and status. When finished,\"\n",
    "    \" respond with FINISH.\"\n",
    ")\n",
    "\n",
    "class Router(TypedDict):\n",
    "    \"\"\"Worker to route to next. If no workers needed, route to FINISH.\"\"\"\n",
    "\n",
    "    next: Literal[*options]\n",
    "\n",
    "\n",
    "# llm = ChatAnthropic(model=\"claude-3-5-sonnet-latest\")\n",
    "# llm = AzureOpenAI(\n",
    "#         azure_endpoint=\"https://oai-tss-sweden.openai.azure.com/\",\n",
    "#         api_version=\"2024-02-01\",\n",
    "#         api_key=\"f0c2aee69c914b35aa55732deb3532be\"\n",
    "#         )\n",
    "class State(MessagesState):\n",
    "    next: str\n",
    "\n",
    "def supervisor_node(state: State) -> Command[Literal[*members, \"__end__\"]]:\n",
    "    messages = [\n",
    "        {\"role\": \"system\", \"content\": system_prompt},\n",
    "    ] + state[\"messages\"]\n",
    "    response = llm.with_structured_output(Router).invoke(messages)\n",
    "    goto = response[\"next\"]\n",
    "    if goto == \"FINISH\":\n",
    "        goto = END\n",
    "\n",
    "    return Command(goto=goto, update={\"next\": goto})"
   ]
  },
  {
   "cell_type": "code",
   "execution_count": 69,
   "id": "73a6a142",
   "metadata": {},
   "outputs": [],
   "source": [
    "from langchain_core.messages import HumanMessage\n",
    "from langchain_openai import AzureChatOpenAI\n",
    "from langgraph.graph import StateGraph, START, END\n",
    "from langgraph.prebuilt import create_react_agent\n",
    "import os\n",
    "\n",
    "tavily_tool = TavilySearchResults(max_results=1,api_key=os.environ.get(\"TAVILY_API_KEY\"),include_domains = ['www.healthyschoolrecipes.com'])\n",
    "llm = AzureChatOpenAI(\n",
    "    azure_deployment=\"gpt-4o-mini\",\n",
    "    api_version=\"2024-08-01-preview\",  \n",
    "    temperature=0,\n",
    "    max_tokens=None,\n",
    "    timeout=None,\n",
    "    max_retries=2,\n",
    "    azure_endpoint=\"https://oai-tss-sweden.openai.azure.com/\",\n",
    "    api_key=\"f0c2aee69c914b35aa55732deb3532be\"\n",
    ")\n",
    "research_agent = create_react_agent(\n",
    "    llm, tools=[tavily_tool], prompt=\"You are a expert in getting the ingredients for the respective recipe. DO NOT do any math.\"\n",
    ")\n"
   ]
  },
  {
   "cell_type": "code",
   "execution_count": 70,
   "id": "677717fb",
   "metadata": {},
   "outputs": [],
   "source": [
    "def research_node(state: State) -> Command[Literal[\"supervisor\"]]:\n",
    "    result = research_agent.invoke(state)\n",
    "    return Command(\n",
    "        update={\n",
    "            \"messages\": [\n",
    "                HumanMessage(content=result[\"messages\"][-1].content, name=\"researcher\")\n",
    "            ]\n",
    "        },\n",
    "        goto=\"supervisor\",\n",
    "    )\n",
    "\n",
    "code_agent = create_react_agent(llm,tools=[])\n",
    "\n",
    "def code_node(state: State) -> Command[Literal[\"supervisor\"]]:\n",
    "    result = code_agent.invoke(state)\n",
    "    return Command(\n",
    "        update={\n",
    "            \"messages\": [\n",
    "                HumanMessage(content=result[\"messages\"][-1].content, name=\"coder\")\n",
    "            ]\n",
    "        },\n",
    "        goto=\"supervisor\",\n",
    "    )"
   ]
  },
  {
   "cell_type": "code",
   "execution_count": 71,
   "id": "9267ec26",
   "metadata": {},
   "outputs": [],
   "source": [
    "builder = StateGraph(State)\n",
    "builder.add_edge(START, \"supervisor\")\n",
    "builder.add_node(\"supervisor\", supervisor_node)\n",
    "builder.add_node(\"researcher\", research_node)\n",
    "\n",
    "# builder.add_edge(\"supervisor\",\"researcher\")\n",
    "builder.add_node(\"coder\", code_node)\n",
    "graph = builder.compile()"
   ]
  },
  {
   "cell_type": "code",
   "execution_count": 72,
   "id": "0c5e0df6",
   "metadata": {},
   "outputs": [
    {
     "data": {
      "image/png": "[encoded data removed]",
      "text/plain": [
       "<IPython.core.display.Image object>"
      ]
     },
     "metadata": {},
     "output_type": "display_data"
    }
   ],
   "source": [
    "from IPython.display import display, Image\n",
    "\n",
    "display(Image(graph.get_graph().draw_mermaid_png()))"
   ]
  },
  {
   "cell_type": "code",
   "execution_count": 51,
   "id": "a868bd6c",
   "metadata": {},
   "outputs": [
    {
     "name": "stdout",
     "output_type": "stream",
     "text": [
      "State transition: ((), {'supervisor': {'next': 'researcher'}})\n",
      "----\n",
      "State transition: (('researcher:b2e61480-7930-d4c5-4774-e6d27aa9ffe1',), {'agent': {'messages': [AIMessage(content='', additional_kwargs={'tool_calls': [{'id': 'call_RsOgcSsXjggGol95PWAzBfl3', 'function': {'arguments': '{\"query\":\"Stromboli recipe ingredients\"}', 'name': 'tavily_search_results_json'}, 'type': 'function'}], 'refusal': None}, response_metadata={'token_usage': {'completion_tokens': 24, 'prompt_tokens': 107, 'total_tokens': 131, 'completion_tokens_details': {'accepted_prediction_tokens': 0, 'audio_tokens': 0, 'reasoning_tokens': 0, 'rejected_prediction_tokens': 0}, 'prompt_tokens_details': {'audio_tokens': 0, 'cached_tokens': 0}}, 'model_name': 'gpt-4o-mini-2024-07-18', 'system_fingerprint': 'fp_ded0d14823', 'id': 'chatcmpl-BQAZMTABa23eOmanBuxnc3VqI04Wq', 'prompt_filter_results': [{'prompt_index': 0, 'content_filter_results': {'hate': {'filtered': False, 'severity': 'safe'}, 'jailbreak': {'filtered': False, 'detected': False}, 'self_harm': {'filtered': False, 'severity': 'safe'}, 'sexual': {'filtered': False, 'severity': 'safe'}, 'violence': {'filtered': False, 'severity': 'safe'}}}], 'finish_reason': 'tool_calls', 'logprobs': None, 'content_filter_results': {}}, id='run-c409cfbb-37a8-4ad1-bef0-8d214f7a4b06-0', tool_calls=[{'name': 'tavily_search_results_json', 'args': {'query': 'Stromboli recipe ingredients'}, 'id': 'call_RsOgcSsXjggGol95PWAzBfl3', 'type': 'tool_call'}], usage_metadata={'input_tokens': 107, 'output_tokens': 24, 'total_tokens': 131, 'input_token_details': {'audio': 0, 'cache_read': 0}, 'output_token_details': {'audio': 0, 'reasoning': 0}})]}})\n",
      "----\n",
      "State transition: (('researcher:b2e61480-7930-d4c5-4774-e6d27aa9ffe1',), {'tools': {'messages': [ToolMessage(content='[{\"title\": \"Vegetable Stromboli USDA\", \"url\": \"https://healthyschoolrecipes.com/recipes/vegetable-stromboli-usda/\", \"content\": \"Ingredients ; Water, warm, 3 cups ; Enriched all-purpose flour, 2 pounds 10 ounces ; Vegetable oil, 1/4 cup ; Salt, 1 teaspoon ; Sugar, 2 tablespoons.\", \"score\": 0.86981434}]', name='tavily_search_results_json', id='418cde68-9b53-452e-89c5-6ef1e50e7e26', tool_call_id='call_RsOgcSsXjggGol95PWAzBfl3', artifact={'query': 'Stromboli recipe ingredients', 'follow_up_questions': None, 'answer': None, 'images': [], 'results': [{'url': 'https://healthyschoolrecipes.com/recipes/vegetable-stromboli-usda/', 'title': 'Vegetable Stromboli USDA', 'content': 'Ingredients ; Water, warm, 3 cups ; Enriched all-purpose flour, 2 pounds 10 ounces ; Vegetable oil, 1/4 cup ; Salt, 1 teaspoon ; Sugar, 2 tablespoons.', 'score': 0.86981434, 'raw_content': None}], 'response_time': 0.5})]}})\n",
      "----\n",
      "State transition: (('researcher:b2e61480-7930-d4c5-4774-e6d27aa9ffe1',), {'agent': {'messages': [AIMessage(content='The ingredients for a Vegetable Stromboli include:\\n\\n- 3 cups warm water\\n- 2 pounds 10 ounces enriched all-purpose flour\\n- 1/4 cup vegetable oil\\n- 1 teaspoon salt\\n- 2 tablespoons sugar\\n\\nFor a more traditional Stromboli, you might also consider adding fillings such as meats (like pepperoni or salami), cheeses (like mozzarella or provolone), and vegetables.', additional_kwargs={'refusal': None}, response_metadata={'token_usage': {'completion_tokens': 88, 'prompt_tokens': 235, 'total_tokens': 323, 'completion_tokens_details': {'accepted_prediction_tokens': 0, 'audio_tokens': 0, 'reasoning_tokens': 0, 'rejected_prediction_tokens': 0}, 'prompt_tokens_details': {'audio_tokens': 0, 'cached_tokens': 0}}, 'model_name': 'gpt-4o-mini-2024-07-18', 'system_fingerprint': 'fp_ded0d14823', 'id': 'chatcmpl-BQAZOdoPsFizylRw6IZrnIiI8XfIH', 'prompt_filter_results': [{'prompt_index': 0, 'content_filter_results': {'hate': {'filtered': False, 'severity': 'safe'}, 'jailbreak': {'filtered': False, 'detected': False}, 'self_harm': {'filtered': False, 'severity': 'safe'}, 'sexual': {'filtered': False, 'severity': 'safe'}, 'violence': {'filtered': False, 'severity': 'safe'}}}], 'finish_reason': 'stop', 'logprobs': None, 'content_filter_results': {'hate': {'filtered': False, 'severity': 'safe'}, 'protected_material_code': {'filtered': False, 'detected': False}, 'protected_material_text': {'filtered': False, 'detected': False}, 'self_harm': {'filtered': False, 'severity': 'safe'}, 'sexual': {'filtered': False, 'severity': 'safe'}, 'violence': {'filtered': False, 'severity': 'safe'}}}, id='run-2fecd52a-e19d-4033-976b-d02a96f229a2-0', usage_metadata={'input_tokens': 235, 'output_tokens': 88, 'total_tokens': 323, 'input_token_details': {'audio': 0, 'cache_read': 0}, 'output_token_details': {'audio': 0, 'reasoning': 0}})]}})\n",
      "----\n",
      "State transition: ((), {'researcher': {'messages': [HumanMessage(content='The ingredients for a Vegetable Stromboli include:\\n\\n- 3 cups warm water\\n- 2 pounds 10 ounces enriched all-purpose flour\\n- 1/4 cup vegetable oil\\n- 1 teaspoon salt\\n- 2 tablespoons sugar\\n\\nFor a more traditional Stromboli, you might also consider adding fillings such as meats (like pepperoni or salami), cheeses (like mozzarella or provolone), and vegetables.', additional_kwargs={}, response_metadata={}, name='researcher')]}})\n",
      "----\n",
      "State transition: ((), {'supervisor': {'next': '__end__'}})\n",
      "----\n"
     ]
    }
   ],
   "source": [
    "for s in graph.stream({\"messages\": [(\"user\", \"what are the ingredients recipe for Stromboli\")]}, subgraphs=True):\n",
    "    # Extract just the meaningful parts from each state\n",
    "    if \"agent\" in s and \"messages\" in s[\"agent\"]:\n",
    "        print(f\"Agent message: {s['agent']['messages'][-1].content}\")\n",
    "    elif \"tools\" in s:\n",
    "        print(f\"Tool result: {s['tools']['messages'][-1].content}\")\n",
    "    elif \"researcher\" in s and \"messages\" in s[\"researcher\"]:\n",
    "        print(f\"Researcher: {s['researcher']['messages'][-1].content}\")\n",
    "    else:\n",
    "        print(\"State transition:\", s)\n",
    "    print(\"----\")"
   ]
  },
  {
   "cell_type": "code",
   "execution_count": 53,
   "id": "14454fa1",
   "metadata": {},
   "outputs": [
    {
     "name": "stdout",
     "output_type": "stream",
     "text": [
      "I couldn't find specific information on the ingredients for a \"Healthy Pasta with Spicy Crab\" recipe. However, a typical recipe might include the following ingredients:\n",
      "\n",
      "- Whole wheat pasta or gluten-free pasta\n",
      "- Fresh crab meat (or canned crab)\n",
      "- Olive oil\n",
      "- Garlic (minced)\n",
      "- Red pepper flakes (for spice)\n",
      "- Cherry tomatoes (halved)\n",
      "- Spinach or arugula\n",
      "- Lemon juice\n",
      "- Fresh herbs (like parsley or basil)\n",
      "- Salt and pepper to taste\n",
      "\n",
      "You may want to check a reliable cooking website or cookbook for a detailed recipe.\n"
     ]
    }
   ],
   "source": [
    "final_response = None\n",
    "for s in graph.stream({\"messages\": [(\"user\", \"what are the ingredients recipe for Healthy Pasta with Spicy Crab\")]}, subgraphs=True):\n",
    "    if \"researcher\" in s[1] and \"messages\" in s[1][\"researcher\"]:\n",
    "        final_response = s[1][\"researcher\"][\"messages\"][-1].content\n",
    "    elif \"coder\" in s[1] and \"messages\" in s[1][\"coder\"]:\n",
    "        final_response = s[1][\"coder\"][\"messages\"][-1].content\n",
    "    # else:\n",
    "    #     print(s)\n",
    "\n",
    "\n",
    "print(final_response)\n"
   ]
  },
  {
   "cell_type": "code",
   "execution_count": 30,
   "id": "5e261e56",
   "metadata": {},
   "outputs": [],
   "source": [
    "st=((), {'coder': {'messages': [HumanMessage(content='The term \"4 square\" can refer to a couple of different concepts depending on the context:\\n\\n1. **Mathematics**: If you\\'re referring to the mathematical operation, \"4 squared\" means \\\\(4^2\\\\), which equals \\\\(16\\\\).\\n\\n2. **Game**: \"Four square\" is also a playground game played with a ball and four players, where players bounce a ball between squares drawn on the ground.\\n\\nIf you meant something else by \"4 square,\" please provide more context!', additional_kwargs={}, response_metadata={}, name='coder')]}})\n"
   ]
  },
  {
   "cell_type": "code",
   "execution_count": 35,
   "id": "6c4cb6a1",
   "metadata": {},
   "outputs": [
    {
     "name": "stdout",
     "output_type": "stream",
     "text": [
      "True\n"
     ]
    }
   ],
   "source": [
    "if \"messages\" in st[1]['coder']:\n",
    "      print(\"True\")"
   ]
  },
  {
   "cell_type": "code",
   "execution_count": 32,
   "id": "b8c7c6b2",
   "metadata": {},
   "outputs": [
    {
     "data": {
      "text/plain": [
       "((),\n",
       " {'coder': {'messages': [HumanMessage(content='The term \"4 square\" can refer to a couple of different concepts depending on the context:\\n\\n1. **Mathematics**: If you\\'re referring to the mathematical operation, \"4 squared\" means \\\\(4^2\\\\), which equals \\\\(16\\\\).\\n\\n2. **Game**: \"Four square\" is also a playground game played with a ball and four players, where players bounce a ball between squares drawn on the ground.\\n\\nIf you meant something else by \"4 square,\" please provide more context!', additional_kwargs={}, response_metadata={}, name='coder')]}})"
      ]
     },
     "execution_count": 32,
     "metadata": {},
     "output_type": "execute_result"
    }
   ],
   "source": [
    "st"
   ]
  },
  {
   "cell_type": "code",
   "execution_count": null,
   "id": "a9d9fe92",
   "metadata": {},
   "outputs": [],
   "source": []
  }
 ],
 "metadata": {
  "kernelspec": {
   "display_name": "mcondaenv",
   "language": "python",
   "name": "python3"
  },
  "language_info": {
   "codemirror_mode": {
    "name": "ipython",
    "version": 3
   },
   "file_extension": ".py",
   "mimetype": "text/x-python",
   "name": "python",
   "nbconvert_exporter": "python",
   "pygments_lexer": "ipython3",
   "version": "3.12.4"
  }
 },
 "nbformat": 4,
 "nbformat_minor": 5
}
