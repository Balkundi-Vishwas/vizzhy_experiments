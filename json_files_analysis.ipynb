{
 "cells": [
  {
   "cell_type": "code",
   "execution_count": null,
   "id": "925a005e",
   "metadata": {},
   "outputs": [],
   "source": [
    "import json\n",
    "\n",
    "with open(r\"C:\\Users\\Vishwas\\Downloads\\Vishnu Sir json\\Vishnu Sir json\\tbl_customer_health_vitals_data_202503101923.json\", 'r') as file:\n",
    "    data = json.load(file)"
   ]
  },
  {
   "cell_type": "code",
   "execution_count": 7,
   "id": "16b15f93",
   "metadata": {},
   "outputs": [
    {
     "data": {
      "text/plain": [
       "{\"select * from tbl_customer_health_vitals_data where customer_id='261cb253-f11a-461c-9dc0-b608549c4454'\": [{'id': 'cde84d1a-bc06-4496-8323-b5c3b5ea05d7',\n",
       "   'customer_id': '261cb253-f11a-461c-9dc0-b608549c4454',\n",
       "   'spo2_unit': '%',\n",
       "   'spo2_value': 98,\n",
       "   'heart_rate_unit': 'bpm',\n",
       "   'heart_rate_value': 63,\n",
       "   'body_temperature_unit': '°f',\n",
       "   'bodytemperature_value': 97,\n",
       "   'blood_pressure_low_unit': 'bp',\n",
       "   'blood_pressure_low_value': 110,\n",
       "   'blood_pressure_high_unit': 'bp',\n",
       "   'blood_pressure_high_value': 70,\n",
       "   'height_unit': 'cm',\n",
       "   'height_value': 185,\n",
       "   'weight_unit': 'kg',\n",
       "   'weight_value': 75,\n",
       "   'waist_circumference_unit': 'cm',\n",
       "   'waist_circumference_value': 73,\n",
       "   'hip_circumference_unit': 'cm',\n",
       "   'hip_circumference_value': 81,\n",
       "   'glucometer_unit': 'mg/dl',\n",
       "   'glucometer_value': 73,\n",
       "   'viscal_fat_unit': '%',\n",
       "   'viscal_fat_value': 4.8,\n",
       "   'fat_unit': '%',\n",
       "   'fat_value': 24,\n",
       "   'water_unit': '%',\n",
       "   'water_value': 56,\n",
       "   'resting_colories_unit': 'kcal',\n",
       "   'resting_colories_value': 1523,\n",
       "   'metabolic_age_unit': 'years',\n",
       "   'metabolic_age_value': 40,\n",
       "   'subcutaneous_fat_unit': '%',\n",
       "   'subcutaneous_fat_value': 16,\n",
       "   'muscle_mass_unit': '%',\n",
       "   'muscle_mass_value': 35,\n",
       "   'calulations_bmi': '21.91 kg/m²',\n",
       "   'calulations_bmr': '1725.49 calories/day',\n",
       "   'calulations_whr': 0.9,\n",
       "   'health_vitals_recorded_at': '2025-01-24T11:40:56.717Z',\n",
       "   'created_at': '2025-01-24T16:41:55.638Z',\n",
       "   'updated_at': '2025-01-24T16:41:55.638Z'}]}"
      ]
     },
     "execution_count": 7,
     "metadata": {},
     "output_type": "execute_result"
    }
   ],
   "source": [
    "data"
   ]
  },
  {
   "cell_type": "code",
   "execution_count": 17,
   "id": "d0d656e9",
   "metadata": {},
   "outputs": [],
   "source": [
    "data = data[\"select * from tbl_customer_health_vitals_data where customer_id='261cb253-f11a-461c-9dc0-b608549c4454'\"][0]"
   ]
  },
  {
   "cell_type": "code",
   "execution_count": 34,
   "id": "89f39f03",
   "metadata": {},
   "outputs": [
    {
     "name": "stdout",
     "output_type": "stream",
     "text": [
      "Spo2: 98 %\n",
      "Heart rate: 63 bpm\n",
      "Blood pressure low: 110 bp\n",
      "Blood pressure high: 70 bp\n",
      "Height: 185 cm\n",
      "Weight: 75 kg\n",
      "Waist circumference: 73 cm\n",
      "Hip circumference: 81 cm\n",
      "Glucometer: 73 mg/dl\n",
      "Viscal fat: 4.8 %\n",
      "Fat: 24 %\n",
      "Water: 56 %\n",
      "Resting colories: 1523 kcal\n",
      "Metabolic age: 40 years\n",
      "Subcutaneous fat: 16 %\n",
      "Muscle mass: 35 %\n"
     ]
    }
   ],
   "source": [
    "combined_metrics = {}\n",
    "\n",
    "for key in data:\n",
    "    if key.endswith('_value'):\n",
    "        metric_name = key.replace('_value', '')\n",
    "        unit_key = f\"{metric_name}_unit\"\n",
    "        if unit_key in data:\n",
    "            combined_metrics[metric_name] = f\"{data[key]} {data[unit_key]}\"\n",
    "\n",
    "# Display the results\n",
    "for metric, combined in combined_metrics.items():\n",
    "    print(f\"{metric.replace('_', ' ').capitalize()}: {combined}\")"
   ]
  },
  {
   "cell_type": "code",
   "execution_count": 35,
   "id": "4b8e0814",
   "metadata": {},
   "outputs": [],
   "source": [
    "combined_metrics['calulations_bmi'] = \"21.91 kg/m²\"\n",
    "combined_metrics['calulations_bmr'] = \"21.91 kg/m²\"\n",
    "combined_metrics['calulations_whr'] = \"21.91 kg/m²\""
   ]
  },
  {
   "cell_type": "markdown",
   "id": "03d891ac",
   "metadata": {},
   "source": [
    "Risk Info Data"
   ]
  },
  {
   "cell_type": "code",
   "execution_count": 45,
   "id": "f1a01600",
   "metadata": {},
   "outputs": [
    {
     "data": {
      "text/plain": [
       "dict_keys([\"select * from tbl_customer_risk_info_data where customer_id='261cb253-f11a-461c-9dc0-b608549c4454'\"])"
      ]
     },
     "execution_count": 45,
     "metadata": {},
     "output_type": "execute_result"
    }
   ],
   "source": [
    "profile_data.keys()"
   ]
  },
  {
   "cell_type": "code",
   "execution_count": 46,
   "id": "eb84fb70",
   "metadata": {},
   "outputs": [],
   "source": [
    "with open(r\"C:\\Users\\Vishwas\\Downloads\\Vishnu Sir json\\Vishnu Sir json\\tbl_customer_risk_info_data_202503101929.json\", 'r') as file:\n",
    "    profile_data = json.load(file)\n",
    "\n",
    "profile_data = profile_data[\"select * from tbl_customer_risk_info_data where customer_id='261cb253-f11a-461c-9dc0-b608549c4454'\"][0]\n",
    "for key in profile_data:\n",
    "    if key.endswith('_value'):\n",
    "        metric_name = key.replace('_value', '')\n",
    "        unit_key = f\"{metric_name}_unit\"\n",
    "        if unit_key in profile_data:\n",
    "            combined_metrics[metric_name] = f\"{profile_data[key]} {profile_data[unit_key]}\""
   ]
  },
  {
   "cell_type": "code",
   "execution_count": 47,
   "id": "473b7d99",
   "metadata": {},
   "outputs": [
    {
     "data": {
      "text/plain": [
       "{'spo2': '98 %',\n",
       " 'heart_rate': '63 bpm',\n",
       " 'blood_pressure_low': '110 bp',\n",
       " 'blood_pressure_high': '70 bp',\n",
       " 'height': '185 cm',\n",
       " 'weight': '75 kg',\n",
       " 'waist_circumference': '73 cm',\n",
       " 'hip_circumference': '81 cm',\n",
       " 'glucometer': '73 mg/dl',\n",
       " 'viscal_fat': '4.8 %',\n",
       " 'fat': '24 %',\n",
       " 'water': '56 %',\n",
       " 'resting_colories': '1523 kcal',\n",
       " 'metabolic_age': '40 years',\n",
       " 'subcutaneous_fat': '16 %',\n",
       " 'muscle_mass': '35 %',\n",
       " 'calulations_bmi': '21.91 kg/m²',\n",
       " 'calulations_bmr': '21.91 kg/m²',\n",
       " 'calulations_whr': '21.91 kg/m²',\n",
       " 'serum_triglycerides': '79 mg/dl',\n",
       " 'serum_hdl_cholesterol': '53 mg/dl',\n",
       " 'serum_fasting_plasma_glucose': '78.5 mg/dl',\n",
       " 'hba1c': '5.1 %'}"
      ]
     },
     "execution_count": 47,
     "metadata": {},
     "output_type": "execute_result"
    }
   ],
   "source": [
    "combined_metrics"
   ]
  },
  {
   "cell_type": "code",
   "execution_count": 48,
   "id": "8779018a",
   "metadata": {},
   "outputs": [],
   "source": [
    "combined_metrics['date_of_birth'] = \"1980-01-01\""
   ]
  },
  {
   "cell_type": "code",
   "execution_count": 49,
   "id": "9ec5e8df",
   "metadata": {},
   "outputs": [
    {
     "data": {
      "text/plain": [
       "{'spo2': '98 %',\n",
       " 'heart_rate': '63 bpm',\n",
       " 'blood_pressure_low': '110 bp',\n",
       " 'blood_pressure_high': '70 bp',\n",
       " 'height': '185 cm',\n",
       " 'weight': '75 kg',\n",
       " 'waist_circumference': '73 cm',\n",
       " 'hip_circumference': '81 cm',\n",
       " 'glucometer': '73 mg/dl',\n",
       " 'viscal_fat': '4.8 %',\n",
       " 'fat': '24 %',\n",
       " 'water': '56 %',\n",
       " 'resting_colories': '1523 kcal',\n",
       " 'metabolic_age': '40 years',\n",
       " 'subcutaneous_fat': '16 %',\n",
       " 'muscle_mass': '35 %',\n",
       " 'calulations_bmi': '21.91 kg/m²',\n",
       " 'calulations_bmr': '21.91 kg/m²',\n",
       " 'calulations_whr': '21.91 kg/m²',\n",
       " 'serum_triglycerides': '79 mg/dl',\n",
       " 'serum_hdl_cholesterol': '53 mg/dl',\n",
       " 'serum_fasting_plasma_glucose': '78.5 mg/dl',\n",
       " 'hba1c': '5.1 %',\n",
       " 'date_of_birth': '1980-01-01'}"
      ]
     },
     "execution_count": 49,
     "metadata": {},
     "output_type": "execute_result"
    }
   ],
   "source": [
    "combined_metrics"
   ]
  },
  {
   "cell_type": "code",
   "execution_count": 20,
   "id": "aa8fb94a",
   "metadata": {},
   "outputs": [
    {
     "name": "stdout",
     "output_type": "stream",
     "text": [
      "[01:00 - Glucose spike (142 mg/dL), likely due to banana at 01:00. Consider light activity to reduce levels.]\n",
      "\n",
      "[02:30 - Glucose drop (70 mg/dL), possibly due to no food intake. Have a small carb-rich snack.]\n",
      "\n",
      "[02:45 - Glucose drop (65 mg/dL), likely due to skipped lunch. Have a quick snack to stabilize levels.]\n"
     ]
    }
   ],
   "source": [
    "from openai import OpenAI\n",
    "import os\n",
    "from dotenv import load_dotenv\n",
    "load_dotenv()\n",
    "\n",
    "client = OpenAI( api_key=os.environ.get(\"OPENAI_API_KEY\"))\n",
    "\n",
    "completion = client.chat.completions.create(\n",
    "    temperature=0.5,\n",
    "    model=\"gpt-4o-mini\",\n",
    "    messages=[\n",
    "        {\"role\": \"system\", \n",
    "         \"content\": \n",
    "         \"\"\"\n",
    "              You are a smart glucose monitoring assistant. Analyze CGM data recorded every 15 minutes with corresponding meal intake. Only respond strictly if the glucose \n",
    "              level exceeds 140 mg/dL (spike) or drops below 70 mg/dL (hypoglycemia). Generate a short, user-friendly notification (max 30 words) that includes the timestamp, \n",
    "              glucose value, the most probable reason (e.g., recent food or skipped meal), and a brief suggestion to improve. Keep the message concise and suitable for a mobile \n",
    "              alert.\n",
    "            \"\"\n",
    "               Example Notification Output:\n",
    "                [12:15 - Glucose spike (146 mg/dL), likely due to banana at 01:00. Consider light activity to reduce levels.] (OR)\n",
    "\n",
    "                [01:45 - Glucose drop (60 mg/dL), possibly due to skipped lunch. Have a small carb-rich snack.]\n",
    "            \"\"\n",
    "        \"\"\"\n",
    "         },\n",
    "        {\n",
    "            \"role\": \"user\",\n",
    "            \"content\":\n",
    "            \"\"\"\n",
    "               Generate a medical summary based on the following continuous glucose monitoring (CGM) data recorded every 15 minutes over a 3-hour period: At 00:00, \n",
    "               the glucose level was 95 mg/dL with no food intake. At 00:15, it was 96 mg/dL with no food intake. At 00:30, the glucose level rose to 110 mg/dL after \n",
    "               consuming 1 boiled egg. At 00:45, it increased to 128 mg/dL following the intake of 2 slices of toast with jam. At 01:00, it spiked to 142 mg/dL after eating \n",
    "               1 banana. At 01:15, the level further rose to 148 mg/dL with no additional food consumed. At 01:30, it dropped to 135 mg/dL with no food intake. At 01:45, it \n",
    "               decreased to 120 mg/dL with no food consumed. At 02:00, the glucose level was 110 mg/dL with no food intake. At 02:15, it declined to 88 mg/dL. At 02:30, it was \n",
    "               70 mg/dL with no food intake. At 02:45, it dropped to 65 mg/dL after skipping lunch. At 03:00, the level slightly recovered to 72 mg/dL after drinking fruit juice.\n",
    "            \"\"\"\n",
    "        },\n",
    "    ],\n",
    ")\n",
    "\n",
    "print(completion.choices[0].message.content)"
   ]
  },
  {
   "cell_type": "markdown",
   "id": "1979d0e0",
   "metadata": {},
   "source": []
  }
 ],
 "metadata": {
  "kernelspec": {
   "display_name": "mcondaenv",
   "language": "python",
   "name": "python3"
  },
  "language_info": {
   "codemirror_mode": {
    "name": "ipython",
    "version": 3
   },
   "file_extension": ".py",
   "mimetype": "text/x-python",
   "name": "python",
   "nbconvert_exporter": "python",
   "pygments_lexer": "ipython3",
   "version": "3.12.4"
  }
 },
 "nbformat": 4,
 "nbformat_minor": 5
}
