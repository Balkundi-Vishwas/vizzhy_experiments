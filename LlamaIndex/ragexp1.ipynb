{
 "cells": [
  {
   "cell_type": "code",
   "execution_count": null,
   "id": "c5d7055c",
   "metadata": {},
   "outputs": [],
   "source": []
  },
  {
   "cell_type": "markdown",
   "id": "3a035e6d",
   "metadata": {},
   "source": []
  },
  {
   "cell_type": "code",
   "execution_count": null,
   "id": "ec0f7ae1",
   "metadata": {},
   "outputs": [],
   "source": [
    "llx-9dWvO6xfvxcnWFGarABHeXMe3y7bv8S3uKFN2D9DFGHApzmr"
   ]
  }
 ],
 "metadata": {
  "language_info": {
   "name": "python"
  }
 },
 "nbformat": 4,
 "nbformat_minor": 5
}
